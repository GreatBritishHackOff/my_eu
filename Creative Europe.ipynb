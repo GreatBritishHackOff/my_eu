{
 "cells": [
  {
   "cell_type": "code",
   "execution_count": null,
   "metadata": {},
   "outputs": [],
   "source": [
    "import json\n",
    "import math\n",
    "import re\n",
    "\n",
    "import pandas as pd\n",
    "import numpy as np\n",
    "import folium"
   ]
  },
  {
   "cell_type": "code",
   "execution_count": null,
   "metadata": {},
   "outputs": [],
   "source": [
    "creativeeurope = pd.read_excel('data/creative/input/CreativeEurope_Projects_Overview_2018-08-01.xls')\n",
    "creativeeurope.head()"
   ]
  },
  {
   "cell_type": "code",
   "execution_count": null,
   "metadata": {},
   "outputs": [],
   "source": [
    "list(creativeeurope)"
   ]
  },
  {
   "cell_type": "code",
   "execution_count": null,
   "metadata": {},
   "outputs": [],
   "source": [
    "creativeeurope.columns = [\n",
    "    re.sub(r'^Partner (\\d+) (.+)$', r'Partner_\\2_\\1', column)\n",
    "    for column in creativeeurope.columns\n",
    "]\n",
    "creativeeurope.head()"
   ]
  },
  {
   "cell_type": "code",
   "execution_count": null,
   "metadata": {},
   "outputs": [],
   "source": [
    "[creativeeurope.shape, creativeeurope['Project Number'].nunique()]"
   ]
  },
  {
   "cell_type": "code",
   "execution_count": null,
   "metadata": {},
   "outputs": [],
   "source": [
    "creativeeurope_long = pd.wide_to_long(\n",
    "    creativeeurope,\n",
    "    ['Partner_name','Partner_organisation type', 'Partner_address', 'Partner_country', 'Partner_region', 'Partner_website'],\n",
    "    'Project Number', 'partner_number',\n",
    "    sep='_'\n",
    ")\n",
    "creativeeurope_long"
   ]
  },
  {
   "cell_type": "code",
   "execution_count": null,
   "metadata": {},
   "outputs": [],
   "source": [
    "\n",
    "creativeeurope_long_uk = creativeeurope_long[creativeeurope_long.Partner_country == 'UK']\n",
    "creativeeurope_long_uk.shape"
   ]
  },
  {
   "cell_type": "code",
   "execution_count": null,
   "metadata": {},
   "outputs": [],
   "source": [
    "creativeeurope_long_uk['postcode'] = creativeeurope_long_uk.Partner_address.str.extract(r'.*\\b(\\w{1,4}\\s*\\d\\w\\w)\\b.*')[0].str.strip().str.replace(' ', '')\n",
    "\n",
    "creativeeurope_long_uk.head()"
   ]
  },
  {
   "cell_type": "code",
   "execution_count": null,
   "metadata": {},
   "outputs": [],
   "source": [
    "postcodes = pd.read_csv('data/postcodes/input/ukpostcodes.csv')"
   ]
  },
  {
   "cell_type": "code",
   "execution_count": null,
   "metadata": {},
   "outputs": [],
   "source": [
    "postcodes['postcode'] = postcodes.postcode.str.strip().str.replace(' ', '')"
   ]
  },
  {
   "cell_type": "code",
   "execution_count": null,
   "metadata": {},
   "outputs": [],
   "source": [
    "creativeeurope_long_uk =  pd.merge(creativeeurope_long_uk, postcodes,  left_on=['postcode'], right_on=['postcode'])\n",
    "\n",
    "creativeeurope_long_uk.head()"
   ]
  },
  {
   "cell_type": "code",
   "execution_count": null,
   "metadata": {},
   "outputs": [],
   "source": [
    "list(creativeeurope_long_uk)"
   ]
  },
  {
   "cell_type": "code",
   "execution_count": null,
   "metadata": {},
   "outputs": [],
   "source": [
    "def make_creative_data_geo_json(coordis_data):\n",
    "    def make_feature(row):\n",
    "        properties = {\n",
    "            property: row[property]\n",
    "            for property in ['Project Title', 'Partner_name', 'Partner_website', \"EU Grant award in euros (This amount represents the grant awarded after the selection stage and is indicative. Please note that any changes made during or after the project's lifetime will not be reflected here.)\", \"Coordinator's name\"]\n",
    "            if str(row[property]) != 'nan'\n",
    "        }\n",
    "\n",
    "        return {\n",
    "            'type': 'Feature',\n",
    "            'geometry': {\n",
    "                \"type\": \"Point\",\n",
    "                \"coordinates\": [row['longitude'], row['latitude']]\n",
    "            },\n",
    "            'properties': properties\n",
    "        }\n",
    "    features = list(coordis_data.apply(make_feature, axis=1))\n",
    "    return { 'type': 'FeatureCollection', 'features': features }\n",
    "with open('data/creative/output/creative_data.geo.json', 'w') as file:\n",
    "    json.dump(make_creative_data_geo_json(\n",
    "        creativeeurope_long_uk[~pd.isnull(creativeeurope_long_uk['latitude'])]\n",
    "    ), file, sort_keys=True)"
   ]
  },
  {
   "cell_type": "code",
   "execution_count": null,
   "metadata": {},
   "outputs": [],
   "source": [
    "creativeeurope.shape"
   ]
  },
  {
   "cell_type": "code",
   "execution_count": null,
   "metadata": {},
   "outputs": [],
   "source": [
    "creativeeurope = creativeeurope.rename(index=str, columns={\"Coordinator's address\": \"coordinators_address\", \"Coordinator's country\": \"coordinators_country\"})\n",
    "creativeeurope = creativeeurope[creativeeurope.coordinators_country == 'UK']\n",
    "\n",
    "creativeeurope['postcode'] = creativeeurope.coordinators_address.str.extract(r'.*\\b(\\w{1,4}\\s*\\d\\w\\w)\\b.*')[0].str.strip().str.replace(' ', '')\n",
    "\n",
    "creativeeurope.head()"
   ]
  },
  {
   "cell_type": "code",
   "execution_count": null,
   "metadata": {},
   "outputs": [],
   "source": [
    "creativeeurope =  pd.merge(creativeeurope, postcodes,  left_on=['postcode'], right_on=['postcode'])\n",
    " \n",
    "creativeeurope.head()"
   ]
  },
  {
   "cell_type": "code",
   "execution_count": null,
   "metadata": {},
   "outputs": [],
   "source": []
  },
  {
   "cell_type": "code",
   "execution_count": null,
   "metadata": {},
   "outputs": [],
   "source": []
  }
 ],
 "metadata": {
  "kernelspec": {
   "display_name": "Python 3",
   "language": "python",
   "name": "python3"
  },
  "language_info": {
   "codemirror_mode": {
    "name": "ipython",
    "version": 3
   },
   "file_extension": ".py",
   "mimetype": "text/x-python",
   "name": "python",
   "nbconvert_exporter": "python",
   "pygments_lexer": "ipython3",
   "version": "3.6.5"
  }
 },
 "nbformat": 4,
 "nbformat_minor": 2
}
