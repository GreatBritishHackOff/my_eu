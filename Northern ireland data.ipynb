{
 "cells": [
  {
   "cell_type": "code",
   "execution_count": null,
   "metadata": {},
   "outputs": [],
   "source": [
    "import json\n",
    "import math\n",
    "\n",
    "import pandas as pd\n",
    "import numpy as np\n",
    "import folium"
   ]
  },
  {
   "cell_type": "code",
   "execution_count": null,
   "metadata": {},
   "outputs": [],
   "source": [
    "funding = pd.read_excel('data/ESF-Call-1-Successful-applications-by-Constituency-and-Council.XLS', skiprows=3)\n",
    "funding.head()"
   ]
  },
  {
   "cell_type": "code",
   "execution_count": null,
   "metadata": {},
   "outputs": [],
   "source": [
    "funding.columns"
   ]
  },
  {
   "cell_type": "code",
   "execution_count": null,
   "metadata": {},
   "outputs": [],
   "source": [
    "#Just look at the columns we're interested in, rename them and remove null rows. Also clean Org name\n",
    "ni_funding_call1_2014 = funding[['ORGANISATION NAME', 'PROJECT TITLE', 'TOTAL ELIGIBLE PROJECT COST\\n', 'ESF SOUGHT\\n']]\n",
    "ni_funding_call1_2014 = ni_funding_call1_2014.rename(index=str, columns={'TOTAL ELIGIBLE PROJECT COST\\n': 'Total Eligible Project Cost', 'ESF SOUGHT\\n': 'Contribution Sought', 'ORGANISATION NAME': 'Organisation Name', 'PROJECT TITLE': 'Project Title'})\n",
    "ni_funding_call1_2014 = ni_funding_call1_2014[~ni_funding_call1_2014['Organisation Name'].isnull()]\n",
    "ni_funding_call1_2014['Organisation Name'] = ni_funding_call1_2014['Organisation Name'].str.replace(\"THE\", \"\").str.replace(\"LIMITED\", \"\").str.replace(\"PLC\", \"\").str.replace(\"LLC\", \"\").str.replace(\"LBG\", \"\").str.replace(\"LTD\", \"\").str.strip().str.upper()\n",
    "ni_funding_call1_2014.head()"
   ]
  },
  {
   "cell_type": "code",
   "execution_count": null,
   "metadata": {},
   "outputs": [],
   "source": [
    "ni_funding_call2_2014 = pd.read_excel('data/ESF-Call-2-successful-applications-by-constituency-and-council-area.xls', skiprows=2)\n",
    "ni_funding_call2_2014.head()"
   ]
  },
  {
   "cell_type": "code",
   "execution_count": null,
   "metadata": {},
   "outputs": [],
   "source": [
    "ni_funding_call2_2014.columns\n"
   ]
  },
  {
   "cell_type": "code",
   "execution_count": null,
   "metadata": {},
   "outputs": [],
   "source": [
    "#Just look at the columns we're interested in and rename them. Also clean Org name\n",
    "\n",
    "ni_funding_call2_2014 = ni_funding_call2_2014[['Organisation Name', 'Project Title', 'Investment Priority', 'Total Eligible Project Cost', 'Programme Contribution (EU and DfE) - 65%']]\n",
    "ni_funding_call2_2014 = ni_funding_call2_2014.rename(index=str, columns={'Programme Contribution (EU and DfE) - 65%': 'Contribution Sought'})\n",
    "ni_funding_call2_2014['Organisation Name'] = ni_funding_call2_2014['Organisation Name'].str.replace(\"THE\", \"\").str.replace(\"LIMITED\", \"\").str.replace(\"PLC\", \"\").str.replace(\"LLC\", \"\").str.replace(\"LBG\", \"\").str.replace(\"LTD\", \"\").str.strip().str.upper()\n",
    "ni_funding_call2_2014.head()"
   ]
  },
  {
   "cell_type": "code",
   "execution_count": null,
   "metadata": {},
   "outputs": [],
   "source": [
    "#Concatenate the data for call 1 and call 2 \n",
    "ni_funding_2014 = pd.concat([ni_funding_call2_2014, ni_funding_call1_2014], sort=True)\n",
    "ni_funding_2014.sort_values(axis=0, by='Organisation Name')[1:5]"
   ]
  },
  {
   "cell_type": "code",
   "execution_count": null,
   "metadata": {},
   "outputs": [],
   "source": [
    "#manually find locations for all NI organisations\n",
    "niLocations = pd.DataFrame([('ACCEPTABLE ENTERPRISES', ' BT403AW'),\n",
    "            ('ACCEPTABLE ENTERPRISES LTD', ' BT403AW'),       \n",
    "           ('ACCESS CENTRE LTD', 'BT152GG'),\n",
    "           ('ACCESS CENTRE NI', 'BT152GG'),\n",
    "           ('ACTION DEAF YOUTH', 'BT42LS'),\n",
    "           ('ACTION MENTAL HEALTH', 'BT234YH'),\n",
    "           ('ACTION ON HEARING LOSS', 'BT28GA'),\n",
    "           ('ACTION ON HEARING LOSS (FORMERLY RNID)', 'BT28GA'),\n",
    "           ('ACTIVE COMMUNITIES NETWORK LIMITED', 'BT132JF'),\n",
    "           ('APPLEBY CAREERS PROJECT LTD', 'BT617AE'),\n",
    "           ('ASHTON COMMUNITY TRUST', 'BT152BP'),\n",
    "           ('ASSOCIATION FOR REAL CHANGE NI', 'BT126TA'),\n",
    "           ('BARNARDOS', 'BT43HE'),\n",
    "           ('BRYSON CHARITABLE GROUP', 'BT27FE'),\n",
    "           ('CLANRYE GROUP', 'BT358SW'),                            \n",
    "           ('COMPASS ADVOCACY NETWORK', 'BT536JR'),\n",
    "           ('COMPASS ADVOCACY NETWORK (CAN)', 'BT536JR'),                           \n",
    "           ('CUSTOMISED TRAINING SERVICES', 'BT828AS'),                           \n",
    "           ('DERRY & STRABANE DISTRICT COUNCIL', 'BT487NN'),                           \n",
    "           ('DERRY YOUTH & COMMUNITY WORKSHOP LIMITED', 'BT486PJ'),                           \n",
    "           ('DERRY YOUTH AND COMMUNITY WORKSHOP LTD', 'BT486PJ'),\n",
    "           ('DFPF LTD T/A PEOPLE 1ST', 'BT96SP'),                           \n",
    "           ('DISABILITY ACTION', 'BT39ED'),                           \n",
    "           ('ENTERPRISE NORTHERN IRELAND', 'BT490HE'),                           \n",
    "           ('ENTERPRISE NORTHERN IRELAND LTD', 'BT490HE'),                           \n",
    "           ('EXTERN GROUP', 'BT364PE'),                           \n",
    "           ('EXTERN N.I.', 'BT364PE'),                            \n",
    "           ('EXTERN NORTHERN IRELAND', 'BT364PE'),                            \n",
    "           ('FERMANAGH & OMAGH DISTRICT COUNCIL (FODC)', 'BT797BL'),                            \n",
    "           ('FERMANAGH AND OMAGH DISTRICT COUNCIL', 'BT797BL'), \n",
    "           ('FIRST STEPS WOMEN CENTRE (FSWC)', 'BT701DX'),                            \n",
    "           ('FIRST STEPS WOMEN\\'S CENTRE', 'BT701DX'),                            \n",
    "           ('GEMS NORTHERN IRELAND LTD', 'BT27DB'),                            \n",
    "           ('GREENLIGHT GATEWAY', 'BT546EZ'),                            \n",
    "           ('INCLUDE YOUTH', 'BT11QA'),                            \n",
    "           ('JOB DIRECTIONS LTD', 'BT828AR'),                            \n",
    "           ('KILCOOLEY WOMENS CENTRE', 'BT191QS'),\n",
    "           ('LIMAVADY COMMUNITY DEVELOPMENT INITIATIVE (LCDI)', 'BT490AQ'),                           \n",
    "           ('MENCAP', 'BT86BT'),                          \n",
    "           ('NETWORK PERSONNEL', 'BT455AJ'),                           \n",
    "           ('NETWORK PERSONNEL (NP)', 'BT455AJ'),                           \n",
    "           ('NETWORK PERSONNEL LTD', 'BT455AJ'),                           \n",
    "           ('NETWORK PERSONNEL LTD.', 'BT455AJ'),                           \n",
    "           ('NIACRO', 'BT27GS'),                                       \n",
    "           ('NOW GROUP', 'BBT124GN'),\n",
    "           ('NOW PROJECT LTD T/A NOW GROUP', 'BBT124GN'),                           \n",
    "           ('PEOPLEPLUS (WORKS) NI LIMITED', 'BT490LP'), \n",
    "           ('Poleglass Community Association @ Sally Gardens (PCA)', 'BT170UJ'),                             \n",
    "           ('RAPID', 'BT96EU'),                            \n",
    "           ('RAPID LTD', 'BT96EU'),                             \n",
    "           ('RCD/4RS', 'BT480LU'),                             \n",
    "           ('RCD/4RS REUSE WORKSHOP', 'BT480LU'), \n",
    "           ('REED IN PARTNERSHIP', 'BT323HA'),                             \n",
    "           ('RNIB', 'BT14LS'),                             \n",
    "           ('RNIB NORTHERN IRELAND', 'BT14LS'),                             \n",
    "           ('ROE VALLEY COMMUNITY EDUCATION FORUM LTD', 'BT499BG'),                             \n",
    "           ('SHANKILL WOMEN\\'S CENTRE', 'BT131FD'),                             \n",
    "           ('SOMETHING SPECIAL', 'BT41NT'),   \n",
    "           ('SOUTH WEST COLLEGE', 'BT808DN'),                               \n",
    "           ('SOUTH WEST COLLEGE (SWC)', 'BT808DN'),                               \n",
    "           ('SOUTHERN REGIONAL COLLEGE', 'BT617HF'),                               \n",
    "           ('SPECIALISTERNE NI C.I.C', 'BT41AF'),                               \n",
    "           ('SPRINGBOARD OPPORTUNITIES LIMITED', 'BT12GX'),                               \n",
    "           ('SPRINGBOARD OPPORTUNITIES LTD', 'BT12GX'),                               \n",
    "           ('START360', 'BT11PR'),                               \n",
    "           ('STEPPING STONES NI', 'BT274AA'),                               \n",
    "           ('THE ADVANTAGE FOUNDATION LTD', 'BT388GX'),                               \n",
    "           ('THE APPLEBY TRUST', 'BT617AE'),   \n",
    "           ('THE CEDAR FOUNDATION', 'BT97AS'),                              \n",
    "           ('THE CONSERVATION VOLUNTEERS', 'BT60BP'),                              \n",
    "           ('THE CONSERVATION VOLUNTEERS (TCV)', 'BT60BP'),                              \n",
    "           ('THE ORCHARDVILLE SOCIETY', 'BT68ED'),                              \n",
    "           ('THE PRINCES TRUST', 'BT125GH'),                              \n",
    "           ('THE WOMEN\\'S CENTRE DERRY', 'BT486BB'),                              \n",
    "           ('TRAINING FOR WOMEN NETWORK LTD', 'BT41NY'),         \n",
    "           ('TRIANGLE HOUSING ASSOCIATION LTD', 'BT536BD'),                              \n",
    "           ('TRIAX', 'BT489LH'),                              \n",
    "           ('TYRONE DONEGAL PARTNERSHIP', 'BT785LU'),                              \n",
    "           ('ULSTER SUPPORTED EMPLOYMENT LIMITED', 'BT133JH'),                              \n",
    "           ('UPPER SPRINGFIELD DEVELOPMENT TRUST', 'BT127FP'),                              \n",
    "           ('UPPER SPRINGFIELD DEVELOPMENT TRUST (USDT)', 'BT127FP'),                              \n",
    "           ('USEL', 'BT133JH'),                              \n",
    "           ('WADE TRAINING LTD', 'BT621BA'),                              \n",
    "           ('WOMEN IN BUSINESS NI', 'BT27AQ'),                              \n",
    "           ('WOMEN\\'S TEC', 'BT155EH'),                              \n",
    "           ('WOMEN’S CENTRE DERRY', 'BT486BB'),                              \n",
    "           ('WORKFORCE TRAINING SERVICES', 'BT127AJ'),                              \n",
    "           ('YOUTH ACTION NORTHERN IRELAND', 'BT16AS'),                              \n",
    "           ('YOUTHACTION NORTHERN IRELAND LTD', 'BT16AS')           \n",
    "                            \n",
    "                           ],    \n",
    "columns=['Organisation Name', 'postcode1'])\n",
    "niLocations.head()\n"
   ]
  },
  {
   "cell_type": "markdown",
   "metadata": {},
   "source": [
    "CUSTOMISED TRAINING SERVICES has more locations. So do DISABILITY ACTION, FERMANAGH AND OMAGH DISTRICT COUNCIL, INCLUDE YOUTH, MENCAP, PEOPLEPLUS (WORKS) NI LIMITED\tTHE CONSERVATION VOLUNTEERS\t"
   ]
  },
  {
   "cell_type": "code",
   "execution_count": null,
   "metadata": {},
   "outputs": [],
   "source": [
    "ni_funding_2014 = pd.merge(ni_funding_2014, niLocations, how='left', left_on='Organisation Name', right_on='Organisation Name')\n",
    "ni_funding_2014.shape"
   ]
  },
  {
   "cell_type": "code",
   "execution_count": null,
   "metadata": {},
   "outputs": [],
   "source": [
    "postcodes = pd.read_csv('data/ukpostcodes.csv')"
   ]
  },
  {
   "cell_type": "code",
   "execution_count": null,
   "metadata": {},
   "outputs": [],
   "source": [
    "postcodes['postcode'] = postcodes.postcode.str.strip().str.replace(' ', '')"
   ]
  },
  {
   "cell_type": "code",
   "execution_count": null,
   "metadata": {},
   "outputs": [],
   "source": [
    "ni_funding_2014 =  pd.merge(ni_funding_2014, postcodes,  left_on=['postcode1'], right_on=['postcode'])"
   ]
  },
  {
   "cell_type": "code",
   "execution_count": null,
   "metadata": {},
   "outputs": [],
   "source": [
    "def make_ni_data_geo_json(coordis_data):\n",
    "    def make_feature(row):\n",
    "        properties = {\n",
    "            property: row[property]\n",
    "            for property in ['Organisation Name', 'Project Title', 'Total Eligible Project Cost', 'Contribution Sought']\n",
    "            if str(row[property]) != 'nan'\n",
    "        }\n",
    "\n",
    "        return {\n",
    "            'type': 'Feature',\n",
    "            'geometry': {\n",
    "                \"type\": \"Point\",\n",
    "                \"coordinates\": [row['longitude'], row['latitude']]\n",
    "            },\n",
    "            'properties': properties\n",
    "        }\n",
    "    features = list(coordis_data.apply(make_feature, axis=1))\n",
    "    return { 'type': 'FeatureCollection', 'features': features }\n",
    "with open('data/ni_data.geo.json', 'w') as file:\n",
    "    json.dump(make_ni_data_geo_json(\n",
    "        ni_funding_2014[~pd.isnull(ni_funding_2014['latitude'])]\n",
    "    ), file, sort_keys=True)"
   ]
  },
  {
   "cell_type": "code",
   "execution_count": null,
   "metadata": {},
   "outputs": [],
   "source": []
  }
 ],
 "metadata": {
  "kernelspec": {
   "display_name": "Python 3",
   "language": "python",
   "name": "python3"
  },
  "language_info": {
   "codemirror_mode": {
    "name": "ipython",
    "version": 3
   },
   "file_extension": ".py",
   "mimetype": "text/x-python",
   "name": "python",
   "nbconvert_exporter": "python",
   "pygments_lexer": "ipython3",
   "version": "3.6.5"
  }
 },
 "nbformat": 4,
 "nbformat_minor": 2
}
