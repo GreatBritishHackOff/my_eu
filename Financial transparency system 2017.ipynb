{
 "cells": [
  {
   "cell_type": "code",
   "execution_count": null,
   "metadata": {},
   "outputs": [],
   "source": [
    "import json\n",
    "import math\n",
    "import re\n",
    "\n",
    "import pandas as pd\n",
    "import numpy as np"
   ]
  },
  {
   "cell_type": "code",
   "execution_count": null,
   "metadata": {},
   "outputs": [],
   "source": [
    "#import the data for 2017\n",
    "fts_bgue_2017 = pd.read_excel('data/fts/input/export_2017_en.xlsx')\n",
    "fts_bgue_2017.shape"
   ]
  },
  {
   "cell_type": "code",
   "execution_count": null,
   "metadata": {},
   "outputs": [],
   "source": [
    "fts_bgue_2017.columns"
   ]
  },
  {
   "cell_type": "code",
   "execution_count": null,
   "metadata": {},
   "outputs": [],
   "source": [
    "#rename columns to more usable format\n",
    "\n",
    "fts_bgue_2017=fts_bgue_2017.rename(index=str, columns={'Country / Territory': 'country', \n",
    "        'Reference of the Legal Commitment (LC)': 'reference_of_lc', \n",
    "        'Commitment position key': 'commitment_position_key',\n",
    "       'Name of beneficiary': 'name_of_beneficiary',\n",
    "       'VAT Number of beneficiary': 'beneficiary_vat', \n",
    "        'Postal code': 'postcode',\n",
    "       'Source of (estimated) detailed amount': 'source_of_amount', \n",
    "        'Geographical Zone': 'geographical_zone',\n",
    "       'Expense Type': 'expense_type', 'Total amount': 'total_amount', \n",
    "        'Subject of grant or contract':'subject_of_grant_or_contract',\n",
    "       'Responsible Department': 'responsible_department', \n",
    "        'Budget line name and number': 'budget_line_name_and_number', 'Action Type': 'action_type',\n",
    "       'Funding Type': 'funding_type', 'LE Acct Group Code': 'le_acct_group_code', \n",
    "        'LE Acct Group Desc': 'le_acct_group_desc'})"
   ]
  },
  {
   "cell_type": "code",
   "execution_count": null,
   "metadata": {},
   "outputs": [],
   "source": [
    "#is this column being used at all?\n",
    "fts_bgue_2017.reference_of_lc.unique()"
   ]
  },
  {
   "cell_type": "markdown",
   "metadata": {},
   "source": [
    "Oh, it is in the 2017 data, interesting, wasn't there in the 2016 data"
   ]
  },
  {
   "cell_type": "code",
   "execution_count": null,
   "metadata": {},
   "outputs": [],
   "source": [
    "#forward fill amounts, as there are merged cells in the original 2017 database which are being filled with NaNs\n",
    "\n",
    "\n",
    "fts_bgue_2017.commitment_position_key = pd.Series(fts_bgue_2017.commitment_position_key).fillna(method='ffill')\n",
    "fts_bgue_2017.Year = pd.Series(fts_bgue_2017.Year).fillna(method='ffill')\n",
    "fts_bgue_2017.expense_type = pd.Series(fts_bgue_2017.expense_type).fillna(method='ffill')\n",
    "fts_bgue_2017.subject_of_grant_or_contract = pd.Series(fts_bgue_2017.subject_of_grant_or_contract).fillna(method='ffill')\n",
    "fts_bgue_2017.responsible_department = pd.Series(fts_bgue_2017.responsible_department).fillna(method='ffill')\n",
    "fts_bgue_2017.budget_line_name_and_number = pd.Series(fts_bgue_2017.budget_line_name_and_number).fillna(method='ffill')\n",
    "fts_bgue_2017.action_type = pd.Series(fts_bgue_2017.action_type).fillna(method='ffill')\n",
    "fts_bgue_2017.funding_type = pd.Series(fts_bgue_2017.funding_type).fillna(method='ffill')\n"
   ]
  },
  {
   "cell_type": "code",
   "execution_count": null,
   "metadata": {},
   "outputs": [],
   "source": [
    "#filter just UK funding\n",
    "\n",
    "fts_bgue_2017 = fts_bgue_2017[fts_bgue_2017.country == 'United Kingdom']\n",
    "fts_bgue_2017.shape"
   ]
  },
  {
   "cell_type": "code",
   "execution_count": null,
   "metadata": {},
   "outputs": [],
   "source": [
    "fts_bgue_2017.head()"
   ]
  },
  {
   "cell_type": "code",
   "execution_count": null,
   "metadata": {},
   "outputs": [],
   "source": [
    "#drop columns we're not interested in\n",
    "\n",
    "fts_bgue_2017 = fts_bgue_2017.drop(['Address', 'City', 'reference_of_lc', 'commitment_position_key', 'beneficiary_vat', 'geographical_zone'], axis=1)\n"
   ]
  },
  {
   "cell_type": "code",
   "execution_count": null,
   "metadata": {},
   "outputs": [],
   "source": [
    "fts_bgue_2017[(fts_bgue_2017.Amount != 0.0) & ~pd.isnull(fts_bgue_2017.Amount) ].count()"
   ]
  },
  {
   "cell_type": "code",
   "execution_count": null,
   "metadata": {},
   "outputs": [],
   "source": [
    "fts_bgue_2017_amounts = fts_bgue_2017[(fts_bgue_2017.Amount != 0.0) & ~pd.isnull(fts_bgue_2017.Amount) ].copy()"
   ]
  },
  {
   "cell_type": "code",
   "execution_count": null,
   "metadata": {},
   "outputs": [],
   "source": [
    "fts_bgue_2017_amounts['postcode'] = fts_bgue_2017_amounts.postcode.str.strip().str.replace(' ', '')"
   ]
  },
  {
   "cell_type": "code",
   "execution_count": null,
   "metadata": {},
   "outputs": [],
   "source": [
    "postcodes = pd.read_csv('data/postcodes/input/ukpostcodes.csv')"
   ]
  },
  {
   "cell_type": "code",
   "execution_count": null,
   "metadata": {},
   "outputs": [],
   "source": [
    "postcodes['postcode'] = postcodes.postcode.str.strip().str.replace(' ', '')"
   ]
  },
  {
   "cell_type": "code",
   "execution_count": null,
   "metadata": {},
   "outputs": [],
   "source": [
    "fts_bgue_2017_amounts =  pd.merge(fts_bgue_2017_amounts, postcodes,  left_on=['postcode'], right_on=['postcode'])\n"
   ]
  },
  {
   "cell_type": "code",
   "execution_count": null,
   "metadata": {},
   "outputs": [],
   "source": [
    "fts_bgue_2017_amounts.shape"
   ]
  },
  {
   "cell_type": "code",
   "execution_count": null,
   "metadata": {},
   "outputs": [],
   "source": [
    "fts_bgue_2017_amounts[fts_bgue_2017_amounts.name_of_beneficiary == 'THE UBELE INITIATIVE']"
   ]
  },
  {
   "cell_type": "code",
   "execution_count": null,
   "metadata": {},
   "outputs": [],
   "source": [
    "def make_fts2017_data_geo_json(coordis_data):\n",
    "    def make_feature(row):\n",
    "        properties = {\n",
    "            property: row[property]\n",
    "            for property in ['name_of_beneficiary', 'Amount', 'budget_line_name_and_number', 'Year']\n",
    "            if str(row[property]) != 'nan'\n",
    "        }\n",
    "\n",
    "        return {\n",
    "            'type': 'Feature',\n",
    "            'geometry': {\n",
    "                \"type\": \"Point\",\n",
    "                \"coordinates\": [row['longitude'], row['latitude']]\n",
    "            },\n",
    "            'properties': properties\n",
    "        }\n",
    "    features = list(coordis_data.apply(make_feature, axis=1))\n",
    "    return { 'type': 'FeatureCollection', 'features': features }\n",
    "with open('data/fts/output/fts2017_data.geo.json', 'w') as file:\n",
    "    json.dump(make_fts2017_data_geo_json(\n",
    "        fts_bgue_2017_amounts[~pd.isnull(fts_bgue_2017_amounts['latitude'])]\n",
    "    ), file, sort_keys=True)"
   ]
  },
  {
   "cell_type": "code",
   "execution_count": null,
   "metadata": {},
   "outputs": [],
   "source": []
  }
 ],
 "metadata": {
  "kernelspec": {
   "display_name": "Python 3",
   "language": "python",
   "name": "python3"
  },
  "language_info": {
   "codemirror_mode": {
    "name": "ipython",
    "version": 3
   },
   "file_extension": ".py",
   "mimetype": "text/x-python",
   "name": "python",
   "nbconvert_exporter": "python",
   "pygments_lexer": "ipython3",
   "version": "3.6.5"
  }
 },
 "nbformat": 4,
 "nbformat_minor": 2
}
