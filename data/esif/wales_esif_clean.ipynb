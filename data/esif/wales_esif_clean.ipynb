{
 "cells": [
  {
   "cell_type": "code",
   "execution_count": null,
   "metadata": {},
   "outputs": [],
   "source": [
    "import json\n",
    "import re\n",
    "\n",
    "import pandas as pd"
   ]
  },
  {
   "cell_type": "markdown",
   "metadata": {},
   "source": [
    "### Import ESIF data"
   ]
  },
  {
   "cell_type": "code",
   "execution_count": null,
   "metadata": {},
   "outputs": [],
   "source": [
    "wales = pd.read_excel('input/wales-approved-projects-2015.xlsx')\n",
    "wales.head()"
   ]
  },
  {
   "cell_type": "code",
   "execution_count": null,
   "metadata": {},
   "outputs": [],
   "source": [
    "#remove title lines\n",
    "wales = wales[~wales['EU Programme'].isnull()]"
   ]
  },
  {
   "cell_type": "markdown",
   "metadata": {},
   "source": [
    "### Manually put in postcodes\n",
    "\n",
    "Initially I tried to merge with GRID data, but this proved inefficient"
   ]
  },
  {
   "cell_type": "code",
   "execution_count": null,
   "metadata": {},
   "outputs": [],
   "source": [
    "wales.shape"
   ]
  },
  {
   "cell_type": "code",
   "execution_count": null,
   "metadata": {},
   "outputs": [],
   "source": [
    "wales[['Lead Organisation']].sort_values(axis=0, by='Lead Organisation').tail(40)"
   ]
  },
  {
   "cell_type": "code",
   "execution_count": null,
   "metadata": {},
   "outputs": [],
   "source": [
    "walesLocations = pd.DataFrame([('Aberystwyth Innovation and Enterprise Campus Ltd', 'SY233EE'),\n",
    "            ('Aberystwyth University', 'SY23 3FL'),\n",
    "           ('Bangor University', 'LL572DG'),\n",
    "           ('Blaenau Gwent County Borough Council', 'NP236XB'),\n",
    "           ('Bridgend County Borough Council', 'CF314WB'),\n",
    "           ('Caerphilly County Borough Council', 'CF827PG', 'CF827PG', 'CF827WF'),\n",
    "           ('Cardiff University', 'CF103AT'),\n",
    "           ('Cardiff Metropolitan University', 'CF52YB'),\n",
    "           ('Carmarthenshire County Council', 'SA183EL'),\n",
    "           ('Ceredigion County Council', 'SY233UE'),\n",
    "           ('Chwarae Teg', 'CF245JW'),\n",
    "           ('Coleg Cambria', 'LL137UH', 'CH5 4BR', 'LL152LB', 'CH76AA'),\n",
    "           ('Coleg Gwent', 'NP19 4TS'),\n",
    "           ('Coleg Y Cymoedd', 'CF818RD', 'CF448EN', 'CF157QY', 'CF827XR'),\n",
    "           ('Conwy County Borough Council', 'LL328DU'),\n",
    "           ('Denbighshire County Borough Council', 'LL159AZ'),\n",
    "           ('Engineering Education Scheme Wales', 'CF313WT'),       \n",
    "           ('Finance Wales Plc', 'CF104BZ', 'SA148LQ', 'SY161RB', 'LL170JD'),  \n",
    "           ('Gower College Swansea', 'SA2 9EB', 'SA4 6RD', 'SA1 4QA'),\n",
    "            ('Grwp Llandrillo-Menai', 'LL284HZ', 'LL572TP', 'LL402SW'),\n",
    "           ('Higher Education Funding Council for Wales', 'CF83 8WT'),\n",
    "           ('Isle of Anglesey County Council', 'LL777TW'),\n",
    "            ('Marine Power Systems Limited', 'SA18AS'),\n",
    "            ('Menter Mon', 'LL777LR'),\n",
    "            ('Minesto UK LTD', 'LL651UN', 'BT221NZ'),\n",
    "            ('Neath Port Talbot County Borough Council', 'SA131PJ'), \n",
    "            ('Newport City Council', 'NP204UR'),\n",
    "            ('Pembrokeshire Coastal Forum', 'SA726UL'),\n",
    "            ('Pembrokeshire County Council', 'SA611TP'), \n",
    "            ('Powys County Council', 'LD15LG'),\n",
    "            ('Rhondda Cynon Taff Council', 'CF402XX'),\n",
    "            ('SOVA', 'CF101FE'),\n",
    "            ('Swansea Council', 'SA13SN'),\n",
    "            ('Swansea University', 'SA2 8PP'),\n",
    "            ('TWI Ltd', 'SA131SB'),\n",
    "            ('Torfaen County Borough Council', 'NP46YB'),\n",
    "            ('University of South Wales', 'CF37 1DL'),\n",
    "            ('University of Wales Trinity Saint David', 'SA487ED'),\n",
    "            ('WG - Department for Education and Skills', 'CF103NQ'),\n",
    "            ('WG - Department for Health and Social Services', 'CF103NQ'),\n",
    "            ('WG - Department of Local Government and Communities', 'CF103NQ'),\n",
    "    ('WG - Department for Economy, Science and Transport', 'CF103NQ'),      \n",
    "           ('Wales Co operative Centre', 'CF832AX'),\n",
    "            ('Wales Council for Voluntary Action', 'CF832AX', 'CF105FH', 'SY233AH'),\n",
    "            ('Wave Hub Limited', 'TR274DD'),\n",
    "            ('Wave-Tricity Limited', 'SA726YH'),\n",
    "            ('Welsh Contact Centre Forum Ltd', 'CF642AG')\n",
    "\n",
    " \n",
    "], \n",
    "          \n",
    "          columns=['Lead Organisation', 'postcode', 'postcode2', 'postcode3', 'postcode4'])\n",
    "walesLocations.head()"
   ]
  },
  {
   "cell_type": "markdown",
   "metadata": {},
   "source": [
    "Not found             ('WAG The Economic Development Group within DEandT'), WAG DEandT WEFO. More locations for Gower College Swansea\n"
   ]
  },
  {
   "cell_type": "markdown",
   "metadata": {},
   "source": [
    "### Merge back together and rename"
   ]
  },
  {
   "cell_type": "code",
   "execution_count": null,
   "metadata": {},
   "outputs": [],
   "source": [
    "wales_locations = pd.merge(wales, walesLocations, how='left', left_on='Lead Organisation', right_on='Lead Organisation')\n",
    "wales_locations.shape"
   ]
  },
  {
   "cell_type": "code",
   "execution_count": null,
   "metadata": {},
   "outputs": [],
   "source": [
    "wales_locations.columns"
   ]
  },
  {
   "cell_type": "code",
   "execution_count": null,
   "metadata": {},
   "outputs": [],
   "source": [
    "wales_locations[wales_locations.postcode.isnull()][['Lead Organisation']].sort_values(axis=0, by='Lead Organisation').head(40)"
   ]
  },
  {
   "cell_type": "code",
   "execution_count": null,
   "metadata": {},
   "outputs": [],
   "source": []
  },
  {
   "cell_type": "code",
   "execution_count": null,
   "metadata": {},
   "outputs": [],
   "source": [
    "wales_locations = wales_locations.rename(index=str, columns={\"Project Title\": \"project\", \n",
    "                                                 \"Lead Organisation\": \"beneficiary\", \n",
    "                                                 \"EU funds awarded\": \"eu_investment\", \n",
    "                                                 \"Total Project cost\": \"project_cost\",\n",
    "                                                  'EU Programme': 'funds',\n",
    "                                                 'Project Description': 'summary',\n",
    "                                                 'Project start date': 'start_date',\n",
    "                                                 'Project end date': 'end_date',\n",
    "                                                 'Union co-financing rate, as per Priority Axis': 'prop_eu_financed',\n",
    "                                                 'postcode': 'raw_postcode'\n",
    "                                                })\n",
    " \n"
   ]
  },
  {
   "cell_type": "code",
   "execution_count": null,
   "metadata": {},
   "outputs": [],
   "source": [
    "wales_locations.raw_postcode.isna().sum()"
   ]
  },
  {
   "cell_type": "code",
   "execution_count": null,
   "metadata": {},
   "outputs": [],
   "source": [
    "esif = wales_locations\n",
    "esif.shape"
   ]
  },
  {
   "cell_type": "code",
   "execution_count": null,
   "metadata": {},
   "outputs": [],
   "source": [
    "esif.columns"
   ]
  },
  {
   "cell_type": "code",
   "execution_count": null,
   "metadata": {},
   "outputs": [],
   "source": []
  },
  {
   "cell_type": "markdown",
   "metadata": {},
   "source": [
    "### Beneficiary"
   ]
  },
  {
   "cell_type": "code",
   "execution_count": null,
   "metadata": {},
   "outputs": [],
   "source": [
    "esif.beneficiary[esif.beneficiary.str.strip() != esif.beneficiary]"
   ]
  },
  {
   "cell_type": "markdown",
   "metadata": {},
   "source": [
    "### Project\n",
    "\n",
    "In the absence of any IDs, do we have any duplicates?"
   ]
  },
  {
   "cell_type": "code",
   "execution_count": null,
   "metadata": {},
   "outputs": [],
   "source": [
    "esif.project[esif.project.str.contains('\\n')]"
   ]
  },
  {
   "cell_type": "code",
   "execution_count": null,
   "metadata": {},
   "outputs": [],
   "source": [
    "esif.project[esif.project.str.strip() != esif.project]\n",
    "esif.project = esif.project.str.strip()"
   ]
  },
  {
   "cell_type": "code",
   "execution_count": null,
   "metadata": {},
   "outputs": [],
   "source": [
    "esif.project.unique().shape"
   ]
  },
  {
   "cell_type": "code",
   "execution_count": null,
   "metadata": {},
   "outputs": [],
   "source": [
    "esif[esif.duplicated(['beneficiary', 'project', 'funds'], keep=False)].sort_values('project')"
   ]
  },
  {
   "cell_type": "markdown",
   "metadata": {},
   "source": [
    "### Summary"
   ]
  },
  {
   "cell_type": "code",
   "execution_count": null,
   "metadata": {},
   "outputs": [],
   "source": [
    "esif.summary.isna().sum()"
   ]
  },
  {
   "cell_type": "code",
   "execution_count": null,
   "metadata": {},
   "outputs": [],
   "source": [
    "(esif.summary != esif.summary.str.strip()).sum()"
   ]
  },
  {
   "cell_type": "code",
   "execution_count": null,
   "metadata": {},
   "outputs": [],
   "source": [
    "(esif.summary != esif.summary.str.strip()).sum() # lots\n",
    "esif.summary = esif.summary.str.strip()"
   ]
  },
  {
   "cell_type": "markdown",
   "metadata": {},
   "source": [
    "### Funds"
   ]
  },
  {
   "cell_type": "code",
   "execution_count": null,
   "metadata": {},
   "outputs": [],
   "source": [
    "esif.funds.isna().sum()"
   ]
  },
  {
   "cell_type": "code",
   "execution_count": null,
   "metadata": {},
   "outputs": [],
   "source": [
    "esif.funds.unique()"
   ]
  },
  {
   "cell_type": "code",
   "execution_count": null,
   "metadata": {},
   "outputs": [],
   "source": [
    "esif.funds = esif.funds.str.strip().str.replace('East Wales ERDF', 'ERDF').str.replace('West Wales and the Valleys ERDF', 'ERDF').str.replace('East Wales ESF', 'ESF').str.replace('West Wales and the Valleys ESF', 'ESF')\n",
    "\n",
    "esif.funds.unique()"
   ]
  },
  {
   "cell_type": "markdown",
   "metadata": {},
   "source": [
    "### Project Cost"
   ]
  },
  {
   "cell_type": "code",
   "execution_count": null,
   "metadata": {},
   "outputs": [],
   "source": [
    "esif.project_cost.isna().sum()"
   ]
  },
  {
   "cell_type": "code",
   "execution_count": null,
   "metadata": {},
   "outputs": [],
   "source": [
    "esif.project_cost = esif.project_cost.map(str).str.strip()\n",
    "project_cost_bad = esif.project_cost.str.match(re.compile(r'.*[^0-9.].*'))\n",
    "esif.project_cost[project_cost_bad]"
   ]
  },
  {
   "cell_type": "markdown",
   "metadata": {},
   "source": [
    "### EU Investment\n"
   ]
  },
  {
   "cell_type": "code",
   "execution_count": null,
   "metadata": {},
   "outputs": [],
   "source": [
    "esif.eu_investment.isna().sum()"
   ]
  },
  {
   "cell_type": "code",
   "execution_count": null,
   "metadata": {},
   "outputs": [],
   "source": [
    "esif.eu_investment = esif.eu_investment.map(str).str.strip()\n",
    "eu_investment_bad = esif.eu_investment.str.match(re.compile(r'.*[^0-9.].*'))\n",
    "esif.eu_investment[eu_investment_bad]"
   ]
  },
  {
   "cell_type": "markdown",
   "metadata": {},
   "source": [
    "### Overfunding\n"
   ]
  },
  {
   "cell_type": "code",
   "execution_count": null,
   "metadata": {},
   "outputs": [],
   "source": [
    "esif.project_cost = esif.project_cost.astype('float')\n",
    "esif.eu_investment = esif.eu_investment.astype('float')"
   ]
  },
  {
   "cell_type": "code",
   "execution_count": null,
   "metadata": {},
   "outputs": [],
   "source": [
    "overfunded = esif.eu_investment > esif.project_cost\n",
    "esif[overfunded]"
   ]
  },
  {
   "cell_type": "markdown",
   "metadata": {},
   "source": [
    "### Prop EU Financed\n",
    "\n",
    "This provides a useful check. The [ESF guidance for 2014-2020](https://assets.publishing.service.gov.uk/government/uploads/system/uploads/attachment_data/file/710305/ESF_Guidance_for_2014_2020_v2.pdf) says that contributions over 50% are unlikely in the UK."
   ]
  },
  {
   "cell_type": "code",
   "execution_count": null,
   "metadata": {},
   "outputs": [],
   "source": [
    "esif.prop_eu_financed.isna().sum()"
   ]
  },
  {
   "cell_type": "code",
   "execution_count": null,
   "metadata": {},
   "outputs": [],
   "source": [
    "esif.prop_eu_financed.describe()"
   ]
  },
  {
   "cell_type": "code",
   "execution_count": null,
   "metadata": {},
   "outputs": [],
   "source": [
    "esif['actual_prop'] = esif.eu_investment / esif.project_cost\n",
    "esif.actual_prop.describe()"
   ]
  },
  {
   "cell_type": "code",
   "execution_count": null,
   "metadata": {},
   "outputs": [],
   "source": [
    "esif[(esif.actual_prop - esif.prop_eu_financed).abs() > 0.05]"
   ]
  },
  {
   "cell_type": "markdown",
   "metadata": {},
   "source": [
    "### Postcode\n"
   ]
  },
  {
   "cell_type": "code",
   "execution_count": null,
   "metadata": {},
   "outputs": [],
   "source": [
    "[esif.shape, esif.raw_postcode.isna().sum()]"
   ]
  },
  {
   "cell_type": "code",
   "execution_count": null,
   "metadata": {},
   "outputs": [],
   "source": [
    "esif = esif[~esif.raw_postcode.isna()].copy()"
   ]
  },
  {
   "cell_type": "code",
   "execution_count": null,
   "metadata": {},
   "outputs": [],
   "source": [
    "ukpostcodes = pd.read_csv('../postcodes/input/ukpostcodes.csv')\n",
    "ukpostcodes.shape"
   ]
  },
  {
   "cell_type": "code",
   "execution_count": null,
   "metadata": {},
   "outputs": [],
   "source": [
    "esif.raw_postcode.isin(ukpostcodes.postcode).sum()"
   ]
  },
  {
   "cell_type": "code",
   "execution_count": null,
   "metadata": {},
   "outputs": [],
   "source": [
    "esif['postcode'] = esif.raw_postcode.\\\n",
    "    str.upper().\\\n",
    "    str.strip().\\\n",
    "    str.replace(r'[^A-Z0-9]', '').\\\n",
    "    str.replace(r'^(\\S+)([0-9][A-Z]{2})$', r'\\1 \\2')"
   ]
  },
  {
   "cell_type": "code",
   "execution_count": null,
   "metadata": {},
   "outputs": [],
   "source": [
    "esif.postcode.isin(ukpostcodes.postcode).sum()"
   ]
  },
  {
   "cell_type": "code",
   "execution_count": null,
   "metadata": {},
   "outputs": [],
   "source": [
    "esif.postcode[~esif.postcode.isin(ukpostcodes.postcode)].unique()"
   ]
  },
  {
   "cell_type": "markdown",
   "metadata": {},
   "source": [
    "### Start and End Dates\n"
   ]
  },
  {
   "cell_type": "code",
   "execution_count": null,
   "metadata": {},
   "outputs": [],
   "source": [
    "[esif.start_date.isna().sum(), esif.start_date.dtype]"
   ]
  },
  {
   "cell_type": "code",
   "execution_count": null,
   "metadata": {},
   "outputs": [],
   "source": [
    "[esif.end_date.isna().sum(), esif.end_date.dtype]"
   ]
  },
  {
   "cell_type": "code",
   "execution_count": null,
   "metadata": {},
   "outputs": [],
   "source": [
    "esif[esif.start_date >= esif.end_date]"
   ]
  },
  {
   "cell_type": "code",
   "execution_count": null,
   "metadata": {},
   "outputs": [],
   "source": []
  },
  {
   "cell_type": "markdown",
   "metadata": {},
   "source": [
    "## Save Data"
   ]
  },
  {
   "cell_type": "code",
   "execution_count": null,
   "metadata": {},
   "outputs": [],
   "source": [
    "clean_esif = esif.drop([\n",
    "    'Priority', 'prop_eu_financed', 'raw_postcode',  'postcode2', 'postcode3',\n",
    "       'postcode4', 'Source: WEFO, 30/04/2018', 'Welsh Government Targeted Match Funding, Yes / No’', 'Case ID', 'Sector ', 'Joint Sponsors', 'Regional area(s)', 'Category of intervention',\n",
    "], axis=1)\n",
    "clean_esif.head()"
   ]
  },
  {
   "cell_type": "code",
   "execution_count": null,
   "metadata": {},
   "outputs": [],
   "source": [
    "clean_esif['my_eu_id'] = clean_esif.funds.str.lower() + '_wales_' + clean_esif.index.map(str)\n",
    "clean_esif.my_eu_id.head()"
   ]
  },
  {
   "cell_type": "code",
   "execution_count": null,
   "metadata": {},
   "outputs": [],
   "source": [
    "clean_esif.to_pickle('output/erdf_wales_2014_2020.pkl.gz')"
   ]
  },
  {
   "cell_type": "markdown",
   "metadata": {},
   "source": [
    "## Save Map Data"
   ]
  },
  {
   "cell_type": "code",
   "execution_count": null,
   "metadata": {},
   "outputs": [],
   "source": [
    "clean_esif_locations = pd.merge(clean_esif, ukpostcodes, validate='m:1')\n",
    "clean_esif_locations.head()"
   ]
  },
  {
   "cell_type": "code",
   "execution_count": null,
   "metadata": {},
   "outputs": [],
   "source": [
    "def make_esif_data_geo_json(data):\n",
    "    def make_feature(row):\n",
    "        properties = {\n",
    "            property: row[property]\n",
    "            for property in ['beneficiary', 'project', 'project_cost', 'eu_investment']\n",
    "        }\n",
    "        return {\n",
    "            'type': 'Feature',\n",
    "            'geometry': {\n",
    "                \"type\": \"Point\",\n",
    "                \"coordinates\": [row['longitude'], row['latitude']]\n",
    "            },\n",
    "            'properties': properties\n",
    "        }\n",
    "    features = list(data.apply(make_feature, axis=1))\n",
    "    return { 'type': 'FeatureCollection', 'features': features }\n",
    "with open('output/wales_data.geo.json', 'w') as file:\n",
    "    json.dump(make_esif_data_geo_json(clean_esif_locations), file, sort_keys=True)"
   ]
  },
  {
   "cell_type": "code",
   "execution_count": null,
   "metadata": {},
   "outputs": [],
   "source": []
  }
 ],
 "metadata": {
  "kernelspec": {
   "display_name": "Python 3",
   "language": "python",
   "name": "python3"
  },
  "language_info": {
   "codemirror_mode": {
    "name": "ipython",
    "version": 3
   },
   "file_extension": ".py",
   "mimetype": "text/x-python",
   "name": "python",
   "nbconvert_exporter": "python",
   "pygments_lexer": "ipython3",
   "version": "3.6.5"
  }
 },
 "nbformat": 4,
 "nbformat_minor": 2
}
