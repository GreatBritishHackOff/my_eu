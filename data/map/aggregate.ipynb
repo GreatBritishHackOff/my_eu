{
 "cells": [
  {
   "cell_type": "markdown",
   "metadata": {},
   "source": [
    "# Build Aggregate Data"
   ]
  },
  {
   "cell_type": "code",
   "execution_count": null,
   "metadata": {},
   "outputs": [],
   "source": [
    "%matplotlib inline\n",
    "\n",
    "import pandas as pd\n",
    "\n",
    "pd.set_option('display.max_columns', 50)\n",
    "pd.set_option('display.max_colwidth', 100)"
   ]
  },
  {
   "cell_type": "markdown",
   "metadata": {},
   "source": [
    "## Load Cleaned Data\n",
    "\n",
    "### CAP\n",
    "\n",
    "TODO: Need to account for co-financing."
   ]
  },
  {
   "cell_type": "code",
   "execution_count": null,
   "metadata": {},
   "outputs": [],
   "source": [
    "cap_by_area = pd.read_pickle('../cap/output/cap_by_area.pkl.gz')\n",
    "cap_by_area.head()"
   ]
  },
  {
   "cell_type": "markdown",
   "metadata": {},
   "source": [
    "### CORDIS"
   ]
  },
  {
   "cell_type": "code",
   "execution_count": null,
   "metadata": {},
   "outputs": [],
   "source": [
    "def add_postcode_area(df):\n",
    "    df['postcode_area'] = df['postcode'].str.replace(r'^([A-Z]{1,2}).+$', r'\\1')\n",
    "    return df"
   ]
  },
  {
   "cell_type": "code",
   "execution_count": null,
   "metadata": {},
   "outputs": [],
   "source": [
    "fp7_organizations = pd.read_pickle('../cordis/output/fp7_organizations.pkl.gz')\n",
    "fp7_projects = pd.read_pickle('../cordis/output/fp7_projects.pkl.gz')\n",
    "fp7 = pd.merge(\n",
    "    fp7_projects, fp7_organizations,\n",
    "    left_on='rcn', right_on='project_rcn', validate='1:m'\n",
    ")\n",
    "add_postcode_area(fp7)\n",
    "fp7['contribution_gbp'] = fp7.contribution_eur * fp7.eur_gbp\n",
    "fp7.head()"
   ]
  },
  {
   "cell_type": "markdown",
   "metadata": {},
   "source": [
    "### Creative Europe\n",
    "\n",
    "TODO: need to estimate per-partner contribution by dividing through by number of partners."
   ]
  },
  {
   "cell_type": "code",
   "execution_count": null,
   "metadata": {},
   "outputs": [],
   "source": [
    "creative_organisations = pd.read_pickle('../creative/output/creative_europe_organisations.pkl.gz')\n",
    "creative_projects = pd.read_pickle('../creative/output/creative_europe_projects.pkl.gz')\n",
    "creative = pd.merge(creative_projects, creative_organisations, on='project_number', validate='1:m')\n",
    "creative.shape"
   ]
  },
  {
   "cell_type": "code",
   "execution_count": null,
   "metadata": {},
   "outputs": [],
   "source": [
    "add_postcode_area(creative)\n",
    "creative['max_contribution_gbp'] = creative.max_contribution_eur * creative.eur_gbp\n",
    "creative['my_eu_id'] = \\\n",
    "    'creative_' + creative.project_number + '_' + \\\n",
    "    creative.partner_number.apply('{:.0f}'.format).\\\n",
    "    str.replace('nan', 'coordinator', regex=False)\n",
    "assert creative.shape[0] == creative.my_eu_id.unique().shape[0]\n",
    "creative.head()"
   ]
  },
  {
   "cell_type": "markdown",
   "metadata": {},
   "source": [
    "### ESIF (ESF/ERDF)"
   ]
  },
  {
   "cell_type": "code",
   "execution_count": null,
   "metadata": {},
   "outputs": [],
   "source": [
    "esif_england = pd.read_pickle('../esif/output/esif_england_2014_2020.pkl.gz')\n",
    "add_postcode_area(esif_england)\n",
    "esif_england.head()"
   ]
  },
  {
   "cell_type": "code",
   "execution_count": null,
   "metadata": {},
   "outputs": [],
   "source": [
    "esif_ni = pd.read_pickle('../esif/output/esif_ni_2014_2020.pkl.gz')\n",
    "add_postcode_area(esif_ni)\n",
    "esif_ni.head()"
   ]
  },
  {
   "cell_type": "code",
   "execution_count": null,
   "metadata": {},
   "outputs": [],
   "source": [
    "esif_scotland = pd.read_pickle('../esif/output/esif_scotland.pkl.gz')\n",
    "add_postcode_area(esif_scotland)\n",
    "esif_scotland.head()"
   ]
  },
  {
   "cell_type": "code",
   "execution_count": null,
   "metadata": {},
   "outputs": [],
   "source": [
    "esif_wales = pd.read_pickle('../esif/output/esif_wales.pkl.gz')\n",
    "add_postcode_area(esif_wales)\n",
    "esif_wales.head()"
   ]
  },
  {
   "cell_type": "markdown",
   "metadata": {},
   "source": [
    "## Idea 2: Aggregate over each Area\n",
    "\n",
    "### Time Ranges"
   ]
  },
  {
   "cell_type": "code",
   "execution_count": null,
   "metadata": {},
   "outputs": [],
   "source": [
    "[\n",
    "    (cap_by_area.year.min(), cap_by_area.year.max()),\n",
    "    (fp7_projects.start_date.min(), fp7_projects.start_date.max()),\n",
    "    (creative.start_date.min(), creative.start_date.max()),\n",
    "    (esif_england.start_date.min(), esif_england.start_date.max()),\n",
    "    (esif_ni.start_date.min(), esif_ni.start_date.max()),\n",
    "    (esif_scotland.start_date.min(), esif_scotland.start_date.max()),\n",
    "    (esif_wales.start_date.min(), esif_wales.start_date.max())\n",
    "]"
   ]
  },
  {
   "cell_type": "markdown",
   "metadata": {},
   "source": [
    "### Annual Aggregates"
   ]
  },
  {
   "cell_type": "code",
   "execution_count": null,
   "metadata": {},
   "outputs": [],
   "source": [
    "cap_annual_total = cap_by_area.groupby('year').sum()\n",
    "cap_annual_total['funds'] = 'CAP'\n",
    "cap_annual_total"
   ]
  },
  {
   "cell_type": "code",
   "execution_count": null,
   "metadata": {},
   "outputs": [],
   "source": [
    "fp7.end_date.describe()"
   ]
  },
  {
   "cell_type": "code",
   "execution_count": null,
   "metadata": {},
   "outputs": [],
   "source": [
    "def find_annual_sum(df, keys, column):\n",
    "    def reweight(row):\n",
    "        # create timeseries from start to end\n",
    "        days = pd.date_range(row.start_date, row.end_date, closed='left')\n",
    "        daily = pd.DataFrame({\n",
    "            'year_start': days,\n",
    "            column: row[column] / days.shape[0]\n",
    "        })\n",
    "        annual = daily.resample('AS', on='year_start').sum()\n",
    "        for key in keys:\n",
    "            annual[key] = row[key]\n",
    "        return annual\n",
    "    result = pd.concat(list(df.apply(reweight, axis=1)))\n",
    "    result.reset_index(inplace=True)\n",
    "    result['year'] = result.year_start.apply(lambda x: x.year)\n",
    "    result.drop('year_start', axis=1, inplace=True)\n",
    "    return result[['year'] + keys + [column]]\n",
    "\n",
    "fp7_annual = find_annual_sum(fp7, ['rcn', 'organization_id'], 'contribution_gbp')\n",
    "fp7_annual.shape"
   ]
  },
  {
   "cell_type": "code",
   "execution_count": null,
   "metadata": {},
   "outputs": [],
   "source": [
    "fp7_annual['funds'] = 'FP7'\n",
    "def find_fund_annual_totals(annual, column):\n",
    "    annual_total = annual.groupby(['funds', 'year'])[column].sum()\n",
    "    annual_total = annual_total.reset_index()\n",
    "    annual_total.rename(columns={column: 'total'}, inplace=True)\n",
    "    return annual_total\n",
    "fp7_annual_total = find_fund_annual_totals(fp7_annual, 'contribution_gbp')\n",
    "fp7_annual_total"
   ]
  },
  {
   "cell_type": "code",
   "execution_count": null,
   "metadata": {},
   "outputs": [],
   "source": [
    "creative_annual = find_annual_sum(creative, ['funds', 'my_eu_id'], 'max_contribution_gbp')\n",
    "creative_annual_total = find_fund_annual_totals(creative_annual, 'max_contribution_gbp')\n",
    "creative_annual_total"
   ]
  },
  {
   "cell_type": "code",
   "execution_count": null,
   "metadata": {},
   "outputs": [],
   "source": [
    "def find_esif_annual_total(esif):\n",
    "    annual = find_annual_sum(esif, ['funds', 'my_eu_id'], 'eu_investment')\n",
    "    return find_fund_annual_totals(annual, 'eu_investment')\n",
    "esif_england_annual_total = find_esif_annual_total(esif_england)\n",
    "esif_england_annual_total"
   ]
  },
  {
   "cell_type": "code",
   "execution_count": null,
   "metadata": {},
   "outputs": [],
   "source": [
    "esif_ni_annual_total = find_esif_annual_total(esif_ni)\n",
    "esif_ni_annual_total"
   ]
  },
  {
   "cell_type": "code",
   "execution_count": null,
   "metadata": {},
   "outputs": [],
   "source": [
    "esif_scotland_annual_total = find_esif_annual_total(esif_scotland)\n",
    "esif_scotland_annual_total"
   ]
  },
  {
   "cell_type": "code",
   "execution_count": null,
   "metadata": {},
   "outputs": [],
   "source": [
    "esif_wales_annual_total = find_esif_annual_total(esif_wales)\n",
    "esif_wales_annual_total"
   ]
  },
  {
   "cell_type": "code",
   "execution_count": null,
   "metadata": {},
   "outputs": [],
   "source": [
    "annual_totals = pd.concat([\n",
    "    cap_annual_total.reset_index()[['funds', 'year', 'total']],\n",
    "    fp7_annual_total,\n",
    "    creative_annual_total,\n",
    "    esif_england_annual_total,\n",
    "    esif_ni_annual_total,\n",
    "    esif_scotland_annual_total,\n",
    "    esif_wales_annual_total\n",
    "]).\\\n",
    "groupby(['funds', 'year']).sum().reset_index().\\\n",
    "pivot(index='year', columns='funds', values='total')\n",
    "annual_totals"
   ]
  },
  {
   "cell_type": "code",
   "execution_count": null,
   "metadata": {},
   "outputs": [],
   "source": [
    "annual_totals.plot.bar(stacked=True)"
   ]
  }
 ],
 "metadata": {
  "kernelspec": {
   "display_name": "Python 3",
   "language": "python",
   "name": "python3"
  },
  "language_info": {
   "codemirror_mode": {
    "name": "ipython",
    "version": 3
   },
   "file_extension": ".py",
   "mimetype": "text/x-python",
   "name": "python",
   "nbconvert_exporter": "python",
   "pygments_lexer": "ipython3",
   "version": "3.6.5"
  }
 },
 "nbformat": 4,
 "nbformat_minor": 2
}
