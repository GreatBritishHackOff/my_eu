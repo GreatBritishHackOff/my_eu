{
 "cells": [
  {
   "cell_type": "markdown",
   "metadata": {},
   "source": [
    "# Build Aggregate Data"
   ]
  },
  {
   "cell_type": "code",
   "execution_count": null,
   "metadata": {},
   "outputs": [],
   "source": [
    "%matplotlib inline\n",
    "\n",
    "import json\n",
    "\n",
    "import pandas as pd\n",
    "\n",
    "pd.set_option('display.max_columns', 50)\n",
    "pd.set_option('display.max_colwidth', 100)"
   ]
  },
  {
   "cell_type": "markdown",
   "metadata": {},
   "source": [
    "## Load Cleaned Data\n",
    "\n",
    "### CAP\n",
    "\n",
    "The FAQs say:\n",
    "\n",
    "> I understand that some CAP payments are jointly paid for by EU and UK funding. How are such payments shown on the website?\n",
    "> These are known as co-financed payments and mostly concern Rural Development measures. For these payment types, the website shows the total amounts received by the beneficiary, not just the EU financed element. (http://cap-payments.defra.gov.uk/FAQs.aspx)\n",
    "\n",
    "According to https://www.instituteforgovernment.org.uk/explainers/common-agricultural-policy, in 2015 the UK contribution to rural development was €250M out of €959M, so we can use that to adjust the total."
   ]
  },
  {
   "cell_type": "code",
   "execution_count": null,
   "metadata": {},
   "outputs": [],
   "source": [
    "raw_cap_by_area = pd.concat([\n",
    "    pd.read_pickle('../cap/output/cap_by_area_{}.pkl.gz'.format(year))\n",
    "    for year in range(2014, 2018)\n",
    "])\n",
    "raw_cap_by_area.head()"
   ]
  },
  {
   "cell_type": "code",
   "execution_count": null,
   "metadata": {},
   "outputs": [],
   "source": [
    "cap_by_area = raw_cap_by_area.copy()\n",
    "cap_by_area['eagf'] = cap_by_area.otherEAGF + cap_by_area.directEAGF\n",
    "cap_by_area['eafrd'] = cap_by_area.ruralDevelopment * ((959 - 250) / 959)\n",
    "cap_by_area.drop(['otherEAGF', 'directEAGF', 'ruralDevelopment', 'total'], axis=1, inplace=True)\n",
    "cap_by_area['funds'] = 'CAP'\n",
    "cap_by_area['total'] = cap_by_area.eagf + cap_by_area.eafrd\n",
    "cap_by_area.head()"
   ]
  },
  {
   "cell_type": "markdown",
   "metadata": {},
   "source": [
    "### CORDIS"
   ]
  },
  {
   "cell_type": "code",
   "execution_count": null,
   "metadata": {},
   "outputs": [],
   "source": [
    "def add_postcode_area(df):\n",
    "    df['postcode_area'] = df['postcode'].str.replace(r'^([A-Z]{1,2}).+$', r'\\1')\n",
    "    return df"
   ]
  },
  {
   "cell_type": "code",
   "execution_count": null,
   "metadata": {},
   "outputs": [],
   "source": [
    "fp7_organizations = pd.read_pickle('../cordis/output/fp7_organizations.pkl.gz')\n",
    "fp7_projects = pd.read_pickle('../cordis/output/fp7_projects.pkl.gz')\n",
    "fp7 = pd.merge(\n",
    "    fp7_projects, fp7_organizations,\n",
    "    left_on='rcn', right_on='project_rcn', validate='1:m'\n",
    ")\n",
    "add_postcode_area(fp7)\n",
    "fp7['my_eu_id'] = 'fp7_' + fp7.project_rcn.astype('str') + '_' + fp7.organization_id.astype('str')\n",
    "fp7['contribution_gbp'] = fp7.contribution_eur * fp7.eur_gbp\n",
    "fp7.head()"
   ]
  },
  {
   "cell_type": "code",
   "execution_count": null,
   "metadata": {},
   "outputs": [],
   "source": [
    "h2020_organizations = pd.read_pickle('../cordis/output/h2020_organizations.pkl.gz')\n",
    "h2020_projects = pd.read_pickle('../cordis/output/h2020_projects.pkl.gz')\n",
    "h2020 = pd.merge(\n",
    "    h2020_projects, h2020_organizations,\n",
    "    left_on='rcn', right_on='project_rcn', validate='1:m'\n",
    ")\n",
    "add_postcode_area(h2020)\n",
    "h2020['my_eu_id'] = 'h2020_' + h2020.project_rcn.astype('str') + '_' + h2020.organization_id.astype('str')\n",
    "h2020['contribution_gbp'] = h2020.contribution_eur * h2020.eur_gbp\n",
    "h2020.head()"
   ]
  },
  {
   "cell_type": "markdown",
   "metadata": {},
   "source": [
    "### Creative Europe\n",
    "\n",
    "TODO: need to estimate per-partner contribution by dividing through by number of partners."
   ]
  },
  {
   "cell_type": "code",
   "execution_count": null,
   "metadata": {},
   "outputs": [],
   "source": [
    "creative_organisations = pd.read_pickle('../creative/output/creative_europe_organisations.pkl.gz')\n",
    "creative_projects = pd.read_pickle('../creative/output/creative_europe_projects.pkl.gz')\n",
    "creative = pd.merge(creative_projects, creative_organisations, on='project_number', validate='1:m')\n",
    "creative.shape"
   ]
  },
  {
   "cell_type": "code",
   "execution_count": null,
   "metadata": {},
   "outputs": [],
   "source": [
    "add_postcode_area(creative)\n",
    "assert creative.funds.unique().shape[0] == 1\n",
    "creative['funds'] = 'CE'\n",
    "creative['max_contribution_gbp'] = creative.max_contribution_eur * creative.eur_gbp\n",
    "creative['my_eu_id'] = \\\n",
    "    'creative_' + creative.project_number + '_' + \\\n",
    "    creative.partner_number.apply('{:.0f}'.format).\\\n",
    "    str.replace('nan', 'coordinator', regex=False)\n",
    "assert creative.shape[0] == creative.my_eu_id.unique().shape[0]\n",
    "creative.head()"
   ]
  },
  {
   "cell_type": "markdown",
   "metadata": {},
   "source": [
    "### ESIF (ESF/ERDF)"
   ]
  },
  {
   "cell_type": "code",
   "execution_count": null,
   "metadata": {},
   "outputs": [],
   "source": [
    "esif = pd.concat([\n",
    "    pd.read_pickle('../esif/output/esif_{}.pkl.gz'.format(dataset))\n",
    "    for dataset in ['england_2014_2020', 'ni_2014_2020', 'scotland', 'wales']\n",
    "], sort=True)\n",
    "add_postcode_area(esif)\n",
    "esif.head()"
   ]
  },
  {
   "cell_type": "markdown",
   "metadata": {},
   "source": [
    "## Idea 2: Aggregate over each Area\n",
    "\n",
    "### Time Ranges"
   ]
  },
  {
   "cell_type": "code",
   "execution_count": null,
   "metadata": {},
   "outputs": [],
   "source": [
    "[\n",
    "    (cap_by_area.year.min(), cap_by_area.year.max()),\n",
    "    (fp7_projects.start_date.min(), fp7_projects.start_date.max()),\n",
    "    (h2020_projects.start_date.min(), h2020_projects.start_date.max()),\n",
    "    (creative.start_date.min(), creative.start_date.max()),\n",
    "    (esif.start_date.min(), esif.start_date.max()),\n",
    "]"
   ]
  },
  {
   "cell_type": "markdown",
   "metadata": {},
   "source": [
    "### Aggregate by Year"
   ]
  },
  {
   "cell_type": "code",
   "execution_count": null,
   "metadata": {},
   "outputs": [],
   "source": [
    "cap_annual_total = cap_by_area.copy()\n",
    "cap_annual_total = cap_annual_total[['funds', 'year', 'total']]\n",
    "cap_annual_total.groupby('year').sum()"
   ]
  },
  {
   "cell_type": "code",
   "execution_count": null,
   "metadata": {},
   "outputs": [],
   "source": [
    "def find_annual_sum(df, keys, column):\n",
    "    def reweight(row):\n",
    "        # create timeseries from start to end\n",
    "        days = pd.date_range(row.start_date, row.end_date, closed='left')\n",
    "        daily = pd.DataFrame({\n",
    "            'year_start': days,\n",
    "            column: row[column] / days.shape[0]\n",
    "        })\n",
    "        annual = daily.resample('AS', on='year_start').sum()\n",
    "        for key in keys:\n",
    "            annual[key] = row[key]\n",
    "        return annual\n",
    "    result = pd.concat(list(df.apply(reweight, axis=1)))\n",
    "    result.reset_index(inplace=True)\n",
    "    result['year'] = result.year_start.apply(lambda x: x.year)\n",
    "    result.drop('year_start', axis=1, inplace=True)\n",
    "    return result[['year'] + keys + [column]]\n",
    "\n",
    "fp7_annual = find_annual_sum(fp7, ['postcode_area', 'my_eu_id'], 'contribution_gbp')\n",
    "fp7_annual.shape"
   ]
  },
  {
   "cell_type": "code",
   "execution_count": null,
   "metadata": {},
   "outputs": [],
   "source": [
    "fp7_annual['funds'] = 'FP7'\n",
    "def find_fund_annual_totals(annual, column):\n",
    "    annual_total = annual.groupby(['funds', 'year'])[column].sum()\n",
    "    annual_total = annual_total.reset_index()\n",
    "    annual_total.rename(columns={column: 'total'}, inplace=True)\n",
    "    return annual_total\n",
    "fp7_annual_total = find_fund_annual_totals(fp7_annual, 'contribution_gbp')\n",
    "fp7_annual_total.head()"
   ]
  },
  {
   "cell_type": "code",
   "execution_count": null,
   "metadata": {},
   "outputs": [],
   "source": [
    "h2020_annual = find_annual_sum(h2020, ['postcode_area', 'my_eu_id'], 'contribution_gbp')\n",
    "h2020_annual.shape"
   ]
  },
  {
   "cell_type": "code",
   "execution_count": null,
   "metadata": {},
   "outputs": [],
   "source": [
    "h2020_annual['funds'] = 'H2020'\n",
    "h2020_annual_total = find_fund_annual_totals(h2020_annual, 'contribution_gbp')\n",
    "h2020_annual_total.head()"
   ]
  },
  {
   "cell_type": "code",
   "execution_count": null,
   "metadata": {},
   "outputs": [],
   "source": [
    "creative_annual = find_annual_sum(creative, ['funds', 'postcode_area', 'my_eu_id'], 'max_contribution_gbp')\n",
    "creative_annual_total = find_fund_annual_totals(creative_annual, 'max_contribution_gbp')\n",
    "creative_annual_total"
   ]
  },
  {
   "cell_type": "code",
   "execution_count": null,
   "metadata": {},
   "outputs": [],
   "source": [
    "esif_annual = find_annual_sum(esif, ['funds', 'postcode_area', 'my_eu_id'], 'eu_investment')\n",
    "esif_annual_total = find_fund_annual_totals(esif_annual, 'eu_investment')\n",
    "esif_annual_total.head()"
   ]
  },
  {
   "cell_type": "code",
   "execution_count": null,
   "metadata": {},
   "outputs": [],
   "source": [
    "annual_totals = pd.concat([\n",
    "    cap_annual_total,\n",
    "    fp7_annual_total,\n",
    "    h2020_annual_total,\n",
    "    creative_annual_total,\n",
    "    esif_annual_total\n",
    "]).\\\n",
    "groupby(['funds', 'year']).sum().reset_index().\\\n",
    "pivot(index='year', columns='funds', values='total')\n",
    "annual_totals"
   ]
  },
  {
   "cell_type": "code",
   "execution_count": null,
   "metadata": {},
   "outputs": [],
   "source": [
    "annual_totals.plot.bar(stacked=True)"
   ]
  },
  {
   "cell_type": "markdown",
   "metadata": {},
   "source": [
    "### Aggregate by Area and Year"
   ]
  },
  {
   "cell_type": "code",
   "execution_count": null,
   "metadata": {},
   "outputs": [],
   "source": [
    "cap_by_area.head()"
   ]
  },
  {
   "cell_type": "code",
   "execution_count": null,
   "metadata": {},
   "outputs": [],
   "source": [
    "def find_fund_annual_area_totals(annual, column):\n",
    "    annual_total = annual.groupby(['funds', 'postcode_area', 'year'])[column].sum()\n",
    "    annual_total = annual_total.reset_index()\n",
    "    annual_total.rename(columns={column: 'total'}, inplace=True)\n",
    "    return annual_total\n",
    "fp7_annual_area_total = find_fund_annual_area_totals(fp7_annual, 'contribution_gbp')\n",
    "fp7_annual_area_total.head()"
   ]
  },
  {
   "cell_type": "code",
   "execution_count": null,
   "metadata": {},
   "outputs": [],
   "source": [
    "h2020_annual_area_total = find_fund_annual_area_totals(h2020_annual, 'contribution_gbp')\n",
    "h2020_annual_area_total.head()"
   ]
  },
  {
   "cell_type": "code",
   "execution_count": null,
   "metadata": {},
   "outputs": [],
   "source": [
    "creative_annual_area_total = find_fund_annual_area_totals(creative_annual, 'max_contribution_gbp')\n",
    "creative_annual_area_total.head()"
   ]
  },
  {
   "cell_type": "code",
   "execution_count": null,
   "metadata": {},
   "outputs": [],
   "source": [
    "esif_annual_area_total = find_fund_annual_area_totals(esif_annual, 'eu_investment')\n",
    "esif_annual_area_total.head()"
   ]
  },
  {
   "cell_type": "code",
   "execution_count": null,
   "metadata": {},
   "outputs": [],
   "source": [
    "annual_area_total = pd.concat([\n",
    "    cap_by_area[['funds', 'postcode_area', 'year', 'total']],\n",
    "    fp7_annual_area_total,\n",
    "    h2020_annual_area_total,\n",
    "    creative_annual_area_total,\n",
    "    esif_annual_area_total\n",
    "])\n",
    "annual_area_total.shape"
   ]
  },
  {
   "cell_type": "code",
   "execution_count": null,
   "metadata": {},
   "outputs": [],
   "source": [
    "annual_area_total.head()"
   ]
  },
  {
   "cell_type": "code",
   "execution_count": null,
   "metadata": {},
   "outputs": [],
   "source": [
    "area_mean_2014_2017 = annual_area_total[\n",
    "    (annual_area_total.year >= 2014) & (annual_area_total.year <= 2017)\n",
    "].groupby(['postcode_area']).total.sum() / 4\n",
    "area_mean_2014_2017 = area_mean_2014_2017.reset_index()\n",
    "area_mean_2014_2017.total = area_mean_2014_2017.total.round().astype('int32')\n",
    "area_mean_2014_2017.sort_values('total', ascending=False).head()"
   ]
  },
  {
   "cell_type": "code",
   "execution_count": null,
   "metadata": {},
   "outputs": [],
   "source": [
    "area_mean_2014_2017.total.sum()"
   ]
  },
  {
   "cell_type": "markdown",
   "metadata": {},
   "source": [
    "Northern Ireland receives a lot of CAP funding:"
   ]
  },
  {
   "cell_type": "code",
   "execution_count": null,
   "metadata": {},
   "outputs": [],
   "source": [
    "cap_by_area[cap_by_area.postcode_area == 'BT']"
   ]
  },
  {
   "cell_type": "code",
   "execution_count": null,
   "metadata": {},
   "outputs": [],
   "source": [
    "annual_area_total[annual_area_total.postcode_area == 'BT'].groupby(['funds']).total.sum()"
   ]
  },
  {
   "cell_type": "markdown",
   "metadata": {},
   "source": [
    "### Top Projects by Area\n",
    "#### CORDIS"
   ]
  },
  {
   "cell_type": "code",
   "execution_count": null,
   "metadata": {},
   "outputs": [],
   "source": [
    "TOP_N = 10\n",
    "\n",
    "fp7.columns"
   ]
  },
  {
   "cell_type": "code",
   "execution_count": null,
   "metadata": {},
   "outputs": [],
   "source": [
    "cordis_columns = [\n",
    "    'postcode_area', 'postcode', 'my_eu_id',\n",
    "    'start_date', 'end_date', 'contribution_gbp',\n",
    "    'acronym', 'title', 'name'\n",
    "]\n",
    "cordis = pd.concat([fp7[cordis_columns], h2020[cordis_columns]])\n",
    "cordis.shape"
   ]
  },
  {
   "cell_type": "code",
   "execution_count": null,
   "metadata": {},
   "outputs": [],
   "source": [
    "cordis_top = cordis[~cordis.contribution_gbp.isna()].\\\n",
    "    sort_values(['postcode_area', 'contribution_gbp'], ascending=[True, False]).\\\n",
    "    groupby('postcode_area').head(TOP_N)\n",
    "cordis_top.contribution_gbp = cordis_top.contribution_gbp.round().astype('int32')\n",
    "cordis_top"
   ]
  },
  {
   "cell_type": "markdown",
   "metadata": {},
   "source": [
    "#### Creative Europe"
   ]
  },
  {
   "cell_type": "code",
   "execution_count": null,
   "metadata": {},
   "outputs": [],
   "source": [
    "creative_top = creative.\\\n",
    "    sort_values(['postcode_area', 'max_contribution_gbp'], ascending=[True, False]).\\\n",
    "    groupby('postcode_area').head(TOP_N)\\\n",
    "    [[\n",
    "        'postcode_area', 'postcode', 'my_eu_id',\n",
    "        'start_date', 'end_date', 'max_contribution_gbp',\n",
    "        'project', 'organisation_name'\n",
    "    ]]\n",
    "creative_top.max_contribution_gbp = creative_top.max_contribution_gbp.round().astype('int32')\n",
    "creative_top.head()"
   ]
  },
  {
   "cell_type": "markdown",
   "metadata": {},
   "source": [
    "#### ESIF"
   ]
  },
  {
   "cell_type": "code",
   "execution_count": null,
   "metadata": {},
   "outputs": [],
   "source": [
    "esif_top = esif.\\\n",
    "    sort_values(['postcode_area', 'eu_investment'], ascending=[True, False]).\\\n",
    "    groupby('postcode_area').head(TOP_N)\\\n",
    "    [[\n",
    "        'postcode_area', 'postcode', 'my_eu_id',\n",
    "        'start_date', 'end_date', 'eu_investment',\n",
    "        'project', 'beneficiary'\n",
    "    ]]\n",
    "esif_top.eu_investment = esif_top.eu_investment.round().astype('int32')\n",
    "esif_top.head()"
   ]
  },
  {
   "cell_type": "markdown",
   "metadata": {},
   "source": [
    "### Save for Map"
   ]
  },
  {
   "cell_type": "code",
   "execution_count": null,
   "metadata": {},
   "outputs": [],
   "source": [
    "with open('../postcodes/output/postcode-area-boundaries-simplified.geo.json') as file:\n",
    "    postcode_areas_json = json.load(file)\n",
    "len(postcode_areas_json['features'])"
   ]
  },
  {
   "cell_type": "code",
   "execution_count": null,
   "metadata": {},
   "outputs": [],
   "source": [
    "postcode_areas_features = pd.DataFrame.from_dict({\n",
    "    'name': [feature['properties']['name'] for feature in postcode_areas_json['features']],\n",
    "    'geometry': [feature['geometry'] for feature in postcode_areas_json['features']],\n",
    "})\n",
    "postcode_areas_features.head()"
   ]
  },
  {
   "cell_type": "code",
   "execution_count": null,
   "metadata": {},
   "outputs": [],
   "source": [
    "postcode_areas_data = pd.merge(\n",
    "    postcode_areas_features, area_mean_2014_2017,\n",
    "    left_on='name', right_on='postcode_area', validate='m:1')\n",
    "postcode_areas_data.head()"
   ]
  },
  {
   "cell_type": "code",
   "execution_count": null,
   "metadata": {},
   "outputs": [],
   "source": [
    "postcode_area_names = pd.read_excel('../postcodes/input/postcode-area-names.xlsx')\n",
    "postcode_area_names.head()"
   ]
  },
  {
   "cell_type": "code",
   "execution_count": null,
   "metadata": {},
   "outputs": [],
   "source": [
    "postcode_area_names.shape"
   ]
  },
  {
   "cell_type": "code",
   "execution_count": null,
   "metadata": {},
   "outputs": [],
   "source": [
    "postcode_areas_data = pd.merge(\n",
    "    postcode_areas_data,\n",
    "    postcode_area_names,\n",
    "    validate='1:1'\n",
    ").sort_values('postcode_area')\n",
    "postcode_areas_data.head()"
   ]
  },
  {
   "cell_type": "code",
   "execution_count": null,
   "metadata": {},
   "outputs": [],
   "source": [
    "def make_area_geo_json(data):\n",
    "    def make_feature(row):\n",
    "        properties = {\n",
    "            'total': row['total'],\n",
    "            'postcodeArea': row['postcode_area'],\n",
    "            'postcodeAreaName': row['postcode_area_name'],\n",
    "        }\n",
    "        return {\n",
    "            'type': 'Feature',\n",
    "            'geometry': row['geometry'],\n",
    "            'properties': properties\n",
    "        }\n",
    "    features = list(data.apply(make_feature, axis=1))\n",
    "    return { 'type': 'FeatureCollection', 'features': features }\n",
    "with open('output/postcode_areas.geo.json', 'w') as file:\n",
    "    json.dump(make_area_geo_json(postcode_areas_data), file, sort_keys=True)"
   ]
  },
  {
   "cell_type": "markdown",
   "metadata": {},
   "source": [
    "#### With Centroids\n",
    "\n",
    "Tried this out but not currently used."
   ]
  },
  {
   "cell_type": "code",
   "execution_count": null,
   "metadata": {},
   "outputs": [],
   "source": [
    "with open('../postcodes/output/postcode-area-boundaries-centroids.geo.json') as file:\n",
    "    postcode_area_centroids_json = json.load(file)\n",
    "len(postcode_area_centroids_json['features'])"
   ]
  },
  {
   "cell_type": "code",
   "execution_count": null,
   "metadata": {},
   "outputs": [],
   "source": [
    "postcode_area_centroid_features = pd.DataFrame.from_dict({\n",
    "    'name': [feature['properties']['name'] for feature in postcode_area_centroids_json['features']],\n",
    "    'geometry': [feature['geometry'] for feature in postcode_area_centroids_json['features']],\n",
    "})\n",
    "postcode_area_centroid_features.head()"
   ]
  },
  {
   "cell_type": "code",
   "execution_count": null,
   "metadata": {},
   "outputs": [],
   "source": [
    "postcode_area_centroids_data = pd.merge(\n",
    "    postcode_area_centroid_features, area_mean_2014_2017,\n",
    "    left_on='name', right_on='postcode_area', validate='m:1')\n",
    "postcode_area_centroids_data.head()"
   ]
  },
  {
   "cell_type": "code",
   "execution_count": null,
   "metadata": {},
   "outputs": [],
   "source": [
    "postcode_area_centroids_data = pd.merge(\n",
    "    postcode_area_centroids_data,\n",
    "    postcode_area_names,\n",
    "    validate='1:1'\n",
    ").sort_values('postcode_area')\n",
    "postcode_area_centroids_data.head()"
   ]
  },
  {
   "cell_type": "code",
   "execution_count": null,
   "metadata": {},
   "outputs": [],
   "source": [
    "with open('output/postcode_area_centroids.geo.json', 'w') as file:\n",
    "    json.dump(make_area_geo_json(postcode_area_centroids_data), file, sort_keys=True)"
   ]
  },
  {
   "cell_type": "markdown",
   "metadata": {},
   "source": [
    "### Save Area Summaries\n",
    "\n",
    "- Separate JSON file from the geojson? Probably decreases first load time.\n",
    "- One JSON file for the whole map, or one per area? Let's see how big the whole dataset is. Probably not worth splitting it.\n",
    "- For CAP, just the numbers by year; 4 per year.\n",
    "- For CORDIS, want a total amount and count, and the top say 20 projects by amount; can just say 'browse the map for more'. Include their postcode and ID for lookup. For each project, also want amount, name and organisation. Maybe also start and end year.\n",
    "- For Creative, similar\n",
    "- For ESIF, similar\n",
    "- For FTS, not sure; maybe the same, but we don't have as much data."
   ]
  },
  {
   "cell_type": "code",
   "execution_count": null,
   "metadata": {},
   "outputs": [],
   "source": [
    "annual_area_total.funds.unique()"
   ]
  },
  {
   "cell_type": "code",
   "execution_count": null,
   "metadata": {},
   "outputs": [],
   "source": [
    "annual_area_total_rounded = annual_area_total.\\\n",
    "    sort_values(['postcode_area', 'year', 'funds'])\\\n",
    "    [['postcode_area', 'year', 'funds', 'total']]\n",
    "annual_area_total_rounded.year = annual_area_total_rounded.year.astype('int32')\n",
    "annual_area_total_rounded.total = annual_area_total_rounded.total.round().astype('int32')\n",
    "annual_area_total_rounded = \\\n",
    "    annual_area_total_rounded[annual_area_total_rounded.total > 0]\n",
    "annual_area_total_rounded.head()"
   ]
  },
  {
   "cell_type": "code",
   "execution_count": null,
   "metadata": {},
   "outputs": [],
   "source": [
    "# Dump to JSON using pandas, because it doesn't produce invalid\n",
    "# JSON when there are NaNs, then load into dicts.\n",
    "\n",
    "def to_pandas_json(df):\n",
    "    return json.loads(df.to_json(orient='split', date_unit='s', index=False))\n",
    "\n",
    "with open('output/postcode_areas.data.json', 'w') as file:\n",
    "    json.dump({\n",
    "        'totals': to_pandas_json(annual_area_total_rounded),\n",
    "        'cordis': to_pandas_json(cordis_top.drop(columns='postcode_area')),\n",
    "        'creative': to_pandas_json(creative_top.drop(columns='postcode_area')),\n",
    "        'esif': to_pandas_json(esif_top.drop(columns='postcode_area'))\n",
    "    }, file, sort_keys=True)"
   ]
  },
  {
   "cell_type": "code",
   "execution_count": null,
   "metadata": {},
   "outputs": [],
   "source": []
  }
 ],
 "metadata": {
  "kernelspec": {
   "display_name": "Python 3",
   "language": "python",
   "name": "python3"
  },
  "language_info": {
   "codemirror_mode": {
    "name": "ipython",
    "version": 3
   },
   "file_extension": ".py",
   "mimetype": "text/x-python",
   "name": "python",
   "nbconvert_exporter": "python",
   "pygments_lexer": "ipython3",
   "version": "3.6.5"
  }
 },
 "nbformat": 4,
 "nbformat_minor": 2
}
