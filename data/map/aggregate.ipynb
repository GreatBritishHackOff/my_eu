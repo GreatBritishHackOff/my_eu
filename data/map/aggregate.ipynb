{
 "cells": [
  {
   "cell_type": "markdown",
   "metadata": {},
   "source": [
    "# Build Aggregate Data"
   ]
  },
  {
   "cell_type": "code",
   "execution_count": null,
   "metadata": {},
   "outputs": [],
   "source": [
    "import pandas as pd"
   ]
  },
  {
   "cell_type": "markdown",
   "metadata": {},
   "source": [
    "## Load Cleaned Data\n",
    "\n",
    "### CAP"
   ]
  },
  {
   "cell_type": "code",
   "execution_count": null,
   "metadata": {},
   "outputs": [],
   "source": [
    "cap_by_area = pd.read_pickle('../cap/output/cap_by_area.pkl.gz')\n",
    "cap_by_area.head()"
   ]
  },
  {
   "cell_type": "markdown",
   "metadata": {},
   "source": [
    "### CORDIS"
   ]
  },
  {
   "cell_type": "code",
   "execution_count": null,
   "metadata": {},
   "outputs": [],
   "source": [
    "fp7_organizations = pd.read_pickle('../cordis/output/fp7_organizations.pkl.gz')\n",
    "fp7_organizations.head()"
   ]
  },
  {
   "cell_type": "code",
   "execution_count": null,
   "metadata": {},
   "outputs": [],
   "source": [
    "fp7_projects = pd.read_pickle('../cordis/output/fp7_projects.pkl.gz')\n",
    "fp7_projects.rename({\n",
    "    'startDate': 'start_date',\n",
    "    'endDate': 'end_date',\n",
    "}, axis=1, inplace=True)\n",
    "fp7_projects.head()"
   ]
  },
  {
   "cell_type": "code",
   "execution_count": null,
   "metadata": {},
   "outputs": [],
   "source": [
    "fp7 = pd.merge(\n",
    "    fp7_projects, fp7_organizations,\n",
    "    left_on='rcn', right_on='projectRcn', validate='1:m'\n",
    ")\n",
    "fp7.head()"
   ]
  },
  {
   "cell_type": "code",
   "execution_count": null,
   "metadata": {},
   "outputs": [],
   "source": [
    "fp7.describe()"
   ]
  },
  {
   "cell_type": "markdown",
   "metadata": {},
   "source": [
    "### Creative Europe"
   ]
  },
  {
   "cell_type": "code",
   "execution_count": null,
   "metadata": {},
   "outputs": [],
   "source": [
    "creative_organisations = pd.read_pickle('../creative/output/creative_europe_organisations.pkl.gz')\n",
    "creative_organisations.shape"
   ]
  },
  {
   "cell_type": "code",
   "execution_count": null,
   "metadata": {},
   "outputs": [],
   "source": [
    "creative_projects = pd.read_pickle('../creative/output/creative_europe_projects.pkl.gz')\n",
    "creative_projects.shape"
   ]
  },
  {
   "cell_type": "code",
   "execution_count": null,
   "metadata": {},
   "outputs": [],
   "source": [
    "creative = pd.merge(creative_projects, creative_organisations, on='project_number', validate='1:m')\n",
    "creative.shape"
   ]
  },
  {
   "cell_type": "code",
   "execution_count": null,
   "metadata": {},
   "outputs": [],
   "source": [
    "creative.head()"
   ]
  },
  {
   "cell_type": "markdown",
   "metadata": {},
   "source": [
    "### ESIF (ESF/ERDF)"
   ]
  },
  {
   "cell_type": "code",
   "execution_count": null,
   "metadata": {},
   "outputs": [],
   "source": [
    "esif_england = pd.read_pickle('../esif/output/esif_england_2014_2020.pkl.gz')\n",
    "esif_england.head()"
   ]
  },
  {
   "cell_type": "code",
   "execution_count": null,
   "metadata": {},
   "outputs": [],
   "source": [
    "esif_ni = pd.read_pickle('../esif/output/esif_ni_2014_2020.pkl.gz')\n",
    "esif_ni.head()"
   ]
  },
  {
   "cell_type": "code",
   "execution_count": null,
   "metadata": {},
   "outputs": [],
   "source": [
    "esif_scotland = pd.read_pickle('../esif/output/esif_scotland.pkl.gz')\n",
    "esif_scotland.head()"
   ]
  },
  {
   "cell_type": "code",
   "execution_count": null,
   "metadata": {},
   "outputs": [],
   "source": [
    "esif_wales = pd.read_pickle('../esif/output/esif_wales.pkl.gz')\n",
    "esif_wales.head()"
   ]
  },
  {
   "cell_type": "markdown",
   "metadata": {},
   "source": [
    "## Idea 2: Aggregate over each Area\n",
    "\n",
    "To do this, we need to convert from EUR to GBP. Exchange rates have been quite variable, so if we want to get a reasonable estimate we first need to disaggregate over time. It looks like we can go down to monthly, which should be enough.\n",
    "\n",
    "### Time Ranges"
   ]
  },
  {
   "cell_type": "code",
   "execution_count": null,
   "metadata": {},
   "outputs": [],
   "source": [
    "[\n",
    "    cap_by_area.year.min(),\n",
    "    fp7_projects.start_date.min(),\n",
    "    creative.start_date.min(),\n",
    "    esif_england.start_date.min(),\n",
    "    esif_ni.start_date.min(),\n",
    "    esif_scotland.start_date.min(),\n",
    "    esif_wales.start_date.min()\n",
    "]"
   ]
  },
  {
   "cell_type": "code",
   "execution_count": null,
   "metadata": {},
   "outputs": [],
   "source": [
    "[\n",
    "    cap_by_area.year.max(),\n",
    "    fp7_projects.end_date.max(),\n",
    "    creative.end_date.max(),\n",
    "    esif_england.end_date.max(),\n",
    "    esif_ni.end_date.max(),\n",
    "    esif_scotland.end_date.max(),\n",
    "    esif_wales.end_date.max()\n",
    "]"
   ]
  },
  {
   "cell_type": "markdown",
   "metadata": {},
   "source": [
    "### Exchange Rates"
   ]
  },
  {
   "cell_type": "code",
   "execution_count": null,
   "metadata": {},
   "outputs": [],
   "source": [
    "euro_gbp = pd.read_pickle('../exchange_rates/output/exchange_rates.pkl.gz')\n",
    "euro_gbp.tail()"
   ]
  },
  {
   "cell_type": "markdown",
   "metadata": {},
   "source": [
    "### Monthly Aggregates\n",
    "\n",
    "#### CAP\n",
    "\n",
    "TODO: Need to account for co-financing."
   ]
  },
  {
   "cell_type": "code",
   "execution_count": null,
   "metadata": {},
   "outputs": [],
   "source": [
    "monthly_cap_by_area = cap_by_area.copy()\n",
    "monthly_cap_by_area.otherEAGF /= 12\n",
    "monthly_cap_by_area.directEAGF /= 12\n",
    "monthly_cap_by_area.ruralDevelopment /= 12\n",
    "monthly_cap_by_area.total /= 12\n",
    "monthly_cap_by_area.head()"
   ]
  },
  {
   "cell_type": "code",
   "execution_count": null,
   "metadata": {},
   "outputs": [],
   "source": [
    "months_2015 = pd.DataFrame({\n",
    "    'year': 2015,\n",
    "    'month_start': ['{:4d}-{:02d}-01'.format(2015, month) for month in range(1, 13)]\n",
    "})\n",
    "months_2015"
   ]
  },
  {
   "cell_type": "code",
   "execution_count": null,
   "metadata": {},
   "outputs": [],
   "source": [
    "monthly_cap_by_area.shape"
   ]
  },
  {
   "cell_type": "code",
   "execution_count": null,
   "metadata": {},
   "outputs": [],
   "source": [
    "monthly_cap_by_area = pd.merge(monthly_cap_by_area, months_2015, on='year')\n",
    "monthly_cap_by_area.shape"
   ]
  },
  {
   "cell_type": "code",
   "execution_count": null,
   "metadata": {},
   "outputs": [],
   "source": [
    "monthly_cap_by_area.head()"
   ]
  },
  {
   "cell_type": "markdown",
   "metadata": {},
   "source": [
    "#### CORDIS"
   ]
  },
  {
   "cell_type": "code",
   "execution_count": null,
   "metadata": {},
   "outputs": [],
   "source": [
    "def find_monthly_money_by_area(df):\n",
    "    df = df.copy()\n",
    "    df['postcode_area'] = df.postcode.str.replace(r'^([A-Z]{1,2}).+$', r'\\1')\n",
    "    df = df.loc[\n",
    "        ~df.eu_money.isna() & ~df.start_date.isna() & ~df.end_date.isna(),\n",
    "        ['start_date', 'end_date', 'eu_money', 'postcode_area']\n",
    "    ]\n",
    "    \n",
    "    def expand_monthly(row):\n",
    "        days = pd.date_range(row.start_date, row.end_date, closed='left')\n",
    "        daily = pd.DataFrame({\n",
    "            'month_start': days,\n",
    "            'eu_money': row.eu_money / days.shape[0]\n",
    "        })\n",
    "        monthly = daily.resample('MS', on='month_start').sum()\n",
    "        monthly['postcode_area'] = row.postcode_area\n",
    "        return monthly\n",
    "    \n",
    "    result = pd.concat(list(\n",
    "        df.apply(expand_monthly, axis=1, result_type='reduce')\n",
    "    ))\n",
    "    result.reset_index(inplace=True)\n",
    "    return result\n",
    "    \n",
    "monthly_fp7_by_area = find_monthly_money_by_area(\n",
    "    fp7.rename(columns={'ecContribution': 'eu_money'}))\n",
    "monthly_fp7_by_area.head()"
   ]
  },
  {
   "cell_type": "code",
   "execution_count": null,
   "metadata": {},
   "outputs": [],
   "source": [
    "monthly_fp7_by_area.shape"
   ]
  },
  {
   "cell_type": "code",
   "execution_count": null,
   "metadata": {},
   "outputs": [],
   "source": [
    "def convert_eur_to_gbp(monthly_eu_money, euro_gbp):\n",
    "    monthly_eu_money_with_rate = pd.merge(\n",
    "        monthly_eu_money, euro_gbp, on='month_start', how='left', validate='m:1')\n",
    "    monthly_eu_money_with_rate.eu_money *= monthly_eu_money_with_rate.rate\n",
    "    monthly_eu_money_with_rate.drop('rate', axis=1, inplace=True)\n",
    "    return monthly_eu_money_with_rate\n",
    "\n",
    "monthly_fp7_by_area_gbp_records = convert_eur_to_gbp(monthly_fp7_by_area, euro_gbp)\n",
    "assert monthly_fp7_by_area_gbp_records.shape == monthly_fp7_by_area.shape\n",
    "monthly_fp7_by_area_gbp_records.head()"
   ]
  },
  {
   "cell_type": "code",
   "execution_count": null,
   "metadata": {},
   "outputs": [],
   "source": [
    "monthly_fp7_by_area_gbp = \\\n",
    "    monthly_fp7_by_area_gbp_records.groupby(['month_start', 'postcode_area']).sum().reset_index()\n",
    "monthly_fp7_by_area_gbp.head()"
   ]
  },
  {
   "cell_type": "code",
   "execution_count": null,
   "metadata": {},
   "outputs": [],
   "source": [
    "all_time_fp7_by_area_gbp = \\\n",
    "    monthly_fp7_by_area_gbp_records.groupby('postcode_area').sum().reset_index()\n",
    "all_time_fp7_by_area_gbp.head()"
   ]
  },
  {
   "cell_type": "markdown",
   "metadata": {},
   "source": [
    "### Creative Europe\n",
    "\n",
    "TODO: need to estimate per-partner contribution by dividing through by number of partners."
   ]
  },
  {
   "cell_type": "code",
   "execution_count": null,
   "metadata": {},
   "outputs": [],
   "source": [
    "monthly_creative_by_area = find_monthly_money_by_area(\n",
    "    creative.rename(columns={'eu_investment': 'eu_money'}))\n",
    "monthly_creative_by_area.head()"
   ]
  },
  {
   "cell_type": "code",
   "execution_count": null,
   "metadata": {},
   "outputs": [],
   "source": [
    "monthly_creative_by_area_gbp_records = convert_eur_to_gbp(monthly_creative_by_area, euro_gbp)\n",
    "assert monthly_creative_by_area_gbp_records.shape == monthly_creative_by_area.shape\n",
    "monthly_creative_by_area_gbp_records.head()"
   ]
  },
  {
   "cell_type": "code",
   "execution_count": null,
   "metadata": {},
   "outputs": [],
   "source": [
    "monthly_creative_by_area_gbp = \\\n",
    "    monthly_creative_by_area_gbp_records.groupby(['month_start', 'postcode_area']).sum().reset_index()\n",
    "monthly_creative_by_area_gbp.head()"
   ]
  },
  {
   "cell_type": "code",
   "execution_count": null,
   "metadata": {},
   "outputs": [],
   "source": [
    "all_time_creative_by_area_gbp = \\\n",
    "    monthly_creative_by_area_gbp_records.groupby('postcode_area').sum().reset_index()\n",
    "all_time_creative_by_area_gbp.head()"
   ]
  },
  {
   "cell_type": "markdown",
   "metadata": {},
   "source": [
    "### ESIF (ESF/ERDF)\n",
    "\n",
    "These are already in GBP, but we might as well get the monthly numbers to see what they look like."
   ]
  },
  {
   "cell_type": "code",
   "execution_count": null,
   "metadata": {},
   "outputs": [],
   "source": []
  },
  {
   "cell_type": "code",
   "execution_count": null,
   "metadata": {},
   "outputs": [],
   "source": []
  },
  {
   "cell_type": "code",
   "execution_count": null,
   "metadata": {},
   "outputs": [],
   "source": []
  },
  {
   "cell_type": "code",
   "execution_count": null,
   "metadata": {},
   "outputs": [],
   "source": []
  },
  {
   "cell_type": "code",
   "execution_count": null,
   "metadata": {},
   "outputs": [],
   "source": []
  },
  {
   "cell_type": "code",
   "execution_count": null,
   "metadata": {},
   "outputs": [],
   "source": []
  },
  {
   "cell_type": "code",
   "execution_count": null,
   "metadata": {},
   "outputs": [],
   "source": []
  },
  {
   "cell_type": "code",
   "execution_count": null,
   "metadata": {},
   "outputs": [],
   "source": []
  },
  {
   "cell_type": "code",
   "execution_count": null,
   "metadata": {},
   "outputs": [],
   "source": []
  },
  {
   "cell_type": "code",
   "execution_count": null,
   "metadata": {},
   "outputs": [],
   "source": []
  },
  {
   "cell_type": "code",
   "execution_count": null,
   "metadata": {},
   "outputs": [],
   "source": []
  },
  {
   "cell_type": "code",
   "execution_count": null,
   "metadata": {},
   "outputs": [],
   "source": []
  },
  {
   "cell_type": "code",
   "execution_count": null,
   "metadata": {},
   "outputs": [],
   "source": []
  },
  {
   "cell_type": "code",
   "execution_count": null,
   "metadata": {},
   "outputs": [],
   "source": []
  },
  {
   "cell_type": "code",
   "execution_count": null,
   "metadata": {},
   "outputs": [],
   "source": []
  },
  {
   "cell_type": "code",
   "execution_count": null,
   "metadata": {},
   "outputs": [],
   "source": []
  },
  {
   "cell_type": "code",
   "execution_count": null,
   "metadata": {},
   "outputs": [],
   "source": []
  }
 ],
 "metadata": {
  "kernelspec": {
   "display_name": "Python 3",
   "language": "python",
   "name": "python3"
  },
  "language_info": {
   "codemirror_mode": {
    "name": "ipython",
    "version": 3
   },
   "file_extension": ".py",
   "mimetype": "text/x-python",
   "name": "python",
   "nbconvert_exporter": "python",
   "pygments_lexer": "ipython3",
   "version": "3.6.5"
  }
 },
 "nbformat": 4,
 "nbformat_minor": 2
}
