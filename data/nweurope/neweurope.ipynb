{
 "cells": [
  {
   "cell_type": "markdown",
   "metadata": {},
   "source": [
    "# Import Interreg NWE Data \n",
    "### http://www.nweurope.eu/media/4533/list-of-beneficiaries-for-website.xlsx"
   ]
  },
  {
   "cell_type": "code",
   "execution_count": 24,
   "metadata": {},
   "outputs": [],
   "source": [
    "import json\n",
    "\n",
    "import pandas as pd\n",
    "import numpy as np\n",
    "\n",
    "pd.set_option('display.max_columns', 50)\n",
    "pd.set_option('display.max_colwidth', 100)"
   ]
  },
  {
   "cell_type": "code",
   "execution_count": 25,
   "metadata": {},
   "outputs": [
    {
     "data": {
      "text/plain": [
       "(536, 12)"
      ]
     },
     "execution_count": 25,
     "metadata": {},
     "output_type": "execute_result"
    }
   ],
   "source": [
    "all_benefs = pd.read_excel('input/list-of-beneficiaries-for-website.xlsx')\n",
    "all_benefs.shape"
   ]
  },
  {
   "cell_type": "markdown",
   "metadata": {},
   "source": [
    "## Load and Restrict Data to United Kingdom"
   ]
  },
  {
   "cell_type": "code",
   "execution_count": 26,
   "metadata": {},
   "outputs": [],
   "source": [
    "#all_benefs.columns"
   ]
  },
  {
   "cell_type": "code",
   "execution_count": 27,
   "metadata": {},
   "outputs": [],
   "source": [
    "all_benefs.rename({\n",
    "    'No\\nNo\\nNr.\\nNr.': 'Id',\n",
    "    'Beneficiary name\\nNom du bénéfictiaire\\nName des Begünstigten \\nNaam van de begunstigde ': 'beneficiary',\n",
    "    \"Operation name\\nNom de l'opération\\nBezeichnung des Vorhabens\\nNaam van de concrete actie\": 'project',\n",
    "    \"Operation summary\\nRésumé de l'opération\\nZusammenfassung des Vorhabens\\nSamenvatting van de concrete actie\": 'project_summary',\n",
    "    \"Operation start date\\nDate de début de l'opération\\nDatum des Beginns des Vorhabens\\nBegindatum van de concrete actie\": 'start_date',\n",
    "    \"Operation end date\\nDate de fin de l'opération \\nDatum des Endes des Vorhabens \\nEinddatum van de concrete actie\": 'end_date',\n",
    "    'Total eligible expenditure allocated to the beneficiary\\nTotal des dépenses éligibles attribué au bénéficiaire\\nGesamtbetrag der förderfähigen Ausgaben an Begünstigte\\nTotale subsidiabele uitgaven toegewezen aan begunstigde': 'funding',\n",
    "    \"Union co-financing rate\\nTaux de cofinancement par l'Union \\nUnions-Kofinanzierungssatz pro Prioritätsachse\\nMedefinancieringspercentage van de Unie (per prioritaire as)\": 'union_cofinancing',\n",
    "    \"Operation post code\\nCode postal de l\\'opération\\nPostleitzahl des Vorhabens\\nPostcode van de concrete actie\": 'raw_postcode',\n",
    "    'Country\\nPays\\nLand\\nLand': 'country',\n",
    "    \"Name of category of intervention for the operation in accordance with point (b) (vi) of the first subparagraph of Article 96(2)\\nDénomination de la catégorie d'intervention dont relève l'opération conformément à l'article 96, paragraphe 2,\\npremier alinéa, point b) vi)\\nBezeichnung der Interventionskategorie für das Vorhaben gemäß Artikel 96 Absatz 2 Unterabsatz 1 Buchstabe b Ziffer vi;\\nNaam van de categorie steunverlening voor de concrete actie, overeenkomstig artikel 96, lid 2, eerste alinea,\\nonder b), vi)\": 'category',\n",
    "    'Date of last update of the list of operations\\nDate de la dernière mise à jour de la liste des opérations\\nDatum der letzten Aktualisierung der Liste der Vorhaben\\nDatum van de laatste bijwerking van de lijst van concrete acties': 'last_update'\n",
    "}, axis=1, inplace=True)\n"
   ]
  },
  {
   "cell_type": "code",
   "execution_count": 28,
   "metadata": {},
   "outputs": [
    {
     "data": {
      "text/plain": [
       "Index(['Id', 'beneficiary', 'project', 'project_summary', 'start_date',\n",
       "       'end_date', 'funding', 'union_cofinancing', 'raw_postcode', 'country',\n",
       "       'category', 'last_update'],\n",
       "      dtype='object')"
      ]
     },
     "execution_count": 28,
     "metadata": {},
     "output_type": "execute_result"
    }
   ],
   "source": [
    "all_benefs.columns"
   ]
  },
  {
   "cell_type": "code",
   "execution_count": 29,
   "metadata": {},
   "outputs": [
    {
     "data": {
      "text/plain": [
       "array(['Austria', 'Belgium', 'Brussels', 'Denmark', 'France', 'Germany',\n",
       "       'Ireland', 'Luxembourg', 'Spain', 'Switzerland', 'The Netherlands',\n",
       "       'United Kingdom'], dtype=object)"
      ]
     },
     "execution_count": 29,
     "metadata": {},
     "output_type": "execute_result"
    }
   ],
   "source": [
    "all_benefs.country.sort_values().unique()"
   ]
  },
  {
   "cell_type": "code",
   "execution_count": 30,
   "metadata": {},
   "outputs": [],
   "source": [
    "benefs = all_benefs[all_benefs.country=='United Kingdom'].copy()"
   ]
  },
  {
   "cell_type": "code",
   "execution_count": 31,
   "metadata": {},
   "outputs": [],
   "source": [
    "#benefs.head()"
   ]
  },
  {
   "cell_type": "markdown",
   "metadata": {},
   "source": [
    "## Columns"
   ]
  },
  {
   "cell_type": "code",
   "execution_count": 32,
   "metadata": {},
   "outputs": [
    {
     "data": {
      "text/plain": [
       "Id                   95\n",
       "beneficiary          95\n",
       "project              95\n",
       "project_summary      43\n",
       "start_date           43\n",
       "end_date             43\n",
       "funding              95\n",
       "union_cofinancing    95\n",
       "raw_postcode         95\n",
       "country              95\n",
       "category             95\n",
       "last_update          95\n",
       "dtype: int64"
      ]
     },
     "execution_count": 32,
     "metadata": {},
     "output_type": "execute_result"
    }
   ],
   "source": [
    "benefs.count()"
   ]
  },
  {
   "cell_type": "code",
   "execution_count": 33,
   "metadata": {},
   "outputs": [
    {
     "data": {
      "text/plain": [
       "array([ 5,  9,  1,  4,  2,  3,  6,  8,  7, 11, 10, 12])"
      ]
     },
     "execution_count": 33,
     "metadata": {},
     "output_type": "execute_result"
    }
   ],
   "source": [
    "benefs.Id.unique()"
   ]
  },
  {
   "cell_type": "markdown",
   "metadata": {},
   "source": [
    "#### Id column appears useless - not unique and doesn't list members of particular projects"
   ]
  },
  {
   "cell_type": "code",
   "execution_count": 34,
   "metadata": {},
   "outputs": [],
   "source": [
    "#benefs.beneficiary.unique()"
   ]
  },
  {
   "cell_type": "code",
   "execution_count": 35,
   "metadata": {},
   "outputs": [],
   "source": [
    "#benefs.category.unique()"
   ]
  },
  {
   "cell_type": "code",
   "execution_count": 36,
   "metadata": {},
   "outputs": [
    {
     "data": {
      "text/plain": [
       "(18,)"
      ]
     },
     "execution_count": 36,
     "metadata": {},
     "output_type": "execute_result"
    }
   ],
   "source": [
    "benefs.category.unique().shape"
   ]
  },
  {
   "cell_type": "code",
   "execution_count": 37,
   "metadata": {},
   "outputs": [],
   "source": [
    "#benefs.groupby('category').size().reset_index(name='size').sort_values('size', ascending=False).head(18)"
   ]
  },
  {
   "cell_type": "markdown",
   "metadata": {},
   "source": [
    "# Categories need cleaning up -do below"
   ]
  },
  {
   "cell_type": "code",
   "execution_count": 38,
   "metadata": {},
   "outputs": [],
   "source": [
    "#Do clean up here"
   ]
  },
  {
   "cell_type": "markdown",
   "metadata": {},
   "source": [
    "## Import postcode data and check imported data"
   ]
  },
  {
   "cell_type": "code",
   "execution_count": 39,
   "metadata": {},
   "outputs": [],
   "source": [
    "ukpostcodes = pd.read_csv('../postcodes/input/ukpostcodes.csv.gz')"
   ]
  },
  {
   "cell_type": "code",
   "execution_count": 40,
   "metadata": {},
   "outputs": [
    {
     "data": {
      "text/plain": [
       "(1762397, 4)"
      ]
     },
     "execution_count": 40,
     "metadata": {},
     "output_type": "execute_result"
    }
   ],
   "source": [
    "ukpostcodes.shape"
   ]
  },
  {
   "cell_type": "code",
   "execution_count": 41,
   "metadata": {},
   "outputs": [
    {
     "data": {
      "text/plain": [
       "69"
      ]
     },
     "execution_count": 41,
     "metadata": {},
     "output_type": "execute_result"
    }
   ],
   "source": [
    "benefs.raw_postcode.isin(ukpostcodes.postcode).sum()"
   ]
  },
  {
   "cell_type": "code",
   "execution_count": 42,
   "metadata": {},
   "outputs": [],
   "source": [
    "benefs['postcode'] = benefs.raw_postcode.\\\n",
    "    str.upper().\\\n",
    "    str.strip().\\\n",
    "    str.replace(r'[^A-Z0-9]', '').\\\n",
    "    str.replace(r'^(\\S+)([0-9][A-Z]{2})$', r'\\1 \\2').\\\n",
    "    str.replace('UK ', '')"
   ]
  },
  {
   "cell_type": "code",
   "execution_count": 43,
   "metadata": {},
   "outputs": [
    {
     "data": {
      "text/plain": [
       "88"
      ]
     },
     "execution_count": 43,
     "metadata": {},
     "output_type": "execute_result"
    }
   ],
   "source": [
    "benefs.postcode.isin(ukpostcodes.postcode).sum()"
   ]
  },
  {
   "cell_type": "code",
   "execution_count": 44,
   "metadata": {},
   "outputs": [
    {
     "data": {
      "text/plain": [
       "array(['Y010 5DG', 'PO Box 322', 'BY9 7BL', 'EH10 6YK', 'ME4 4RB',\n",
       "       'TN34 4UY ', 'UK ME19 6BJ'], dtype=object)"
      ]
     },
     "execution_count": 44,
     "metadata": {},
     "output_type": "execute_result"
    }
   ],
   "source": [
    "benefs.raw_postcode[~benefs.postcode.isin(ukpostcodes.postcode)].unique()"
   ]
  },
  {
   "cell_type": "code",
   "execution_count": 45,
   "metadata": {},
   "outputs": [
    {
     "ename": "SyntaxError",
     "evalue": "unexpected EOF while parsing (<ipython-input-45-c233060a3a3a>, line 1)",
     "output_type": "error",
     "traceback": [
      "\u001b[0;36m  File \u001b[0;32m\"<ipython-input-45-c233060a3a3a>\"\u001b[0;36m, line \u001b[0;32m1\u001b[0m\n\u001b[0;31m    benefs[benefs in benefs.postcode.isin(ukpostcodes.postcode)\u001b[0m\n\u001b[0m                                                               ^\u001b[0m\n\u001b[0;31mSyntaxError\u001b[0m\u001b[0;31m:\u001b[0m unexpected EOF while parsing\n"
     ]
    }
   ],
   "source": [
    "benefs[benefs in benefs.postcode.isin(ukpostcodes.postcode)"
   ]
  },
  {
   "cell_type": "code",
   "execution_count": 46,
   "metadata": {},
   "outputs": [
    {
     "data": {
      "text/plain": [
       "Id                   95\n",
       "beneficiary          95\n",
       "project              95\n",
       "project_summary      43\n",
       "start_date           43\n",
       "end_date             43\n",
       "funding              95\n",
       "union_cofinancing    95\n",
       "raw_postcode         95\n",
       "country              95\n",
       "category             95\n",
       "last_update          95\n",
       "postcode             95\n",
       "dtype: int64"
      ]
     },
     "execution_count": 46,
     "metadata": {},
     "output_type": "execute_result"
    }
   ],
   "source": [
    "benefs.count()"
   ]
  },
  {
   "cell_type": "markdown",
   "metadata": {},
   "source": [
    "### Typos, deprecated postcodes, one mistake, and one prefixed with UK - can't seem to get rid of it."
   ]
  },
  {
   "cell_type": "markdown",
   "metadata": {},
   "source": [
    "## Import exchange rate."
   ]
  },
  {
   "cell_type": "code",
   "execution_count": 47,
   "metadata": {},
   "outputs": [
    {
     "data": {
      "text/html": [
       "<div>\n",
       "<style scoped>\n",
       "    .dataframe tbody tr th:only-of-type {\n",
       "        vertical-align: middle;\n",
       "    }\n",
       "\n",
       "    .dataframe tbody tr th {\n",
       "        vertical-align: top;\n",
       "    }\n",
       "\n",
       "    .dataframe thead th {\n",
       "        text-align: right;\n",
       "    }\n",
       "</style>\n",
       "<table border=\"1\" class=\"dataframe\">\n",
       "  <thead>\n",
       "    <tr style=\"text-align: right;\">\n",
       "      <th></th>\n",
       "      <th>month_start</th>\n",
       "      <th>rate</th>\n",
       "    </tr>\n",
       "  </thead>\n",
       "  <tbody>\n",
       "    <tr>\n",
       "      <th>84</th>\n",
       "      <td>2025-08-01</td>\n",
       "      <td>0.870336</td>\n",
       "    </tr>\n",
       "    <tr>\n",
       "      <th>85</th>\n",
       "      <td>2025-09-01</td>\n",
       "      <td>0.870336</td>\n",
       "    </tr>\n",
       "    <tr>\n",
       "      <th>86</th>\n",
       "      <td>2025-10-01</td>\n",
       "      <td>0.870336</td>\n",
       "    </tr>\n",
       "    <tr>\n",
       "      <th>87</th>\n",
       "      <td>2025-11-01</td>\n",
       "      <td>0.870336</td>\n",
       "    </tr>\n",
       "    <tr>\n",
       "      <th>88</th>\n",
       "      <td>2025-12-01</td>\n",
       "      <td>0.870336</td>\n",
       "    </tr>\n",
       "  </tbody>\n",
       "</table>\n",
       "</div>"
      ],
      "text/plain": [
       "   month_start      rate\n",
       "84  2025-08-01  0.870336\n",
       "85  2025-09-01  0.870336\n",
       "86  2025-10-01  0.870336\n",
       "87  2025-11-01  0.870336\n",
       "88  2025-12-01  0.870336"
      ]
     },
     "execution_count": 47,
     "metadata": {},
     "output_type": "execute_result"
    }
   ],
   "source": [
    "eur_gbp = pd.read_pickle('../exchange_rates/output/exchange_rates.pkl.gz')\n",
    "eur_gbp.tail()"
   ]
  },
  {
   "cell_type": "code",
   "execution_count": 48,
   "metadata": {},
   "outputs": [
    {
     "data": {
      "text/plain": [
       "<bound method DataFrame.count of     month_start      rate\n",
       "235  1999-01-01  0.705455\n",
       "234  1999-02-01  0.692800\n",
       "233  1999-03-01  0.688800\n",
       "232  1999-04-01  0.663800\n",
       "231  1999-05-01  0.658400\n",
       "230  1999-06-01  0.654600\n",
       "229  1999-07-01  0.654400\n",
       "228  1999-08-01  0.666500\n",
       "227  1999-09-01  0.658200\n",
       "226  1999-10-01  0.643000\n",
       "225  1999-11-01  0.641500\n",
       "224  1999-12-01  0.629700\n",
       "223  2000-01-01  0.622600\n",
       "222  2000-02-01  0.605100\n",
       "221  2000-03-01  0.607200\n",
       "220  2000-04-01  0.601000\n",
       "219  2000-05-01  0.582700\n",
       "218  2000-06-01  0.622600\n",
       "217  2000-07-01  0.625700\n",
       "216  2000-08-01  0.615000\n",
       "215  2000-09-01  0.614800\n",
       "214  2000-10-01  0.602500\n",
       "213  2000-11-01  0.581200\n",
       "212  2000-12-01  0.606900\n",
       "211  2001-01-01  0.623800\n",
       "210  2001-02-01  0.629800\n",
       "209  2001-03-01  0.634900\n",
       "208  2001-04-01  0.614800\n",
       "207  2001-05-01  0.625400\n",
       "206  2001-06-01  0.602400\n",
       "..          ...       ...\n",
       "59   2023-07-01  0.870336\n",
       "60   2023-08-01  0.870336\n",
       "61   2023-09-01  0.870336\n",
       "62   2023-10-01  0.870336\n",
       "63   2023-11-01  0.870336\n",
       "64   2023-12-01  0.870336\n",
       "65   2024-01-01  0.870336\n",
       "66   2024-02-01  0.870336\n",
       "67   2024-03-01  0.870336\n",
       "68   2024-04-01  0.870336\n",
       "69   2024-05-01  0.870336\n",
       "70   2024-06-01  0.870336\n",
       "71   2024-07-01  0.870336\n",
       "72   2024-08-01  0.870336\n",
       "73   2024-09-01  0.870336\n",
       "74   2024-10-01  0.870336\n",
       "75   2024-11-01  0.870336\n",
       "76   2024-12-01  0.870336\n",
       "77   2025-01-01  0.870336\n",
       "78   2025-02-01  0.870336\n",
       "79   2025-03-01  0.870336\n",
       "80   2025-04-01  0.870336\n",
       "81   2025-05-01  0.870336\n",
       "82   2025-06-01  0.870336\n",
       "83   2025-07-01  0.870336\n",
       "84   2025-08-01  0.870336\n",
       "85   2025-09-01  0.870336\n",
       "86   2025-10-01  0.870336\n",
       "87   2025-11-01  0.870336\n",
       "88   2025-12-01  0.870336\n",
       "\n",
       "[324 rows x 2 columns]>"
      ]
     },
     "execution_count": 48,
     "metadata": {},
     "output_type": "execute_result"
    }
   ],
   "source": [
    "eur_gbp.count"
   ]
  },
  {
   "cell_type": "code",
   "execution_count": 49,
   "metadata": {},
   "outputs": [
    {
     "data": {
      "text/plain": [
       "0"
      ]
     },
     "execution_count": 49,
     "metadata": {},
     "output_type": "execute_result"
    }
   ],
   "source": [
    "eur_gbp.rate.isna().sum()"
   ]
  },
  {
   "cell_type": "markdown",
   "metadata": {},
   "source": [
    "## Check that everything has start and end dates"
   ]
  },
  {
   "cell_type": "code",
   "execution_count": null,
   "metadata": {},
   "outputs": [],
   "source": []
  },
  {
   "cell_type": "code",
   "execution_count": 50,
   "metadata": {},
   "outputs": [
    {
     "data": {
      "text/plain": [
       "52"
      ]
     },
     "execution_count": 50,
     "metadata": {},
     "output_type": "execute_result"
    }
   ],
   "source": [
    "benefs.start_date.isna().sum()"
   ]
  },
  {
   "cell_type": "code",
   "execution_count": 51,
   "metadata": {},
   "outputs": [],
   "source": [
    "benefs.start_date.fillna(value='01.01.2015', inplace=True)"
   ]
  },
  {
   "cell_type": "code",
   "execution_count": 52,
   "metadata": {},
   "outputs": [
    {
     "data": {
      "text/html": [
       "<div>\n",
       "<style scoped>\n",
       "    .dataframe tbody tr th:only-of-type {\n",
       "        vertical-align: middle;\n",
       "    }\n",
       "\n",
       "    .dataframe tbody tr th {\n",
       "        vertical-align: top;\n",
       "    }\n",
       "\n",
       "    .dataframe thead th {\n",
       "        text-align: right;\n",
       "    }\n",
       "</style>\n",
       "<table border=\"1\" class=\"dataframe\">\n",
       "  <thead>\n",
       "    <tr style=\"text-align: right;\">\n",
       "      <th></th>\n",
       "      <th>Id</th>\n",
       "      <th>beneficiary</th>\n",
       "      <th>project</th>\n",
       "      <th>project_summary</th>\n",
       "      <th>start_date</th>\n",
       "      <th>end_date</th>\n",
       "      <th>funding</th>\n",
       "      <th>union_cofinancing</th>\n",
       "      <th>raw_postcode</th>\n",
       "      <th>country</th>\n",
       "      <th>category</th>\n",
       "      <th>last_update</th>\n",
       "      <th>postcode</th>\n",
       "    </tr>\n",
       "  </thead>\n",
       "  <tbody>\n",
       "    <tr>\n",
       "      <th>4</th>\n",
       "      <td>5</td>\n",
       "      <td>Aberdeen City Council</td>\n",
       "      <td>ACE-Retrofitting - Accelerating Condominium Energy Retrofitting</td>\n",
       "      <td>Although local authorities (LAs) are tackling climate change, a majority of buildings in NWE are...</td>\n",
       "      <td>15.09.2016</td>\n",
       "      <td>14.03.2020</td>\n",
       "      <td>404388.20</td>\n",
       "      <td>0.6</td>\n",
       "      <td>AB10 1AQ</td>\n",
       "      <td>United Kingdom</td>\n",
       "      <td>013 - Energy efficiency renovation of public infrastructure, emonstration projects and supportin...</td>\n",
       "      <td>23.10.2018</td>\n",
       "      <td>AB10 1AQ</td>\n",
       "    </tr>\n",
       "    <tr>\n",
       "      <th>8</th>\n",
       "      <td>9</td>\n",
       "      <td>Changeworks Resources for Life Ltd.</td>\n",
       "      <td>ACE-Retrofitting - Accelerating Condominium Energy Retrofitting</td>\n",
       "      <td>Although local authorities (LAs) are tackling climate change, a majority of buildings in NWE are...</td>\n",
       "      <td>15.09.2016</td>\n",
       "      <td>14.03.2020</td>\n",
       "      <td>117504.16</td>\n",
       "      <td>0.6</td>\n",
       "      <td>EH6 5PY</td>\n",
       "      <td>United Kingdom</td>\n",
       "      <td>013 - Energy efficiency renovation of public infrastructure, emonstration projects and supportin...</td>\n",
       "      <td>23.10.2018</td>\n",
       "      <td>EH6 5PY</td>\n",
       "    </tr>\n",
       "    <tr>\n",
       "      <th>9</th>\n",
       "      <td>1</td>\n",
       "      <td>University of Liverpool</td>\n",
       "      <td>AFTB - Towards adhesive free timber buildings</td>\n",
       "      <td>The project addresses the wasteful and harmful use of toxic adhesives in the manufacturing of En...</td>\n",
       "      <td>15.09.2016</td>\n",
       "      <td>14.03.2020</td>\n",
       "      <td>1486849.64</td>\n",
       "      <td>0.6</td>\n",
       "      <td>L69 7ZX</td>\n",
       "      <td>United Kingdom</td>\n",
       "      <td>069 - Support to environmentally-friendly production processes and resource efficiency in SMEs</td>\n",
       "      <td>23.10.2018</td>\n",
       "      <td>L69 7ZX</td>\n",
       "    </tr>\n",
       "    <tr>\n",
       "      <th>15</th>\n",
       "      <td>1</td>\n",
       "      <td>Swansea University</td>\n",
       "      <td>ALG-AD - Creating value from waste nutrients by integrating algal and anaerobic digestion techno...</td>\n",
       "      <td>NaN</td>\n",
       "      <td>01.01.2015</td>\n",
       "      <td>NaN</td>\n",
       "      <td>1091750.49</td>\n",
       "      <td>0.6</td>\n",
       "      <td>SA28PP</td>\n",
       "      <td>United Kingdom</td>\n",
       "      <td>19 - Commercial, industrial or hazardous waste management</td>\n",
       "      <td>23.10.2018</td>\n",
       "      <td>SA2 8PP</td>\n",
       "    </tr>\n",
       "    <tr>\n",
       "      <th>18</th>\n",
       "      <td>4</td>\n",
       "      <td>Birmingham City University</td>\n",
       "      <td>ALG-AD - Creating value from waste nutrients by integrating algal and anaerobic digestion techno...</td>\n",
       "      <td>NaN</td>\n",
       "      <td>01.01.2015</td>\n",
       "      <td>NaN</td>\n",
       "      <td>336378.96</td>\n",
       "      <td>0.6</td>\n",
       "      <td>B4 7XG</td>\n",
       "      <td>United Kingdom</td>\n",
       "      <td>19 - Commercial, industrial or hazardous waste management</td>\n",
       "      <td>23.10.2018</td>\n",
       "      <td>B4 7XG</td>\n",
       "    </tr>\n",
       "  </tbody>\n",
       "</table>\n",
       "</div>"
      ],
      "text/plain": [
       "    Id                          beneficiary  \\\n",
       "4    5                Aberdeen City Council   \n",
       "8    9  Changeworks Resources for Life Ltd.   \n",
       "9    1              University of Liverpool   \n",
       "15   1                   Swansea University   \n",
       "18   4           Birmingham City University   \n",
       "\n",
       "                                                                                                project  \\\n",
       "4                                      ACE-Retrofitting - Accelerating Condominium Energy Retrofitting    \n",
       "8                                      ACE-Retrofitting - Accelerating Condominium Energy Retrofitting    \n",
       "9                                                         AFTB - Towards adhesive free timber buildings   \n",
       "15  ALG-AD - Creating value from waste nutrients by integrating algal and anaerobic digestion techno...   \n",
       "18  ALG-AD - Creating value from waste nutrients by integrating algal and anaerobic digestion techno...   \n",
       "\n",
       "                                                                                        project_summary  \\\n",
       "4   Although local authorities (LAs) are tackling climate change, a majority of buildings in NWE are...   \n",
       "8   Although local authorities (LAs) are tackling climate change, a majority of buildings in NWE are...   \n",
       "9   The project addresses the wasteful and harmful use of toxic adhesives in the manufacturing of En...   \n",
       "15                                                                                                  NaN   \n",
       "18                                                                                                  NaN   \n",
       "\n",
       "    start_date    end_date     funding  union_cofinancing raw_postcode  \\\n",
       "4   15.09.2016  14.03.2020   404388.20                0.6     AB10 1AQ   \n",
       "8   15.09.2016  14.03.2020   117504.16                0.6      EH6 5PY   \n",
       "9   15.09.2016  14.03.2020  1486849.64                0.6      L69 7ZX   \n",
       "15  01.01.2015         NaN  1091750.49                0.6       SA28PP   \n",
       "18  01.01.2015         NaN   336378.96                0.6       B4 7XG   \n",
       "\n",
       "           country  \\\n",
       "4   United Kingdom   \n",
       "8   United Kingdom   \n",
       "9   United Kingdom   \n",
       "15  United Kingdom   \n",
       "18  United Kingdom   \n",
       "\n",
       "                                                                                               category  \\\n",
       "4   013 - Energy efficiency renovation of public infrastructure, emonstration projects and supportin...   \n",
       "8   013 - Energy efficiency renovation of public infrastructure, emonstration projects and supportin...   \n",
       "9        069 - Support to environmentally-friendly production processes and resource efficiency in SMEs   \n",
       "15                                            19 - Commercial, industrial or hazardous waste management   \n",
       "18                                            19 - Commercial, industrial or hazardous waste management   \n",
       "\n",
       "   last_update  postcode  \n",
       "4   23.10.2018  AB10 1AQ  \n",
       "8   23.10.2018   EH6 5PY  \n",
       "9   23.10.2018   L69 7ZX  \n",
       "15  23.10.2018   SA2 8PP  \n",
       "18  23.10.2018    B4 7XG  "
      ]
     },
     "execution_count": 52,
     "metadata": {},
     "output_type": "execute_result"
    }
   ],
   "source": [
    "benefs.head()"
   ]
  },
  {
   "cell_type": "code",
   "execution_count": 53,
   "metadata": {},
   "outputs": [
    {
     "data": {
      "text/plain": [
       "52"
      ]
     },
     "execution_count": 53,
     "metadata": {},
     "output_type": "execute_result"
    }
   ],
   "source": [
    "benefs.end_date.isna().sum()"
   ]
  },
  {
   "cell_type": "code",
   "execution_count": 54,
   "metadata": {},
   "outputs": [],
   "source": [
    "benefs.end_date.fillna(value='31.01.2015', inplace=True)"
   ]
  },
  {
   "cell_type": "code",
   "execution_count": 55,
   "metadata": {},
   "outputs": [
    {
     "data": {
      "text/plain": [
       "array(['15.09.2016', '01.01.2015', '25.02.2016', '16.03.2017',\n",
       "       '25.05.2016'], dtype=object)"
      ]
     },
     "execution_count": 55,
     "metadata": {},
     "output_type": "execute_result"
    }
   ],
   "source": [
    "benefs.start_date.unique()"
   ]
  },
  {
   "cell_type": "code",
   "execution_count": 56,
   "metadata": {},
   "outputs": [
    {
     "data": {
      "text/plain": [
       "Id                   95\n",
       "beneficiary          95\n",
       "project              95\n",
       "project_summary      95\n",
       "start_date           95\n",
       "end_date             95\n",
       "funding              95\n",
       "union_cofinancing    95\n",
       "raw_postcode         95\n",
       "country              95\n",
       "category             95\n",
       "last_update          95\n",
       "postcode             95\n",
       "dtype: int64"
      ]
     },
     "execution_count": 56,
     "metadata": {},
     "output_type": "execute_result"
    }
   ],
   "source": [
    "benefs.isna().count()"
   ]
  },
  {
   "cell_type": "code",
   "execution_count": 57,
   "metadata": {},
   "outputs": [
    {
     "data": {
      "text/html": [
       "<div>\n",
       "<style scoped>\n",
       "    .dataframe tbody tr th:only-of-type {\n",
       "        vertical-align: middle;\n",
       "    }\n",
       "\n",
       "    .dataframe tbody tr th {\n",
       "        vertical-align: top;\n",
       "    }\n",
       "\n",
       "    .dataframe thead th {\n",
       "        text-align: right;\n",
       "    }\n",
       "</style>\n",
       "<table border=\"1\" class=\"dataframe\">\n",
       "  <thead>\n",
       "    <tr style=\"text-align: right;\">\n",
       "      <th></th>\n",
       "      <th>Id</th>\n",
       "      <th>beneficiary</th>\n",
       "      <th>project</th>\n",
       "      <th>project_summary</th>\n",
       "      <th>start_date</th>\n",
       "      <th>end_date</th>\n",
       "      <th>funding</th>\n",
       "      <th>union_cofinancing</th>\n",
       "      <th>raw_postcode</th>\n",
       "      <th>country</th>\n",
       "      <th>category</th>\n",
       "      <th>last_update</th>\n",
       "      <th>postcode</th>\n",
       "    </tr>\n",
       "  </thead>\n",
       "  <tbody>\n",
       "    <tr>\n",
       "      <th>4</th>\n",
       "      <td>5</td>\n",
       "      <td>Aberdeen City Council</td>\n",
       "      <td>ACE-Retrofitting - Accelerating Condominium Energy Retrofitting</td>\n",
       "      <td>Although local authorities (LAs) are tackling climate change, a majority of buildings in NWE are...</td>\n",
       "      <td>15.09.2016</td>\n",
       "      <td>14.03.2020</td>\n",
       "      <td>404388.20</td>\n",
       "      <td>0.6</td>\n",
       "      <td>AB10 1AQ</td>\n",
       "      <td>United Kingdom</td>\n",
       "      <td>013 - Energy efficiency renovation of public infrastructure, emonstration projects and supportin...</td>\n",
       "      <td>23.10.2018</td>\n",
       "      <td>AB10 1AQ</td>\n",
       "    </tr>\n",
       "    <tr>\n",
       "      <th>8</th>\n",
       "      <td>9</td>\n",
       "      <td>Changeworks Resources for Life Ltd.</td>\n",
       "      <td>ACE-Retrofitting - Accelerating Condominium Energy Retrofitting</td>\n",
       "      <td>Although local authorities (LAs) are tackling climate change, a majority of buildings in NWE are...</td>\n",
       "      <td>15.09.2016</td>\n",
       "      <td>14.03.2020</td>\n",
       "      <td>117504.16</td>\n",
       "      <td>0.6</td>\n",
       "      <td>EH6 5PY</td>\n",
       "      <td>United Kingdom</td>\n",
       "      <td>013 - Energy efficiency renovation of public infrastructure, emonstration projects and supportin...</td>\n",
       "      <td>23.10.2018</td>\n",
       "      <td>EH6 5PY</td>\n",
       "    </tr>\n",
       "    <tr>\n",
       "      <th>9</th>\n",
       "      <td>1</td>\n",
       "      <td>University of Liverpool</td>\n",
       "      <td>AFTB - Towards adhesive free timber buildings</td>\n",
       "      <td>The project addresses the wasteful and harmful use of toxic adhesives in the manufacturing of En...</td>\n",
       "      <td>15.09.2016</td>\n",
       "      <td>14.03.2020</td>\n",
       "      <td>1486849.64</td>\n",
       "      <td>0.6</td>\n",
       "      <td>L69 7ZX</td>\n",
       "      <td>United Kingdom</td>\n",
       "      <td>069 - Support to environmentally-friendly production processes and resource efficiency in SMEs</td>\n",
       "      <td>23.10.2018</td>\n",
       "      <td>L69 7ZX</td>\n",
       "    </tr>\n",
       "    <tr>\n",
       "      <th>15</th>\n",
       "      <td>1</td>\n",
       "      <td>Swansea University</td>\n",
       "      <td>ALG-AD - Creating value from waste nutrients by integrating algal and anaerobic digestion techno...</td>\n",
       "      <td>NaN</td>\n",
       "      <td>01.01.2015</td>\n",
       "      <td>31.01.2015</td>\n",
       "      <td>1091750.49</td>\n",
       "      <td>0.6</td>\n",
       "      <td>SA28PP</td>\n",
       "      <td>United Kingdom</td>\n",
       "      <td>19 - Commercial, industrial or hazardous waste management</td>\n",
       "      <td>23.10.2018</td>\n",
       "      <td>SA2 8PP</td>\n",
       "    </tr>\n",
       "    <tr>\n",
       "      <th>18</th>\n",
       "      <td>4</td>\n",
       "      <td>Birmingham City University</td>\n",
       "      <td>ALG-AD - Creating value from waste nutrients by integrating algal and anaerobic digestion techno...</td>\n",
       "      <td>NaN</td>\n",
       "      <td>01.01.2015</td>\n",
       "      <td>31.01.2015</td>\n",
       "      <td>336378.96</td>\n",
       "      <td>0.6</td>\n",
       "      <td>B4 7XG</td>\n",
       "      <td>United Kingdom</td>\n",
       "      <td>19 - Commercial, industrial or hazardous waste management</td>\n",
       "      <td>23.10.2018</td>\n",
       "      <td>B4 7XG</td>\n",
       "    </tr>\n",
       "  </tbody>\n",
       "</table>\n",
       "</div>"
      ],
      "text/plain": [
       "    Id                          beneficiary  \\\n",
       "4    5                Aberdeen City Council   \n",
       "8    9  Changeworks Resources for Life Ltd.   \n",
       "9    1              University of Liverpool   \n",
       "15   1                   Swansea University   \n",
       "18   4           Birmingham City University   \n",
       "\n",
       "                                                                                                project  \\\n",
       "4                                      ACE-Retrofitting - Accelerating Condominium Energy Retrofitting    \n",
       "8                                      ACE-Retrofitting - Accelerating Condominium Energy Retrofitting    \n",
       "9                                                         AFTB - Towards adhesive free timber buildings   \n",
       "15  ALG-AD - Creating value from waste nutrients by integrating algal and anaerobic digestion techno...   \n",
       "18  ALG-AD - Creating value from waste nutrients by integrating algal and anaerobic digestion techno...   \n",
       "\n",
       "                                                                                        project_summary  \\\n",
       "4   Although local authorities (LAs) are tackling climate change, a majority of buildings in NWE are...   \n",
       "8   Although local authorities (LAs) are tackling climate change, a majority of buildings in NWE are...   \n",
       "9   The project addresses the wasteful and harmful use of toxic adhesives in the manufacturing of En...   \n",
       "15                                                                                                  NaN   \n",
       "18                                                                                                  NaN   \n",
       "\n",
       "    start_date    end_date     funding  union_cofinancing raw_postcode  \\\n",
       "4   15.09.2016  14.03.2020   404388.20                0.6     AB10 1AQ   \n",
       "8   15.09.2016  14.03.2020   117504.16                0.6      EH6 5PY   \n",
       "9   15.09.2016  14.03.2020  1486849.64                0.6      L69 7ZX   \n",
       "15  01.01.2015  31.01.2015  1091750.49                0.6       SA28PP   \n",
       "18  01.01.2015  31.01.2015   336378.96                0.6       B4 7XG   \n",
       "\n",
       "           country  \\\n",
       "4   United Kingdom   \n",
       "8   United Kingdom   \n",
       "9   United Kingdom   \n",
       "15  United Kingdom   \n",
       "18  United Kingdom   \n",
       "\n",
       "                                                                                               category  \\\n",
       "4   013 - Energy efficiency renovation of public infrastructure, emonstration projects and supportin...   \n",
       "8   013 - Energy efficiency renovation of public infrastructure, emonstration projects and supportin...   \n",
       "9        069 - Support to environmentally-friendly production processes and resource efficiency in SMEs   \n",
       "15                                            19 - Commercial, industrial or hazardous waste management   \n",
       "18                                            19 - Commercial, industrial or hazardous waste management   \n",
       "\n",
       "   last_update  postcode  \n",
       "4   23.10.2018  AB10 1AQ  \n",
       "8   23.10.2018   EH6 5PY  \n",
       "9   23.10.2018   L69 7ZX  \n",
       "15  23.10.2018   SA2 8PP  \n",
       "18  23.10.2018    B4 7XG  "
      ]
     },
     "execution_count": 57,
     "metadata": {},
     "output_type": "execute_result"
    }
   ],
   "source": [
    "benefs.head()"
   ]
  },
  {
   "cell_type": "code",
   "execution_count": 58,
   "metadata": {},
   "outputs": [
    {
     "data": {
      "text/plain": [
       "array(['14.03.2020', '31.01.2015', '31.07.2019', '31.05.2020',\n",
       "       '25.02.2019', '15.03.2021', '25.10.2019', '24.05.2019',\n",
       "       '30.11.2019', '14.09.2019', '13.12.2019', '14.07.2020',\n",
       "       '15.03.2020', '14.09.2020', '14.12.2019', '15.09.2020'],\n",
       "      dtype=object)"
      ]
     },
     "execution_count": 58,
     "metadata": {},
     "output_type": "execute_result"
    }
   ],
   "source": [
    "benefs.end_date.unique()"
   ]
  },
  {
   "cell_type": "code",
   "execution_count": null,
   "metadata": {},
   "outputs": [],
   "source": []
  },
  {
   "cell_type": "markdown",
   "metadata": {},
   "source": [
    "#### They don't! What to do? We're setting the start date as 01/01/2015 under advice from John Lees-Miller"
   ]
  },
  {
   "cell_type": "code",
   "execution_count": null,
   "metadata": {},
   "outputs": [],
   "source": []
  },
  {
   "cell_type": "markdown",
   "metadata": {},
   "source": [
    "## Strip € symbol from funding?"
   ]
  },
  {
   "cell_type": "code",
   "execution_count": 59,
   "metadata": {},
   "outputs": [
    {
     "data": {
      "text/plain": [
       "array([ 404388.2  ,  117504.16 , 1486849.64 , 1091750.49 ,  336378.96 ,\n",
       "         72617.93 ,  360531.51 ,  361038.43 ,  842148.6  ,  601712.47 ,\n",
       "        307410.04 ,  222167.27 ,  428022.74 ,  133300.362,  256813.644,\n",
       "       1218956.87 , 1280527.6  ,  120000.   ,  198420.   ,  711514.65 ,\n",
       "        116670.   ,  643449.648,  918838.782,   97341.   ,  411549.216,\n",
       "         53534.676,  799828.06 , 1082892.   ,  272988.   ,  544270.   ,\n",
       "        213734.616,  408786.834,  275035.2  ,   79628.74 ,  660549.4  ,\n",
       "       4604665.01 ,  207253.32 ,  207253.34 ,  231999.99 ,  121799.99 ,\n",
       "       1043630.95 , 3449249.25 ,  642883.9  ,  601320.7  ,  526240.   ,\n",
       "        407145.   ,  231707.724,  147689.37 , 1742335.59 , 1014142.5  ,\n",
       "       1624435.668,  317034.792, 2509350.   ,  862168.23 ,  508450.302,\n",
       "        236575.   ,  189743.838,  166620.186,  419912.178,  702142.98 ,\n",
       "        300197.4  ,  403318.76 ,  896454.53 ,  460400.22 ,  339424.74 ,\n",
       "        165222.6  ,   58265.79 ,  371370.45 ,  537451.05 ,  334014.68 ,\n",
       "        289800.   ,  701700.   ,  379500.   ,  343265.58 ,  104632.8  ,\n",
       "        412056.816,  216365.346,  176184.   ,  313047.702,  183150.   ,\n",
       "        146284.752,  173182.2  ,  303886.8  ,  409708.65 ,  325625.934,\n",
       "        455151.   ,  469175.   ,  566292.   ,   90435.186,  170953.122,\n",
       "         33097.818,  382482.264,  259746.288,  209625.78 ])"
      ]
     },
     "execution_count": 59,
     "metadata": {},
     "output_type": "execute_result"
    }
   ],
   "source": [
    "benefs.funding.unique()"
   ]
  },
  {
   "cell_type": "markdown",
   "metadata": {},
   "source": [
    "#### No need imported as floats "
   ]
  },
  {
   "cell_type": "code",
   "execution_count": 60,
   "metadata": {},
   "outputs": [
    {
     "data": {
      "text/plain": [
       "Index(['month_start', 'rate'], dtype='object')"
      ]
     },
     "execution_count": 60,
     "metadata": {},
     "output_type": "execute_result"
    }
   ],
   "source": [
    "eur_gbp.columns"
   ]
  },
  {
   "cell_type": "code",
   "execution_count": 61,
   "metadata": {},
   "outputs": [
    {
     "data": {
      "text/plain": [
       "month_start    datetime64[ns]\n",
       "rate                  float64\n",
       "dtype: object"
      ]
     },
     "execution_count": 61,
     "metadata": {},
     "output_type": "execute_result"
    }
   ],
   "source": [
    "eur_gbp.dtypes"
   ]
  },
  {
   "cell_type": "code",
   "execution_count": 62,
   "metadata": {},
   "outputs": [
    {
     "data": {
      "text/plain": [
       "Id                     int64\n",
       "beneficiary           object\n",
       "project               object\n",
       "project_summary       object\n",
       "start_date            object\n",
       "end_date              object\n",
       "funding              float64\n",
       "union_cofinancing    float64\n",
       "raw_postcode          object\n",
       "country               object\n",
       "category              object\n",
       "last_update           object\n",
       "postcode              object\n",
       "dtype: object"
      ]
     },
     "execution_count": 62,
     "metadata": {},
     "output_type": "execute_result"
    }
   ],
   "source": [
    "benefs.dtypes"
   ]
  },
  {
   "cell_type": "code",
   "execution_count": 64,
   "metadata": {},
   "outputs": [
    {
     "data": {
      "text/html": [
       "<div>\n",
       "<style scoped>\n",
       "    .dataframe tbody tr th:only-of-type {\n",
       "        vertical-align: middle;\n",
       "    }\n",
       "\n",
       "    .dataframe tbody tr th {\n",
       "        vertical-align: top;\n",
       "    }\n",
       "\n",
       "    .dataframe thead th {\n",
       "        text-align: right;\n",
       "    }\n",
       "</style>\n",
       "<table border=\"1\" class=\"dataframe\">\n",
       "  <thead>\n",
       "    <tr style=\"text-align: right;\">\n",
       "      <th></th>\n",
       "      <th>Id</th>\n",
       "      <th>beneficiary</th>\n",
       "      <th>project</th>\n",
       "      <th>project_summary</th>\n",
       "      <th>start_date</th>\n",
       "      <th>end_date</th>\n",
       "      <th>funding</th>\n",
       "      <th>union_cofinancing</th>\n",
       "      <th>raw_postcode</th>\n",
       "      <th>country</th>\n",
       "      <th>category</th>\n",
       "      <th>last_update</th>\n",
       "      <th>postcode</th>\n",
       "      <th>eur_gbp</th>\n",
       "    </tr>\n",
       "  </thead>\n",
       "  <tbody>\n",
       "    <tr>\n",
       "      <th>4</th>\n",
       "      <td>5</td>\n",
       "      <td>Aberdeen City Council</td>\n",
       "      <td>ACE-Retrofitting - Accelerating Condominium Energy Retrofitting</td>\n",
       "      <td>Although local authorities (LAs) are tackling climate change, a majority of buildings in NWE are...</td>\n",
       "      <td>15.09.2016</td>\n",
       "      <td>14.03.2020</td>\n",
       "      <td>404388.20</td>\n",
       "      <td>0.6</td>\n",
       "      <td>AB10 1AQ</td>\n",
       "      <td>United Kingdom</td>\n",
       "      <td>013 - Energy efficiency renovation of public infrastructure, emonstration projects and supportin...</td>\n",
       "      <td>23.10.2018</td>\n",
       "      <td>AB10 1AQ</td>\n",
       "      <td>0.872518</td>\n",
       "    </tr>\n",
       "    <tr>\n",
       "      <th>8</th>\n",
       "      <td>9</td>\n",
       "      <td>Changeworks Resources for Life Ltd.</td>\n",
       "      <td>ACE-Retrofitting - Accelerating Condominium Energy Retrofitting</td>\n",
       "      <td>Although local authorities (LAs) are tackling climate change, a majority of buildings in NWE are...</td>\n",
       "      <td>15.09.2016</td>\n",
       "      <td>14.03.2020</td>\n",
       "      <td>117504.16</td>\n",
       "      <td>0.6</td>\n",
       "      <td>EH6 5PY</td>\n",
       "      <td>United Kingdom</td>\n",
       "      <td>013 - Energy efficiency renovation of public infrastructure, emonstration projects and supportin...</td>\n",
       "      <td>23.10.2018</td>\n",
       "      <td>EH6 5PY</td>\n",
       "      <td>0.872518</td>\n",
       "    </tr>\n",
       "    <tr>\n",
       "      <th>9</th>\n",
       "      <td>1</td>\n",
       "      <td>University of Liverpool</td>\n",
       "      <td>AFTB - Towards adhesive free timber buildings</td>\n",
       "      <td>The project addresses the wasteful and harmful use of toxic adhesives in the manufacturing of En...</td>\n",
       "      <td>15.09.2016</td>\n",
       "      <td>14.03.2020</td>\n",
       "      <td>1486849.64</td>\n",
       "      <td>0.6</td>\n",
       "      <td>L69 7ZX</td>\n",
       "      <td>United Kingdom</td>\n",
       "      <td>069 - Support to environmentally-friendly production processes and resource efficiency in SMEs</td>\n",
       "      <td>23.10.2018</td>\n",
       "      <td>L69 7ZX</td>\n",
       "      <td>0.872518</td>\n",
       "    </tr>\n",
       "    <tr>\n",
       "      <th>15</th>\n",
       "      <td>1</td>\n",
       "      <td>Swansea University</td>\n",
       "      <td>ALG-AD - Creating value from waste nutrients by integrating algal and anaerobic digestion techno...</td>\n",
       "      <td>NaN</td>\n",
       "      <td>01.01.2015</td>\n",
       "      <td>31.01.2015</td>\n",
       "      <td>1091750.49</td>\n",
       "      <td>0.6</td>\n",
       "      <td>SA28PP</td>\n",
       "      <td>United Kingdom</td>\n",
       "      <td>19 - Commercial, industrial or hazardous waste management</td>\n",
       "      <td>23.10.2018</td>\n",
       "      <td>SA2 8PP</td>\n",
       "      <td>0.782300</td>\n",
       "    </tr>\n",
       "    <tr>\n",
       "      <th>18</th>\n",
       "      <td>4</td>\n",
       "      <td>Birmingham City University</td>\n",
       "      <td>ALG-AD - Creating value from waste nutrients by integrating algal and anaerobic digestion techno...</td>\n",
       "      <td>NaN</td>\n",
       "      <td>01.01.2015</td>\n",
       "      <td>31.01.2015</td>\n",
       "      <td>336378.96</td>\n",
       "      <td>0.6</td>\n",
       "      <td>B4 7XG</td>\n",
       "      <td>United Kingdom</td>\n",
       "      <td>19 - Commercial, industrial or hazardous waste management</td>\n",
       "      <td>23.10.2018</td>\n",
       "      <td>B4 7XG</td>\n",
       "      <td>0.782300</td>\n",
       "    </tr>\n",
       "  </tbody>\n",
       "</table>\n",
       "</div>"
      ],
      "text/plain": [
       "    Id                          beneficiary  \\\n",
       "4    5                Aberdeen City Council   \n",
       "8    9  Changeworks Resources for Life Ltd.   \n",
       "9    1              University of Liverpool   \n",
       "15   1                   Swansea University   \n",
       "18   4           Birmingham City University   \n",
       "\n",
       "                                                                                                project  \\\n",
       "4                                      ACE-Retrofitting - Accelerating Condominium Energy Retrofitting    \n",
       "8                                      ACE-Retrofitting - Accelerating Condominium Energy Retrofitting    \n",
       "9                                                         AFTB - Towards adhesive free timber buildings   \n",
       "15  ALG-AD - Creating value from waste nutrients by integrating algal and anaerobic digestion techno...   \n",
       "18  ALG-AD - Creating value from waste nutrients by integrating algal and anaerobic digestion techno...   \n",
       "\n",
       "                                                                                        project_summary  \\\n",
       "4   Although local authorities (LAs) are tackling climate change, a majority of buildings in NWE are...   \n",
       "8   Although local authorities (LAs) are tackling climate change, a majority of buildings in NWE are...   \n",
       "9   The project addresses the wasteful and harmful use of toxic adhesives in the manufacturing of En...   \n",
       "15                                                                                                  NaN   \n",
       "18                                                                                                  NaN   \n",
       "\n",
       "    start_date    end_date     funding  union_cofinancing raw_postcode  \\\n",
       "4   15.09.2016  14.03.2020   404388.20                0.6     AB10 1AQ   \n",
       "8   15.09.2016  14.03.2020   117504.16                0.6      EH6 5PY   \n",
       "9   15.09.2016  14.03.2020  1486849.64                0.6      L69 7ZX   \n",
       "15  01.01.2015  31.01.2015  1091750.49                0.6       SA28PP   \n",
       "18  01.01.2015  31.01.2015   336378.96                0.6       B4 7XG   \n",
       "\n",
       "           country  \\\n",
       "4   United Kingdom   \n",
       "8   United Kingdom   \n",
       "9   United Kingdom   \n",
       "15  United Kingdom   \n",
       "18  United Kingdom   \n",
       "\n",
       "                                                                                               category  \\\n",
       "4   013 - Energy efficiency renovation of public infrastructure, emonstration projects and supportin...   \n",
       "8   013 - Energy efficiency renovation of public infrastructure, emonstration projects and supportin...   \n",
       "9        069 - Support to environmentally-friendly production processes and resource efficiency in SMEs   \n",
       "15                                            19 - Commercial, industrial or hazardous waste management   \n",
       "18                                            19 - Commercial, industrial or hazardous waste management   \n",
       "\n",
       "   last_update  postcode   eur_gbp  \n",
       "4   23.10.2018  AB10 1AQ  0.872518  \n",
       "8   23.10.2018   EH6 5PY  0.872518  \n",
       "9   23.10.2018   L69 7ZX  0.872518  \n",
       "15  23.10.2018   SA2 8PP  0.782300  \n",
       "18  23.10.2018    B4 7XG  0.782300  "
      ]
     },
     "execution_count": 64,
     "metadata": {},
     "output_type": "execute_result"
    }
   ],
   "source": [
    "def find_average_eur_gbp_rate(row):\n",
    "     #df = eur_gbp[(eur_gbp['month_start'] > pd.to_datetime(row['start_date'], 'yyyy-mm-dd')) & (eur_gbp['month_start'] <= pd.to_datetime(row['end_date'], 'yyyy-mm-dd'))]\n",
    "    #df=eur_gbp[eur_gbp['month_start'] > '20150101000000']\n",
    "    df=eur_gbp[(eur_gbp['month_start'] >= pd.to_datetime(row['start_date'] , format='%d.%m.%Y')) & \\\n",
    "               (eur_gbp['month_start'] <= pd.to_datetime(row['end_date'] , format='%d.%m.%Y'))]\n",
    "    return df.rate.mean() \n",
    "    \n",
    "benefs['eur_gbp'] = benefs.apply(find_average_eur_gbp_rate, axis=1)\n",
    "\n",
    "benefs.head()"
   ]
  },
  {
   "cell_type": "markdown",
   "metadata": {},
   "source": [
    "## Drop uninteresting columns"
   ]
  },
  {
   "cell_type": "code",
   "execution_count": null,
   "metadata": {},
   "outputs": [],
   "source": []
  },
  {
   "cell_type": "code",
   "execution_count": 65,
   "metadata": {},
   "outputs": [],
   "source": [
    "clean_benefs = benefs.drop(['Id','country','project_summary','raw_postcode'], axis=1)"
   ]
  },
  {
   "cell_type": "code",
   "execution_count": 66,
   "metadata": {},
   "outputs": [
    {
     "data": {
      "text/html": [
       "<div>\n",
       "<style scoped>\n",
       "    .dataframe tbody tr th:only-of-type {\n",
       "        vertical-align: middle;\n",
       "    }\n",
       "\n",
       "    .dataframe tbody tr th {\n",
       "        vertical-align: top;\n",
       "    }\n",
       "\n",
       "    .dataframe thead th {\n",
       "        text-align: right;\n",
       "    }\n",
       "</style>\n",
       "<table border=\"1\" class=\"dataframe\">\n",
       "  <thead>\n",
       "    <tr style=\"text-align: right;\">\n",
       "      <th></th>\n",
       "      <th>beneficiary</th>\n",
       "      <th>project</th>\n",
       "      <th>start_date</th>\n",
       "      <th>end_date</th>\n",
       "      <th>funding</th>\n",
       "      <th>union_cofinancing</th>\n",
       "      <th>category</th>\n",
       "      <th>last_update</th>\n",
       "      <th>postcode</th>\n",
       "      <th>eur_gbp</th>\n",
       "    </tr>\n",
       "  </thead>\n",
       "  <tbody>\n",
       "    <tr>\n",
       "      <th>4</th>\n",
       "      <td>Aberdeen City Council</td>\n",
       "      <td>ACE-Retrofitting - Accelerating Condominium Energy Retrofitting</td>\n",
       "      <td>15.09.2016</td>\n",
       "      <td>14.03.2020</td>\n",
       "      <td>404388.20</td>\n",
       "      <td>0.6</td>\n",
       "      <td>013 - Energy efficiency renovation of public infrastructure, emonstration projects and supportin...</td>\n",
       "      <td>23.10.2018</td>\n",
       "      <td>AB10 1AQ</td>\n",
       "      <td>0.872518</td>\n",
       "    </tr>\n",
       "    <tr>\n",
       "      <th>8</th>\n",
       "      <td>Changeworks Resources for Life Ltd.</td>\n",
       "      <td>ACE-Retrofitting - Accelerating Condominium Energy Retrofitting</td>\n",
       "      <td>15.09.2016</td>\n",
       "      <td>14.03.2020</td>\n",
       "      <td>117504.16</td>\n",
       "      <td>0.6</td>\n",
       "      <td>013 - Energy efficiency renovation of public infrastructure, emonstration projects and supportin...</td>\n",
       "      <td>23.10.2018</td>\n",
       "      <td>EH6 5PY</td>\n",
       "      <td>0.872518</td>\n",
       "    </tr>\n",
       "    <tr>\n",
       "      <th>9</th>\n",
       "      <td>University of Liverpool</td>\n",
       "      <td>AFTB - Towards adhesive free timber buildings</td>\n",
       "      <td>15.09.2016</td>\n",
       "      <td>14.03.2020</td>\n",
       "      <td>1486849.64</td>\n",
       "      <td>0.6</td>\n",
       "      <td>069 - Support to environmentally-friendly production processes and resource efficiency in SMEs</td>\n",
       "      <td>23.10.2018</td>\n",
       "      <td>L69 7ZX</td>\n",
       "      <td>0.872518</td>\n",
       "    </tr>\n",
       "    <tr>\n",
       "      <th>15</th>\n",
       "      <td>Swansea University</td>\n",
       "      <td>ALG-AD - Creating value from waste nutrients by integrating algal and anaerobic digestion techno...</td>\n",
       "      <td>01.01.2015</td>\n",
       "      <td>31.01.2015</td>\n",
       "      <td>1091750.49</td>\n",
       "      <td>0.6</td>\n",
       "      <td>19 - Commercial, industrial or hazardous waste management</td>\n",
       "      <td>23.10.2018</td>\n",
       "      <td>SA2 8PP</td>\n",
       "      <td>0.782300</td>\n",
       "    </tr>\n",
       "    <tr>\n",
       "      <th>18</th>\n",
       "      <td>Birmingham City University</td>\n",
       "      <td>ALG-AD - Creating value from waste nutrients by integrating algal and anaerobic digestion techno...</td>\n",
       "      <td>01.01.2015</td>\n",
       "      <td>31.01.2015</td>\n",
       "      <td>336378.96</td>\n",
       "      <td>0.6</td>\n",
       "      <td>19 - Commercial, industrial or hazardous waste management</td>\n",
       "      <td>23.10.2018</td>\n",
       "      <td>B4 7XG</td>\n",
       "      <td>0.782300</td>\n",
       "    </tr>\n",
       "  </tbody>\n",
       "</table>\n",
       "</div>"
      ],
      "text/plain": [
       "                            beneficiary  \\\n",
       "4                 Aberdeen City Council   \n",
       "8   Changeworks Resources for Life Ltd.   \n",
       "9               University of Liverpool   \n",
       "15                   Swansea University   \n",
       "18           Birmingham City University   \n",
       "\n",
       "                                                                                                project  \\\n",
       "4                                      ACE-Retrofitting - Accelerating Condominium Energy Retrofitting    \n",
       "8                                      ACE-Retrofitting - Accelerating Condominium Energy Retrofitting    \n",
       "9                                                         AFTB - Towards adhesive free timber buildings   \n",
       "15  ALG-AD - Creating value from waste nutrients by integrating algal and anaerobic digestion techno...   \n",
       "18  ALG-AD - Creating value from waste nutrients by integrating algal and anaerobic digestion techno...   \n",
       "\n",
       "    start_date    end_date     funding  union_cofinancing  \\\n",
       "4   15.09.2016  14.03.2020   404388.20                0.6   \n",
       "8   15.09.2016  14.03.2020   117504.16                0.6   \n",
       "9   15.09.2016  14.03.2020  1486849.64                0.6   \n",
       "15  01.01.2015  31.01.2015  1091750.49                0.6   \n",
       "18  01.01.2015  31.01.2015   336378.96                0.6   \n",
       "\n",
       "                                                                                               category  \\\n",
       "4   013 - Energy efficiency renovation of public infrastructure, emonstration projects and supportin...   \n",
       "8   013 - Energy efficiency renovation of public infrastructure, emonstration projects and supportin...   \n",
       "9        069 - Support to environmentally-friendly production processes and resource efficiency in SMEs   \n",
       "15                                            19 - Commercial, industrial or hazardous waste management   \n",
       "18                                            19 - Commercial, industrial or hazardous waste management   \n",
       "\n",
       "   last_update  postcode   eur_gbp  \n",
       "4   23.10.2018  AB10 1AQ  0.872518  \n",
       "8   23.10.2018   EH6 5PY  0.872518  \n",
       "9   23.10.2018   L69 7ZX  0.872518  \n",
       "15  23.10.2018   SA2 8PP  0.782300  \n",
       "18  23.10.2018    B4 7XG  0.782300  "
      ]
     },
     "execution_count": 66,
     "metadata": {},
     "output_type": "execute_result"
    }
   ],
   "source": [
    "clean_benefs.head()"
   ]
  },
  {
   "cell_type": "code",
   "execution_count": 67,
   "metadata": {},
   "outputs": [],
   "source": [
    "#clean_benefs.Id.unique()"
   ]
  },
  {
   "cell_type": "code",
   "execution_count": 68,
   "metadata": {},
   "outputs": [
    {
     "data": {
      "text/plain": [
       "array(['Aberdeen City Council', 'Changeworks Resources for Life Ltd.',\n",
       "       'University of Liverpool', 'Swansea University',\n",
       "       'Birmingham City University', 'Langage AD',\n",
       "       'GM Business Support Ltd', 'Kent County Council',\n",
       "       'Glasgow City Council', 'The National Non-Food Crop Centre',\n",
       "       'University of York', 'The Electrospinning Company Limited',\n",
       "       'Fianium Ltd', 'Amicus Horizon', 'Plymouth City Council',\n",
       "       'The Rivers Trust', 'Durham County Council', 'Sustrans',\n",
       "       'Centre of Excellence for Low Carbon and Fuel Cell Technologies',\n",
       "       'Transport for London', 'Nottingham City Council',\n",
       "       'University of Leicester', 'The University of Lincoln',\n",
       "       'Greater Lincolnshire Local Enterprise Partnership',\n",
       "       'The National Energy Foundation', 'Moat Homes Limited',\n",
       "       'Clarion Housing Group',\n",
       "       'The Green Valleys (Wales) Community Interest Company',\n",
       "       'Mental Health Foundation', 'Royal Borough of Greenwich',\n",
       "       'University of Greenwich', 'Aberdeen City Council ',\n",
       "       'Worn Again Footwear & Accessories Ltd.', 'University of Lincoln',\n",
       "       'The European Marine Energy Centre Limited',\n",
       "       'Scotrenewables Tidal Power Ltd (Subpartner of PP1 - GBER Art. 25)',\n",
       "       'Sustainable Marine Energy Ltd (Subpartner of PP1 - GBER Art. 25)',\n",
       "       'Corpower Ocean Ltd (Subpartner of PP1 - GBER Art. 25)',\n",
       "       'Tocardo Tidal Energy Limited (Subpartner of PP1 - GBER Art. 25)',\n",
       "       'Belfast Metropolitan College', 'Viridian Energy Supply Limited',\n",
       "       'Williams Industrial services', 'Pure Energy Centre',\n",
       "       'TK Renewables', 'Canal & River Trust', 'South West College',\n",
       "       'WikiHouse Foundation', 'European Marine Energy Centre',\n",
       "       'Energy Systems Catapult', 'Scotrenewables Tidal Power Ltd',\n",
       "       'Scottish Water', 'James Hutton Limited', 'Aquatera Ltd',\n",
       "       'University of Strathclyde',\n",
       "       'University of Strathclyde (Digital Health and Care Institute)',\n",
       "       'Sensium Healthcare', 'University of Edinburgh',\n",
       "       'Queen’s University Belfast', 'Glasgow Caledonian University',\n",
       "       'Environmental Research Institute, North Highland College, University of the Highlands and Islands',\n",
       "       'Off Grid Energy Limited', 'RPS Conservation Services',\n",
       "       'Cranfield University', 'NKT Photonics A/S',\n",
       "       'Natural Environment Research Council',\n",
       "       'Asiantaeth Ynni Severn Wye Energy Agency', 'Cwm Harry Land Trust',\n",
       "       'Aberystwyth University', 'UNIVERSITY OF BEDFORDSHIRE ',\n",
       "       'National Community Land Trust Network',\n",
       "       'London Community Land Trust', 'Inlecom Systems Ltd',\n",
       "       'Highlands and Islands Enterprise',\n",
       "       'Merthyr Tydfil County Borough Council',\n",
       "       'Lisburn and Castlereagh City Council',\n",
       "       'British Waterways T/A Scottish Canals', 'Fife Council',\n",
       "       'Dundee and Angus College', 'The School of Natural Building',\n",
       "       'Hastings Borough Council', 'STC Research Foundation',\n",
       "       'Roboscientific Limited', 'NIAB EMR', 'Teesside University ',\n",
       "       'Royal Free London NHS Trust ', 'Severn Trent Water Ltd.'],\n",
       "      dtype=object)"
      ]
     },
     "execution_count": 68,
     "metadata": {},
     "output_type": "execute_result"
    }
   ],
   "source": [
    "clean_benefs.beneficiary.unique()"
   ]
  },
  {
   "cell_type": "code",
   "execution_count": 69,
   "metadata": {},
   "outputs": [
    {
     "data": {
      "text/plain": [
       "'beneficiary'"
      ]
     },
     "execution_count": 69,
     "metadata": {},
     "output_type": "execute_result"
    }
   ],
   "source": [
    "clean_benefs.columns[0]"
   ]
  },
  {
   "cell_type": "code",
   "execution_count": 70,
   "metadata": {},
   "outputs": [
    {
     "data": {
      "text/plain": [
       "(95, 10)"
      ]
     },
     "execution_count": 70,
     "metadata": {},
     "output_type": "execute_result"
    }
   ],
   "source": [
    "clean_benefs.shape"
   ]
  },
  {
   "cell_type": "code",
   "execution_count": 72,
   "metadata": {},
   "outputs": [],
   "source": [
    "output_benefs = clean_benefs[\n",
    "    clean_benefs.postcode.isin(ukpostcodes.postcode)\n",
    "].copy()"
   ]
  },
  {
   "cell_type": "code",
   "execution_count": 73,
   "metadata": {},
   "outputs": [
    {
     "data": {
      "text/plain": [
       "beneficiary          88\n",
       "project              88\n",
       "start_date           88\n",
       "end_date             88\n",
       "funding              88\n",
       "union_cofinancing    88\n",
       "category             88\n",
       "last_update          88\n",
       "postcode             88\n",
       "eur_gbp              88\n",
       "dtype: int64"
      ]
     },
     "execution_count": 73,
     "metadata": {},
     "output_type": "execute_result"
    }
   ],
   "source": [
    "output_benefs.count()"
   ]
  },
  {
   "cell_type": "code",
   "execution_count": 74,
   "metadata": {},
   "outputs": [],
   "source": [
    "output_benefs['nwreg_benefs_id'] = 'nwreg_benefs_' + output_benefs.index.map(str)"
   ]
  },
  {
   "cell_type": "code",
   "execution_count": 75,
   "metadata": {},
   "outputs": [
    {
     "data": {
      "text/plain": [
       "4      nwreg_benefs_4\n",
       "8      nwreg_benefs_8\n",
       "9      nwreg_benefs_9\n",
       "15    nwreg_benefs_15\n",
       "18    nwreg_benefs_18\n",
       "Name: nwreg_benefs_id, dtype: object"
      ]
     },
     "execution_count": 75,
     "metadata": {},
     "output_type": "execute_result"
    }
   ],
   "source": [
    "output_benefs.nwreg_benefs_id.head()"
   ]
  },
  {
   "cell_type": "code",
   "execution_count": null,
   "metadata": {},
   "outputs": [],
   "source": []
  },
  {
   "cell_type": "code",
   "execution_count": 76,
   "metadata": {},
   "outputs": [],
   "source": [
    "output_benefs.to_pickle('output/interreg_beneficiaries.pkl.gz')"
   ]
  },
  {
   "cell_type": "code",
   "execution_count": null,
   "metadata": {},
   "outputs": [],
   "source": []
  }
 ],
 "metadata": {
  "kernelspec": {
   "display_name": "Python 3",
   "language": "python",
   "name": "python3"
  },
  "language_info": {
   "codemirror_mode": {
    "name": "ipython",
    "version": 3
   },
   "file_extension": ".py",
   "mimetype": "text/x-python",
   "name": "python",
   "nbconvert_exporter": "python",
   "pygments_lexer": "ipython3",
   "version": "3.6.4"
  }
 },
 "nbformat": 4,
 "nbformat_minor": 2
}
