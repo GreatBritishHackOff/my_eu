{
 "cells": [
  {
   "cell_type": "code",
   "execution_count": 135,
   "metadata": {},
   "outputs": [],
   "source": [
    "import json\n",
    "\n",
    "import pandas as pd\n",
    "import numpy as np\n",
    "\n",
    "from bs4 import BeautifulSoup\n",
    "import urllib.request\n",
    "import requests\n",
    "\n",
    "from urllib import parse\n",
    "\n",
    "pd.set_option('display.max_columns', 50)\n",
    "pd.set_option('display.max_colwidth', 180)"
   ]
  },
  {
   "cell_type": "code",
   "execution_count": 141,
   "metadata": {},
   "outputs": [
    {
     "data": {
      "text/plain": [
       "(4918, 12)"
      ]
     },
     "execution_count": 141,
     "metadata": {},
     "output_type": "execute_result"
    }
   ],
   "source": [
    "all_life = pd.read_csv('input/LIFE-projects.csv')\n",
    "all_life.shape"
   ]
  },
  {
   "cell_type": "code",
   "execution_count": 142,
   "metadata": {},
   "outputs": [
    {
     "data": {
      "text/plain": [
       "Index(['Project_webSummary', ' Project Title', ' Project N�',\n",
       "       ' Project Website', ' Year Of Finance', ' Lead Partner Country',\n",
       "       ' Type Of Beneficiary', ' Country', ' Themes', ' Keywords', ' Habitats',\n",
       "       ' Species'],\n",
       "      dtype='object')"
      ]
     },
     "execution_count": 142,
     "metadata": {},
     "output_type": "execute_result"
    }
   ],
   "source": [
    "all_life.columns"
   ]
  },
  {
   "cell_type": "code",
   "execution_count": 143,
   "metadata": {},
   "outputs": [],
   "source": [
    "all_life.rename(columns={ \n",
    "    all_life.columns[0]: \"project_websummary\",\n",
    "    all_life.columns[1]: \"project_title\",\n",
    "    all_life.columns[2]: \"project_no\",\n",
    "    all_life.columns[3]: \"project_website\",\n",
    "    all_life.columns[4]: \"year_of_finance\",\n",
    "    all_life.columns[5]: \"lead_partner_country\",\n",
    "    all_life.columns[6]: \"type_of_beneficiary\",\n",
    "    all_life.columns[7]: \"country\",\n",
    "    all_life.columns[8]: \"themes\",\n",
    "    all_life.columns[9]: \"keywords\",\n",
    "    all_life.columns[10]: \"habitats\",\n",
    "    all_life.columns[11]: \"species\"\n",
    "}, inplace=True)"
   ]
  },
  {
   "cell_type": "code",
   "execution_count": 144,
   "metadata": {},
   "outputs": [],
   "source": [
    "all_life['base_url'] = 'http://ec.europa.eu/environment/life/project/Projects/'"
   ]
  },
  {
   "cell_type": "code",
   "execution_count": 145,
   "metadata": {},
   "outputs": [
    {
     "data": {
      "text/plain": [
       "4874"
      ]
     },
     "execution_count": 145,
     "metadata": {},
     "output_type": "execute_result"
    }
   ],
   "source": [
    "all_life['project_title'].nunique()"
   ]
  },
  {
   "cell_type": "code",
   "execution_count": 146,
   "metadata": {},
   "outputs": [
    {
     "data": {
      "text/html": [
       "<div>\n",
       "<style scoped>\n",
       "    .dataframe tbody tr th:only-of-type {\n",
       "        vertical-align: middle;\n",
       "    }\n",
       "\n",
       "    .dataframe tbody tr th {\n",
       "        vertical-align: top;\n",
       "    }\n",
       "\n",
       "    .dataframe thead th {\n",
       "        text-align: right;\n",
       "    }\n",
       "</style>\n",
       "<table border=\"1\" class=\"dataframe\">\n",
       "  <thead>\n",
       "    <tr style=\"text-align: right;\">\n",
       "      <th></th>\n",
       "      <th>project_websummary</th>\n",
       "      <th>project_title</th>\n",
       "      <th>project_no</th>\n",
       "      <th>project_website</th>\n",
       "      <th>year_of_finance</th>\n",
       "      <th>lead_partner_country</th>\n",
       "      <th>type_of_beneficiary</th>\n",
       "      <th>country</th>\n",
       "      <th>themes</th>\n",
       "      <th>keywords</th>\n",
       "      <th>habitats</th>\n",
       "      <th>species</th>\n",
       "      <th>base_url</th>\n",
       "    </tr>\n",
       "  </thead>\n",
       "  <tbody>\n",
       "    <tr>\n",
       "      <th>0</th>\n",
       "      <td>index.cfm?fuseaction=search.dspPage&amp;n_proj_id=6698</td>\n",
       "      <td>LIFE DICCA - Climate Change Adaption of the Ecosystem Danube Island</td>\n",
       "      <td>LIFE17 CCA/AT/000077</td>\n",
       "      <td>NaN</td>\n",
       "      <td>2017</td>\n",
       "      <td>AT</td>\n",
       "      <td>Local authority</td>\n",
       "      <td>Österreich</td>\n",
       "      <td>NaN</td>\n",
       "      <td>NaN</td>\n",
       "      <td>NaN</td>\n",
       "      <td>NaN</td>\n",
       "      <td>http://ec.europa.eu/environment/life/project/Projects/</td>\n",
       "    </tr>\n",
       "    <tr>\n",
       "      <th>1</th>\n",
       "      <td>index.cfm?fuseaction=search.dspPage&amp;n_proj_id=6699</td>\n",
       "      <td>LIFE UrbanStorm - Development of sustainable and climate resilient urban storm water management systems for Nordic municipalities</td>\n",
       "      <td>LIFE17 CCA/EE/000122</td>\n",
       "      <td>NaN</td>\n",
       "      <td>2017</td>\n",
       "      <td>EE</td>\n",
       "      <td>Local authority</td>\n",
       "      <td>Estonia Eesti</td>\n",
       "      <td>NaN</td>\n",
       "      <td>NaN</td>\n",
       "      <td>NaN</td>\n",
       "      <td>NaN</td>\n",
       "      <td>http://ec.europa.eu/environment/life/project/Projects/</td>\n",
       "    </tr>\n",
       "  </tbody>\n",
       "</table>\n",
       "</div>"
      ],
      "text/plain": [
       "                                   project_websummary  \\\n",
       "0  index.cfm?fuseaction=search.dspPage&n_proj_id=6698   \n",
       "1  index.cfm?fuseaction=search.dspPage&n_proj_id=6699   \n",
       "\n",
       "                                                                                                                       project_title  \\\n",
       "0                                                                LIFE DICCA - Climate Change Adaption of the Ecosystem Danube Island   \n",
       "1  LIFE UrbanStorm - Development of sustainable and climate resilient urban storm water management systems for Nordic municipalities   \n",
       "\n",
       "             project_no project_website  year_of_finance lead_partner_country  \\\n",
       "0  LIFE17 CCA/AT/000077             NaN             2017                   AT   \n",
       "1  LIFE17 CCA/EE/000122             NaN             2017                   EE   \n",
       "\n",
       "  type_of_beneficiary        country themes keywords habitats species  \\\n",
       "0     Local authority     Österreich    NaN      NaN      NaN     NaN   \n",
       "1     Local authority  Estonia Eesti    NaN      NaN      NaN     NaN   \n",
       "\n",
       "                                                 base_url  \n",
       "0  http://ec.europa.eu/environment/life/project/Projects/  \n",
       "1  http://ec.europa.eu/environment/life/project/Projects/  "
      ]
     },
     "execution_count": 146,
     "metadata": {},
     "output_type": "execute_result"
    }
   ],
   "source": [
    "all_life.head(2)"
   ]
  },
  {
   "cell_type": "code",
   "execution_count": 147,
   "metadata": {},
   "outputs": [
    {
     "data": {
      "text/html": [
       "<div>\n",
       "<style scoped>\n",
       "    .dataframe tbody tr th:only-of-type {\n",
       "        vertical-align: middle;\n",
       "    }\n",
       "\n",
       "    .dataframe tbody tr th {\n",
       "        vertical-align: top;\n",
       "    }\n",
       "\n",
       "    .dataframe thead th {\n",
       "        text-align: right;\n",
       "    }\n",
       "</style>\n",
       "<table border=\"1\" class=\"dataframe\">\n",
       "  <thead>\n",
       "    <tr style=\"text-align: right;\">\n",
       "      <th></th>\n",
       "      <th>project_websummary</th>\n",
       "      <th>project_title</th>\n",
       "      <th>project_no</th>\n",
       "      <th>project_website</th>\n",
       "      <th>year_of_finance</th>\n",
       "      <th>lead_partner_country</th>\n",
       "      <th>type_of_beneficiary</th>\n",
       "      <th>country</th>\n",
       "      <th>themes</th>\n",
       "      <th>keywords</th>\n",
       "      <th>habitats</th>\n",
       "      <th>species</th>\n",
       "      <th>base_url</th>\n",
       "    </tr>\n",
       "  </thead>\n",
       "  <tbody>\n",
       "    <tr>\n",
       "      <th>4916</th>\n",
       "      <td>index.cfm?fuseaction=search.dspPage&amp;n_proj_id=1271</td>\n",
       "      <td>XXX</td>\n",
       "      <td>LIFE91 ENV/D/NBL/5/5</td>\n",
       "      <td>NaN</td>\n",
       "      <td>1991</td>\n",
       "      <td>DE</td>\n",
       "      <td>NaN</td>\n",
       "      <td>Deutschland</td>\n",
       "      <td>NaN</td>\n",
       "      <td>NaN</td>\n",
       "      <td>NaN</td>\n",
       "      <td>NaN</td>\n",
       "      <td>http://ec.europa.eu/environment/life/project/Projects/</td>\n",
       "    </tr>\n",
       "    <tr>\n",
       "      <th>4917</th>\n",
       "      <td>index.cfm?fuseaction=search.dspPage&amp;n_proj_id=994</td>\n",
       "      <td>Pre-feasibility study of the ODER/ODRA river basin</td>\n",
       "      <td>LIFE91 ENV/D/ODER</td>\n",
       "      <td>NaN</td>\n",
       "      <td>1991</td>\n",
       "      <td>DE</td>\n",
       "      <td>NaN</td>\n",
       "      <td>Deutschland</td>\n",
       "      <td>NaN</td>\n",
       "      <td>NaN</td>\n",
       "      <td>NaN</td>\n",
       "      <td>NaN</td>\n",
       "      <td>http://ec.europa.eu/environment/life/project/Projects/</td>\n",
       "    </tr>\n",
       "  </tbody>\n",
       "</table>\n",
       "</div>"
      ],
      "text/plain": [
       "                                      project_websummary  \\\n",
       "4916  index.cfm?fuseaction=search.dspPage&n_proj_id=1271   \n",
       "4917   index.cfm?fuseaction=search.dspPage&n_proj_id=994   \n",
       "\n",
       "                                           project_title  \\\n",
       "4916                                                 XXX   \n",
       "4917  Pre-feasibility study of the ODER/ODRA river basin   \n",
       "\n",
       "                project_no project_website  year_of_finance  \\\n",
       "4916  LIFE91 ENV/D/NBL/5/5             NaN             1991   \n",
       "4917     LIFE91 ENV/D/ODER             NaN             1991   \n",
       "\n",
       "     lead_partner_country type_of_beneficiary      country themes keywords  \\\n",
       "4916                   DE                 NaN  Deutschland    NaN      NaN   \n",
       "4917                   DE                 NaN  Deutschland    NaN      NaN   \n",
       "\n",
       "     habitats species                                                base_url  \n",
       "4916      NaN     NaN  http://ec.europa.eu/environment/life/project/Projects/  \n",
       "4917      NaN     NaN  http://ec.europa.eu/environment/life/project/Projects/  "
      ]
     },
     "execution_count": 147,
     "metadata": {},
     "output_type": "execute_result"
    }
   ],
   "source": [
    "all_life.tail(2)"
   ]
  },
  {
   "cell_type": "code",
   "execution_count": 148,
   "metadata": {},
   "outputs": [],
   "source": [
    "all_life['project_url'] = all_life['base_url'] + all_life['project_websummary']"
   ]
  },
  {
   "cell_type": "code",
   "execution_count": 149,
   "metadata": {},
   "outputs": [],
   "source": [
    "def get_param_from_url(url, param_name):\n",
    "    return [i.split(\"=\")[-1] for i in url.split(\"?\", 1)[-1].split(\"&\") if i.startswith(param_name + \"=\")][0]"
   ]
  },
  {
   "cell_type": "code",
   "execution_count": 150,
   "metadata": {},
   "outputs": [],
   "source": [
    "all_life['project_id'] = all_life.apply(lambda row: get_param_from_url(row['project_url'], 'n_proj_id'), axis=1)"
   ]
  },
  {
   "cell_type": "code",
   "execution_count": 152,
   "metadata": {},
   "outputs": [
    {
     "data": {
      "text/html": [
       "<div>\n",
       "<style scoped>\n",
       "    .dataframe tbody tr th:only-of-type {\n",
       "        vertical-align: middle;\n",
       "    }\n",
       "\n",
       "    .dataframe tbody tr th {\n",
       "        vertical-align: top;\n",
       "    }\n",
       "\n",
       "    .dataframe thead th {\n",
       "        text-align: right;\n",
       "    }\n",
       "</style>\n",
       "<table border=\"1\" class=\"dataframe\">\n",
       "  <thead>\n",
       "    <tr style=\"text-align: right;\">\n",
       "      <th></th>\n",
       "      <th>project_websummary</th>\n",
       "      <th>project_title</th>\n",
       "      <th>project_no</th>\n",
       "      <th>project_website</th>\n",
       "      <th>year_of_finance</th>\n",
       "      <th>lead_partner_country</th>\n",
       "      <th>type_of_beneficiary</th>\n",
       "      <th>country</th>\n",
       "      <th>themes</th>\n",
       "      <th>keywords</th>\n",
       "      <th>habitats</th>\n",
       "      <th>species</th>\n",
       "      <th>base_url</th>\n",
       "      <th>project_url</th>\n",
       "      <th>project_id</th>\n",
       "    </tr>\n",
       "  </thead>\n",
       "  <tbody>\n",
       "    <tr>\n",
       "      <th>0</th>\n",
       "      <td>index.cfm?fuseaction=search.dspPage&amp;n_proj_id=6698</td>\n",
       "      <td>LIFE DICCA - Climate Change Adaption of the Ecosystem Danube Island</td>\n",
       "      <td>LIFE17 CCA/AT/000077</td>\n",
       "      <td>NaN</td>\n",
       "      <td>2017</td>\n",
       "      <td>AT</td>\n",
       "      <td>Local authority</td>\n",
       "      <td>Österreich</td>\n",
       "      <td>NaN</td>\n",
       "      <td>NaN</td>\n",
       "      <td>NaN</td>\n",
       "      <td>NaN</td>\n",
       "      <td>http://ec.europa.eu/environment/life/project/Projects/</td>\n",
       "      <td>http://ec.europa.eu/environment/life/project/Projects/index.cfm?fuseaction=search.dspPage&amp;n_proj_id=6698</td>\n",
       "      <td>6698</td>\n",
       "    </tr>\n",
       "    <tr>\n",
       "      <th>1</th>\n",
       "      <td>index.cfm?fuseaction=search.dspPage&amp;n_proj_id=6699</td>\n",
       "      <td>LIFE UrbanStorm - Development of sustainable and climate resilient urban storm water management systems for Nordic municipalities</td>\n",
       "      <td>LIFE17 CCA/EE/000122</td>\n",
       "      <td>NaN</td>\n",
       "      <td>2017</td>\n",
       "      <td>EE</td>\n",
       "      <td>Local authority</td>\n",
       "      <td>Estonia Eesti</td>\n",
       "      <td>NaN</td>\n",
       "      <td>NaN</td>\n",
       "      <td>NaN</td>\n",
       "      <td>NaN</td>\n",
       "      <td>http://ec.europa.eu/environment/life/project/Projects/</td>\n",
       "      <td>http://ec.europa.eu/environment/life/project/Projects/index.cfm?fuseaction=search.dspPage&amp;n_proj_id=6699</td>\n",
       "      <td>6699</td>\n",
       "    </tr>\n",
       "  </tbody>\n",
       "</table>\n",
       "</div>"
      ],
      "text/plain": [
       "                                   project_websummary  \\\n",
       "0  index.cfm?fuseaction=search.dspPage&n_proj_id=6698   \n",
       "1  index.cfm?fuseaction=search.dspPage&n_proj_id=6699   \n",
       "\n",
       "                                                                                                                       project_title  \\\n",
       "0                                                                LIFE DICCA - Climate Change Adaption of the Ecosystem Danube Island   \n",
       "1  LIFE UrbanStorm - Development of sustainable and climate resilient urban storm water management systems for Nordic municipalities   \n",
       "\n",
       "             project_no project_website  year_of_finance lead_partner_country  \\\n",
       "0  LIFE17 CCA/AT/000077             NaN             2017                   AT   \n",
       "1  LIFE17 CCA/EE/000122             NaN             2017                   EE   \n",
       "\n",
       "  type_of_beneficiary        country themes keywords habitats species  \\\n",
       "0     Local authority     Österreich    NaN      NaN      NaN     NaN   \n",
       "1     Local authority  Estonia Eesti    NaN      NaN      NaN     NaN   \n",
       "\n",
       "                                                 base_url  \\\n",
       "0  http://ec.europa.eu/environment/life/project/Projects/   \n",
       "1  http://ec.europa.eu/environment/life/project/Projects/   \n",
       "\n",
       "                                                                                                project_url  \\\n",
       "0  http://ec.europa.eu/environment/life/project/Projects/index.cfm?fuseaction=search.dspPage&n_proj_id=6698   \n",
       "1  http://ec.europa.eu/environment/life/project/Projects/index.cfm?fuseaction=search.dspPage&n_proj_id=6699   \n",
       "\n",
       "  project_id  \n",
       "0       6698  \n",
       "1       6699  "
      ]
     },
     "execution_count": 152,
     "metadata": {},
     "output_type": "execute_result"
    }
   ],
   "source": [
    "all_life.head(2)"
   ]
  },
  {
   "cell_type": "markdown",
   "metadata": {},
   "source": [
    "Now need to examine web page to see if we attempt geolocation using Natura 2000 dataset. Project id 6699 has none, 6812 has a few"
   ]
  },
  {
   "cell_type": "code",
   "execution_count": 153,
   "metadata": {},
   "outputs": [
    {
     "data": {
      "text/plain": [
       "'http://ec.europa.eu/environment/life/project/Projects/index.cfm?fuseaction=search.dspPage&n_proj_id=6699'"
      ]
     },
     "execution_count": 153,
     "metadata": {},
     "output_type": "execute_result"
    }
   ],
   "source": [
    "all_life['project_url'].values[1]"
   ]
  },
  {
   "cell_type": "code",
   "execution_count": 154,
   "metadata": {},
   "outputs": [
    {
     "data": {
      "text/plain": [
       "'http://ec.europa.eu/environment/life/project/Projects/index.cfm?fuseaction=search.dspPage&n_proj_id=6710'"
      ]
     },
     "execution_count": 154,
     "metadata": {},
     "output_type": "execute_result"
    }
   ],
   "source": [
    "check_url = all_life['project_url'].values[4]\n",
    "check_url "
   ]
  },
  {
   "cell_type": "code",
   "execution_count": 156,
   "metadata": {},
   "outputs": [],
   "source": [
    "raw_contents = urllib.request.urlopen('http://ec.europa.eu/environment/life/project/Projects/index.cfm?fuseaction=search.dspPage&n_proj_id=6812')"
   ]
  },
  {
   "cell_type": "code",
   "execution_count": 157,
   "metadata": {},
   "outputs": [],
   "source": [
    "charset=raw_contents.info().get_content_charset()\n",
    "contents=raw_contents.read().decode(charset)"
   ]
  },
  {
   "cell_type": "code",
   "execution_count": 158,
   "metadata": {},
   "outputs": [],
   "source": [
    "soup = BeautifulSoup(contents, 'html5lib')"
   ]
  },
  {
   "cell_type": "code",
   "execution_count": 159,
   "metadata": {},
   "outputs": [],
   "source": [
    "# soup.prettify()"
   ]
  },
  {
   "cell_type": "code",
   "execution_count": 160,
   "metadata": {},
   "outputs": [
    {
     "data": {
      "text/plain": [
       "<span class=\"txtheadergreen\">Natura 2000 sites</span>"
      ]
     },
     "execution_count": 160,
     "metadata": {},
     "output_type": "execute_result"
    }
   ],
   "source": [
    "natura_span=soup.find('span',string='Natura 2000 sites')\n",
    "natura_span"
   ]
  },
  {
   "cell_type": "code",
   "execution_count": 161,
   "metadata": {},
   "outputs": [
    {
     "data": {
      "text/plain": [
       "<table border=\"0\" cellpadding=\"0\" cellspacing=\"0\" width=\"100%\">\n",
       "\t\t\t\t\t\t\t\t\t\n",
       "\t\t\t\t\t\t\t\t\t\t\t\n",
       "\t\t\t\t\t\t\t\t\t\t\t\t<tbody><tr><td valign=\"top\">SPA</td>\n",
       "\t\t\t\t\t\t\t\t\t\t\t\t<td valign=\"top\">UK9010101</td>\n",
       "\t\t\t\t\t\t\t\t\t\t\t\t<td valign=\"top\">Dorset Heathlands</td>\n",
       "\t\t\t\t\t\t\t\t\t\t\t</tr>\n",
       "\t\t\t\t\t\t\t\t\t\t\n",
       "\t\t\t\t\t\t\t\t\t\t\t\n",
       "\t\t\t\t\t\t\t\t\t\t\t\t<tr><td valign=\"top\">SCI</td>\n",
       "\t\t\t\t\t\t\t\t\t\t\t\t<td valign=\"top\">UK0012559</td>\n",
       "\t\t\t\t\t\t\t\t\t\t\t\t<td valign=\"top\">Penhale Dunes</td>\n",
       "\t\t\t\t\t\t\t\t\t\t\t</tr>\n",
       "\t\t\t\t\t\t\t\t\t\t\n",
       "\t\t\t\t\t\t\t\t\t\t\t\n",
       "\t\t\t\t\t\t\t\t\t\t\t\t<tr><td valign=\"top\">SCI</td>\n",
       "\t\t\t\t\t\t\t\t\t\t\t\t<td valign=\"top\">UK0012570</td>\n",
       "\t\t\t\t\t\t\t\t\t\t\t\t<td valign=\"top\">Braunton Burrows</td>\n",
       "\t\t\t\t\t\t\t\t\t\t\t</tr>\n",
       "\t\t\t\t\t\t\t\t\t\t\n",
       "\t\t\t\t\t\t\t\t\t\t\t\n",
       "\t\t\t\t\t\t\t\t\t\t\t\t<tr><td valign=\"top\">SCI</td>\n",
       "\t\t\t\t\t\t\t\t\t\t\t\t<td valign=\"top\">UK0013025</td>\n",
       "\t\t\t\t\t\t\t\t\t\t\t\t<td valign=\"top\">Solway Firth</td>\n",
       "\t\t\t\t\t\t\t\t\t\t\t</tr>\n",
       "\t\t\t\t\t\t\t\t\t\t\n",
       "\t\t\t\t\t\t\t\t\t\t\t\n",
       "\t\t\t\t\t\t\t\t\t\t\t\t<tr><td valign=\"top\">SCI</td>\n",
       "\t\t\t\t\t\t\t\t\t\t\t\t<td valign=\"top\">UK0013027</td>\n",
       "\t\t\t\t\t\t\t\t\t\t\t\t<td valign=\"top\">Morecambe Bay</td>\n",
       "\t\t\t\t\t\t\t\t\t\t\t</tr>\n",
       "\t\t\t\t\t\t\t\t\t\t\n",
       "\t\t\t\t\t\t\t\t\t\t\t\n",
       "\t\t\t\t\t\t\t\t\t\t\t\t<tr><td valign=\"top\">SCI</td>\n",
       "\t\t\t\t\t\t\t\t\t\t\t\t<td valign=\"top\">UK0013031</td>\n",
       "\t\t\t\t\t\t\t\t\t\t\t\t<td valign=\"top\">Drigg Coast</td>\n",
       "\t\t\t\t\t\t\t\t\t\t\t</tr>\n",
       "\t\t\t\t\t\t\t\t\t\t\n",
       "\t\t\t\t\t\t\t\t\t\t\t\n",
       "\t\t\t\t\t\t\t\t\t\t\t\t<tr><td valign=\"top\">SCI</td>\n",
       "\t\t\t\t\t\t\t\t\t\t\t\t<td valign=\"top\">UK0013076</td>\n",
       "\t\t\t\t\t\t\t\t\t\t\t\t<td valign=\"top\">Sefton Coast</td>\n",
       "\t\t\t\t\t\t\t\t\t\t\t</tr>\n",
       "\t\t\t\t\t\t\t\t\t\t\n",
       "\t\t\t\t\t\t\t\t\t\t\t\n",
       "\t\t\t\t\t\t\t\t\t\t\t\t<tr><td valign=\"top\">SCI</td>\n",
       "\t\t\t\t\t\t\t\t\t\t\t\t<td valign=\"top\">UK0030270</td>\n",
       "\t\t\t\t\t\t\t\t\t\t\t\t<td valign=\"top\">Saltfleetby-Theddlethorpe Dunes and Gibraltar Point</td>\n",
       "\t\t\t\t\t\t\t\t\t\t\t</tr>\n",
       "\t\t\t\t\t\t\t\t\t\t\n",
       "\t\t\t\t\t            </tbody></table>"
      ]
     },
     "execution_count": 161,
     "metadata": {},
     "output_type": "execute_result"
    }
   ],
   "source": [
    "natura_table1=natura_span.findNext('table')\n",
    "natura_table1"
   ]
  },
  {
   "cell_type": "markdown",
   "metadata": {},
   "source": [
    "If the first table has 3 elements then it appears to be single row col containing 'Not applicable'"
   ]
  },
  {
   "cell_type": "code",
   "execution_count": 162,
   "metadata": {},
   "outputs": [],
   "source": [
    "table_rows = natura_table1.find_all('tr')\n",
    "\n",
    "res = []\n",
    "for tr in table_rows:\n",
    "    td = tr.find_all('td')\n",
    "    row = [tr.text.strip() for tr in td if tr.text.strip()]\n",
    "    if row:\n",
    "        res.append(row)"
   ]
  },
  {
   "cell_type": "code",
   "execution_count": 164,
   "metadata": {},
   "outputs": [
    {
     "data": {
      "text/html": [
       "<div>\n",
       "<style scoped>\n",
       "    .dataframe tbody tr th:only-of-type {\n",
       "        vertical-align: middle;\n",
       "    }\n",
       "\n",
       "    .dataframe tbody tr th {\n",
       "        vertical-align: top;\n",
       "    }\n",
       "\n",
       "    .dataframe thead th {\n",
       "        text-align: right;\n",
       "    }\n",
       "</style>\n",
       "<table border=\"1\" class=\"dataframe\">\n",
       "  <thead>\n",
       "    <tr style=\"text-align: right;\">\n",
       "      <th></th>\n",
       "      <th>area_type</th>\n",
       "      <th>area_code</th>\n",
       "      <th>area_name</th>\n",
       "    </tr>\n",
       "  </thead>\n",
       "  <tbody>\n",
       "    <tr>\n",
       "      <th>0</th>\n",
       "      <td>SPA</td>\n",
       "      <td>UK9010101</td>\n",
       "      <td>Dorset Heathlands</td>\n",
       "    </tr>\n",
       "    <tr>\n",
       "      <th>1</th>\n",
       "      <td>SCI</td>\n",
       "      <td>UK0012559</td>\n",
       "      <td>Penhale Dunes</td>\n",
       "    </tr>\n",
       "    <tr>\n",
       "      <th>2</th>\n",
       "      <td>SCI</td>\n",
       "      <td>UK0012570</td>\n",
       "      <td>Braunton Burrows</td>\n",
       "    </tr>\n",
       "    <tr>\n",
       "      <th>3</th>\n",
       "      <td>SCI</td>\n",
       "      <td>UK0013025</td>\n",
       "      <td>Solway Firth</td>\n",
       "    </tr>\n",
       "    <tr>\n",
       "      <th>4</th>\n",
       "      <td>SCI</td>\n",
       "      <td>UK0013027</td>\n",
       "      <td>Morecambe Bay</td>\n",
       "    </tr>\n",
       "    <tr>\n",
       "      <th>5</th>\n",
       "      <td>SCI</td>\n",
       "      <td>UK0013031</td>\n",
       "      <td>Drigg Coast</td>\n",
       "    </tr>\n",
       "  </tbody>\n",
       "</table>\n",
       "</div>"
      ],
      "text/plain": [
       "  area_type  area_code          area_name\n",
       "0       SPA  UK9010101  Dorset Heathlands\n",
       "1       SCI  UK0012559      Penhale Dunes\n",
       "2       SCI  UK0012570   Braunton Burrows\n",
       "3       SCI  UK0013025       Solway Firth\n",
       "4       SCI  UK0013027      Morecambe Bay\n",
       "5       SCI  UK0013031        Drigg Coast"
      ]
     },
     "execution_count": 164,
     "metadata": {},
     "output_type": "execute_result"
    }
   ],
   "source": [
    "natura_project = pd.DataFrame(res, columns=[\"area_type\", \"area_code\", \"area_name\"])\n",
    "natura_project.head(6)"
   ]
  },
  {
   "cell_type": "markdown",
   "metadata": {},
   "source": [
    "TODO: We will need to split the budget across this many areas"
   ]
  },
  {
   "cell_type": "markdown",
   "metadata": {},
   "source": [
    "Find the Long and Lat for this Natura area"
   ]
  },
  {
   "cell_type": "code",
   "execution_count": 230,
   "metadata": {},
   "outputs": [],
   "source": [
    "def findLatAndLong(natura_area_code):\n",
    "    # http://ec.europa.eu/environment/life/project/Projects/index.cfm\n",
    "    all_natura_sites = pd.read_csv('input/NATURA2000SITES.csv')\n",
    "    uk_natura_sites = all_natura_sites[all_natura_sites.COUNTRY_CODE=='uk'].copy()\n",
    "    # Stip out spurious columns\n",
    "    uk_natura_sites_reduced = uk_natura_sites[['SITECODE', 'SITENAME', 'LONGITUDE','LATITUDE']].copy()\n",
    "    uk_natura_sites_reduced.rename(columns={ \n",
    "        uk_natura_sites_reduced.columns[0]: \"site_code\",\n",
    "        uk_natura_sites_reduced.columns[1]: \"site_name\",\n",
    "        uk_natura_sites_reduced.columns[2]: \"longitude\",\n",
    "        uk_natura_sites_reduced.columns[3]: \"latitude\"\n",
    "        }, inplace=True)\n",
    "    area_code_row=uk_natura_sites_reduced[uk_natura_sites_reduced.site_code==natura_area_code].copy()\n",
    "    longitude = area_code_row['longitude'].values[0]\n",
    "    latitude = area_code_row['latitude'].values[0]\n",
    "    return {latitude, longitude}"
   ]
  },
  {
   "cell_type": "code",
   "execution_count": 231,
   "metadata": {},
   "outputs": [
    {
     "data": {
      "text/plain": [
       "{-2.961667, 54.119167000000004}"
      ]
     },
     "execution_count": 231,
     "metadata": {},
     "output_type": "execute_result"
    }
   ],
   "source": [
    "findLatAndLong('UK0013027')"
   ]
  },
  {
   "cell_type": "code",
   "execution_count": 249,
   "metadata": {},
   "outputs": [],
   "source": [
    "def findNearestPostcode(lat, long):\n",
    "    url = 'http://api.postcodes.io/postcodes'\n",
    "    data = '''{\n",
    "        \"geolocations\": [{\n",
    "        \"longitude\": ''' + str(long) + ''',\n",
    "        \"latitude\": ''' + str(lat) + ''',\n",
    "        \"radius\": 10000,\n",
    "        \"limit\": 1\n",
    "        }]\n",
    "    }'''\n",
    "    dump=json.dumps(data, indent=4, sort_keys=True)\n",
    "    print(dump)\n",
    "    headers = {'Content-type': 'application/json', 'Accept': 'text/plain'}\n",
    "    response = requests.post(url, data=data, headers=headers)\n",
    "    postcode = response.json()['result'][0]['result'][0]['postcode']\n",
    "    return postcode"
   ]
  },
  {
   "cell_type": "code",
   "execution_count": 251,
   "metadata": {},
   "outputs": [
    {
     "name": "stdout",
     "output_type": "stream",
     "text": [
      "\"{\\n        \\\"geolocations\\\": [{\\n        \\\"longitude\\\": -2.961667,\\n        \\\"latitude\\\": 54.119167000000004,\\n        \\\"radius\\\": 10000,\\n        \\\"limit\\\": 1\\n        }]\\n    }\"\n"
     ]
    },
    {
     "ename": "TypeError",
     "evalue": "'NoneType' object is not subscriptable",
     "output_type": "error",
     "traceback": [
      "\u001b[0;31m---------------------------------------------------------------------------\u001b[0m",
      "\u001b[0;31mTypeError\u001b[0m                                 Traceback (most recent call last)",
      "\u001b[0;32m<ipython-input-251-a9635f8ed6ce>\u001b[0m in \u001b[0;36m<module>\u001b[0;34m\u001b[0m\n\u001b[1;32m      1\u001b[0m \u001b[0;31m#findNearestPostcode(57.67,-3.116667)\u001b[0m\u001b[0;34m\u001b[0m\u001b[0;34m\u001b[0m\u001b[0m\n\u001b[0;32m----> 2\u001b[0;31m \u001b[0mfindNearestPostcode\u001b[0m\u001b[0;34m(\u001b[0m\u001b[0;36m54.119167000000004\u001b[0m\u001b[0;34m,\u001b[0m\u001b[0;34m-\u001b[0m\u001b[0;36m2.961667\u001b[0m\u001b[0;34m)\u001b[0m\u001b[0;34m\u001b[0m\u001b[0m\n\u001b[0m",
      "\u001b[0;32m<ipython-input-249-d623d49b2ee9>\u001b[0m in \u001b[0;36mfindNearestPostcode\u001b[0;34m(lat, long)\u001b[0m\n\u001b[1;32m     13\u001b[0m     \u001b[0mheaders\u001b[0m \u001b[0;34m=\u001b[0m \u001b[0;34m{\u001b[0m\u001b[0;34m'Content-type'\u001b[0m\u001b[0;34m:\u001b[0m \u001b[0;34m'application/json'\u001b[0m\u001b[0;34m,\u001b[0m \u001b[0;34m'Accept'\u001b[0m\u001b[0;34m:\u001b[0m \u001b[0;34m'text/plain'\u001b[0m\u001b[0;34m}\u001b[0m\u001b[0;34m\u001b[0m\u001b[0m\n\u001b[1;32m     14\u001b[0m     \u001b[0mresponse\u001b[0m \u001b[0;34m=\u001b[0m \u001b[0mrequests\u001b[0m\u001b[0;34m.\u001b[0m\u001b[0mpost\u001b[0m\u001b[0;34m(\u001b[0m\u001b[0murl\u001b[0m\u001b[0;34m,\u001b[0m \u001b[0mdata\u001b[0m\u001b[0;34m=\u001b[0m\u001b[0mdata\u001b[0m\u001b[0;34m,\u001b[0m \u001b[0mheaders\u001b[0m\u001b[0;34m=\u001b[0m\u001b[0mheaders\u001b[0m\u001b[0;34m)\u001b[0m\u001b[0;34m\u001b[0m\u001b[0m\n\u001b[0;32m---> 15\u001b[0;31m     \u001b[0mpostcode\u001b[0m \u001b[0;34m=\u001b[0m \u001b[0mresponse\u001b[0m\u001b[0;34m.\u001b[0m\u001b[0mjson\u001b[0m\u001b[0;34m(\u001b[0m\u001b[0;34m)\u001b[0m\u001b[0;34m[\u001b[0m\u001b[0;34m'result'\u001b[0m\u001b[0;34m]\u001b[0m\u001b[0;34m[\u001b[0m\u001b[0;36m0\u001b[0m\u001b[0;34m]\u001b[0m\u001b[0;34m[\u001b[0m\u001b[0;34m'result'\u001b[0m\u001b[0;34m]\u001b[0m\u001b[0;34m[\u001b[0m\u001b[0;36m0\u001b[0m\u001b[0;34m]\u001b[0m\u001b[0;34m[\u001b[0m\u001b[0;34m'postcode'\u001b[0m\u001b[0;34m]\u001b[0m\u001b[0;34m\u001b[0m\u001b[0m\n\u001b[0m\u001b[1;32m     16\u001b[0m     \u001b[0;32mreturn\u001b[0m \u001b[0mpostcode\u001b[0m\u001b[0;34m\u001b[0m\u001b[0m\n",
      "\u001b[0;31mTypeError\u001b[0m: 'NoneType' object is not subscriptable"
     ]
    }
   ],
   "source": [
    "#findNearestPostcode(57.67,-3.116667)\n",
    "findNearestPostcode(54.119167000000004,-2.961667)"
   ]
  }
 ],
 "metadata": {
  "kernelspec": {
   "display_name": "Python 3",
   "language": "python",
   "name": "python3"
  },
  "language_info": {
   "codemirror_mode": {
    "name": "ipython",
    "version": 3
   },
   "file_extension": ".py",
   "mimetype": "text/x-python",
   "name": "python",
   "nbconvert_exporter": "python",
   "pygments_lexer": "ipython3",
   "version": "3.6.6"
  }
 },
 "nbformat": 4,
 "nbformat_minor": 2
}
