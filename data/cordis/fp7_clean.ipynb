{
 "cells": [
  {
   "cell_type": "markdown",
   "metadata": {},
   "source": [
    "# CORDIS FP7"
   ]
  },
  {
   "cell_type": "code",
   "execution_count": null,
   "metadata": {},
   "outputs": [],
   "source": [
    "import json\n",
    "import re\n",
    "\n",
    "from titlecase import titlecase\n",
    "import pandas as pd\n",
    "\n",
    "pd.set_option('display.max_columns', 50)"
   ]
  },
  {
   "cell_type": "markdown",
   "metadata": {},
   "source": [
    "## Read in Data"
   ]
  },
  {
   "cell_type": "code",
   "execution_count": null,
   "metadata": {},
   "outputs": [],
   "source": [
    "all_projects = pd.read_excel('input/fp7/cordis-fp7projects.xlsx')\n",
    "all_projects.shape"
   ]
  },
  {
   "cell_type": "code",
   "execution_count": null,
   "metadata": {},
   "outputs": [],
   "source": [
    "all_organizations = pd.read_excel('input/fp7/cordis-fp7organizations.xlsx')\n",
    "all_organizations.shape"
   ]
  },
  {
   "cell_type": "code",
   "execution_count": null,
   "metadata": {},
   "outputs": [],
   "source": [
    "all_briefs = pd.read_excel('input/fp7/cordis-fp7briefs.xlsx')\n",
    "all_briefs.shape"
   ]
  },
  {
   "cell_type": "markdown",
   "metadata": {},
   "source": [
    "## Restrict to UK\n",
    "\n",
    "We are only interested in projects and organizations where the coordinator or at least one participant institution is in the UK."
   ]
  },
  {
   "cell_type": "code",
   "execution_count": null,
   "metadata": {},
   "outputs": [],
   "source": [
    "uk_organizations = all_organizations[all_organizations.country == 'UK']\n",
    "uk_organizations.shape"
   ]
  },
  {
   "cell_type": "code",
   "execution_count": null,
   "metadata": {},
   "outputs": [],
   "source": [
    "uk_organizations.head()"
   ]
  },
  {
   "cell_type": "code",
   "execution_count": null,
   "metadata": {},
   "outputs": [],
   "source": [
    "uk_projects = all_projects[all_projects.id.isin(uk_organizations.projectID)]\n",
    "uk_projects.shape"
   ]
  },
  {
   "cell_type": "code",
   "execution_count": null,
   "metadata": {},
   "outputs": [],
   "source": [
    "uk_projects.head()"
   ]
  },
  {
   "cell_type": "code",
   "execution_count": null,
   "metadata": {},
   "outputs": [],
   "source": [
    "uk_briefs = all_briefs[all_briefs.projectRcn.isin(uk_projects.rcn)]\n",
    "uk_briefs.shape"
   ]
  },
  {
   "cell_type": "code",
   "execution_count": null,
   "metadata": {},
   "outputs": [],
   "source": [
    "uk_briefs.head()"
   ]
  },
  {
   "cell_type": "markdown",
   "metadata": {},
   "source": [
    "## Examples\n",
    "\n",
    "### Coordinator outside UK\n",
    "\n",
    "The UK has two participant institutions. It appears that `projects.ecMaxContribution` is the sum of all `organizations.ecContribution`s for all coordinator and participant institutions."
   ]
  },
  {
   "cell_type": "code",
   "execution_count": null,
   "metadata": {},
   "outputs": [],
   "source": [
    "uk_projects[uk_projects.rcn == 101244]"
   ]
  },
  {
   "cell_type": "code",
   "execution_count": null,
   "metadata": {},
   "outputs": [],
   "source": [
    "uk_organizations[uk_organizations.projectRcn == 101244]"
   ]
  },
  {
   "cell_type": "code",
   "execution_count": null,
   "metadata": {},
   "outputs": [],
   "source": [
    "all_organizations[all_organizations.projectRcn == 101244].ecContribution.max()"
   ]
  },
  {
   "cell_type": "code",
   "execution_count": null,
   "metadata": {},
   "outputs": [],
   "source": [
    "all_organizations[all_organizations.projectRcn == 101244].ecContribution.sum()"
   ]
  },
  {
   "cell_type": "code",
   "execution_count": null,
   "metadata": {},
   "outputs": [],
   "source": [
    "all_briefs[all_briefs.projectRcn == 101244]"
   ]
  },
  {
   "cell_type": "markdown",
   "metadata": {},
   "source": [
    "### Coordinator in UK\n",
    "\n",
    "This one is also interesting in that it seems to have a lot of duplicate records that don't have titles, for some reason. We will need to filter those out."
   ]
  },
  {
   "cell_type": "code",
   "execution_count": null,
   "metadata": {},
   "outputs": [],
   "source": [
    "uk_projects[uk_projects.rcn == 99464]"
   ]
  },
  {
   "cell_type": "code",
   "execution_count": null,
   "metadata": {},
   "outputs": [],
   "source": [
    "uk_organizations[uk_organizations.projectRcn == 99464]"
   ]
  },
  {
   "cell_type": "code",
   "execution_count": null,
   "metadata": {},
   "outputs": [],
   "source": [
    "uk_organizations[uk_organizations.projectRcn == 99464].ecContribution.unique().sum()"
   ]
  },
  {
   "cell_type": "code",
   "execution_count": null,
   "metadata": {},
   "outputs": [],
   "source": [
    "all_briefs[all_briefs.projectRcn == 99464]"
   ]
  },
  {
   "cell_type": "markdown",
   "metadata": {},
   "source": [
    "## Duplicate Projects\n",
    "\n",
    "It looks like it's safe to just drop projects without titles; those seem to be the only duplicates."
   ]
  },
  {
   "cell_type": "code",
   "execution_count": null,
   "metadata": {},
   "outputs": [],
   "source": [
    "[uk_projects.rcn.nunique(), uk_projects.id.nunique(), uk_projects.shape]"
   ]
  },
  {
   "cell_type": "code",
   "execution_count": null,
   "metadata": {},
   "outputs": [],
   "source": [
    "uk_projects[uk_projects.duplicated('rcn', keep=False)]"
   ]
  },
  {
   "cell_type": "code",
   "execution_count": null,
   "metadata": {},
   "outputs": [],
   "source": [
    "uk_projects[pd.isnull(uk_projects.title)]"
   ]
  },
  {
   "cell_type": "code",
   "execution_count": null,
   "metadata": {},
   "outputs": [],
   "source": [
    "clean_projects = uk_projects[~pd.isnull(uk_projects.title)].copy()\n",
    "# Could include coordinator and participants... would need some extra cleaning.\n",
    "clean_projects.drop([\n",
    "    'id', 'status', 'programme', 'topics', 'frameworkProgramme', 'call',\n",
    "    'fundingScheme', 'coordinator', 'participants', 'subjects'\n",
    "], axis=1, inplace=True)\n",
    "clean_projects.shape"
   ]
  },
  {
   "cell_type": "code",
   "execution_count": null,
   "metadata": {},
   "outputs": [],
   "source": [
    "clean_projects.describe()"
   ]
  },
  {
   "cell_type": "code",
   "execution_count": null,
   "metadata": {},
   "outputs": [],
   "source": [
    "clean_projects.head()"
   ]
  },
  {
   "cell_type": "markdown",
   "metadata": {},
   "source": [
    "## Clean Up Organizations\n",
    "\n",
    "I notice several issues:\n",
    "\n",
    "- Some are missing IDs (but do have postcodes)\n",
    "- Some are missing postcodes\n",
    "- Some postcodes are clearly typo'd (digit substitutions, etc);\n",
    "- Some postcodes have been terminated (searched for them with google)\n",
    "\n",
    "There are only 2993 unique organization IDs, so this is probably the result of a join.\n",
    "\n",
    "For now, drop all organizations that don't have both an ID and a valid postcode. (It does look possible to match names to find IDs, and many without postcodes still have addresses, which we could geocode.)\n",
    "\n",
    "Would be interesting to try this: https://codereview.stackexchange.com/questions/117801/uk-postcode-validation-and-format-correction-tool"
   ]
  },
  {
   "cell_type": "code",
   "execution_count": null,
   "metadata": {},
   "outputs": [],
   "source": [
    "[\n",
    "    uk_organizations.shape,\n",
    "    uk_organizations.id.notna().sum(),\n",
    "    uk_organizations.id.isna().sum(),\n",
    "    uk_organizations.id[uk_organizations.id.notna()].nunique(),\n",
    "    uk_organizations.postCode.isna().sum(),\n",
    "    uk_organizations.postCode[uk_organizations.postCode.notna()].nunique()\n",
    "]"
   ]
  },
  {
   "cell_type": "code",
   "execution_count": null,
   "metadata": {},
   "outputs": [],
   "source": [
    "organizations = uk_organizations[uk_organizations.id.notna() & uk_organizations.postCode.notna()].copy()\n",
    "organizations.id = organizations.id.astype('int64')\n",
    "organizations.postCode = organizations.postCode.astype('str')\n",
    "[\n",
    "    organizations.shape,\n",
    "    organizations.id.nunique(),\n",
    "    organizations.postCode.nunique()\n",
    "]"
   ]
  },
  {
   "cell_type": "code",
   "execution_count": null,
   "metadata": {},
   "outputs": [],
   "source": [
    "ukpostcodes = pd.read_csv('../postcodes/input/ukpostcodes.csv')\n",
    "ukpostcodes.shape"
   ]
  },
  {
   "cell_type": "code",
   "execution_count": null,
   "metadata": {},
   "outputs": [],
   "source": [
    "organizations.postCode.isin(ukpostcodes.postcode).sum()"
   ]
  },
  {
   "cell_type": "code",
   "execution_count": null,
   "metadata": {},
   "outputs": [],
   "source": [
    "organizations['cleanPostcode'] = organizations.postCode.\\\n",
    "    str.upper().\\\n",
    "    str.strip().\\\n",
    "    str.replace(r'[^A-Z0-9]', '').\\\n",
    "    str.replace(r'^(\\S+)([0-9][A-Z]{2})$', r'\\1 \\2')"
   ]
  },
  {
   "cell_type": "code",
   "execution_count": null,
   "metadata": {},
   "outputs": [],
   "source": [
    "organizations.cleanPostcode.isin(ukpostcodes.postcode).sum()"
   ]
  },
  {
   "cell_type": "code",
   "execution_count": null,
   "metadata": {},
   "outputs": [],
   "source": [
    "organizations.cleanPostcode[~organizations.cleanPostcode.isin(ukpostcodes.postcode)].unique()"
   ]
  },
  {
   "cell_type": "code",
   "execution_count": null,
   "metadata": {},
   "outputs": [],
   "source": [
    "organizations = organizations[organizations.cleanPostcode.isin(ukpostcodes.postcode)]\n",
    "organizations.shape"
   ]
  },
  {
   "cell_type": "code",
   "execution_count": null,
   "metadata": {},
   "outputs": [],
   "source": [
    "clean_projects = clean_projects[clean_projects.rcn.isin(organizations.projectRcn)]\n",
    "clean_projects.shape"
   ]
  },
  {
   "cell_type": "markdown",
   "metadata": {},
   "source": [
    "## Clean Up Duplicate Organizations\n",
    "\n",
    "I think there is also a join on the contacts, because we get multiple rows for some project-organization pairs. The main thing is that we want the `ecContribution` to be consistent. Otherwise, any row will do."
   ]
  },
  {
   "cell_type": "code",
   "execution_count": null,
   "metadata": {},
   "outputs": [],
   "source": [
    "organizations.sort_values(['projectRcn', 'id']).\\\n",
    "    groupby(['projectRcn', 'id']).\\\n",
    "    filter(lambda x: x.shape[0] > 1)"
   ]
  },
  {
   "cell_type": "code",
   "execution_count": null,
   "metadata": {},
   "outputs": [],
   "source": [
    "organizations.groupby(['projectRcn', 'id']).\\\n",
    "    filter(lambda x: x.ecContribution.nunique() > 1).shape"
   ]
  },
  {
   "cell_type": "code",
   "execution_count": null,
   "metadata": {},
   "outputs": [],
   "source": [
    "clean_organizations = organizations.groupby(['projectRcn', 'id']).first()\n",
    "clean_organizations.reset_index(inplace=True)\n",
    "clean_organizations.drop([\n",
    "    'projectID', 'projectAcronym', 'shortName', 'activityType', 'endOfParticipation',\n",
    "    'country', 'street', 'city', 'postCode',\n",
    "    'contactType', 'contactTitle', 'contactFirstNames', 'contactLastNames',\n",
    "    'contactFunction', 'contactTelephoneNumber', 'contactFaxNumber', 'contactEmail'\n",
    "], axis=1, inplace=True)\n",
    "clean_organizations.rename({\n",
    "    'id': 'organizationId',\n",
    "    'cleanPostcode': 'postcode'\n",
    "}, axis=1, inplace=True)\n",
    "clean_organizations.name = clean_organizations.name.apply(titlecase)\n",
    "clean_organizations.shape"
   ]
  },
  {
   "cell_type": "code",
   "execution_count": null,
   "metadata": {},
   "outputs": [],
   "source": [
    "clean_organizations.head()"
   ]
  },
  {
   "cell_type": "markdown",
   "metadata": {},
   "source": [
    "## Briefs\n",
    "\n",
    "Might as well merge these into the projects where we have them. We have a few duplicates to take care of."
   ]
  },
  {
   "cell_type": "code",
   "execution_count": null,
   "metadata": {},
   "outputs": [],
   "source": [
    "clean_briefs = uk_briefs[\n",
    "    uk_briefs.projectRcn.isin(clean_projects.rcn) &\\\n",
    "    (uk_briefs.title.notna() | uk_briefs.teaser.notna() | uk_briefs.article.notna())\n",
    "].copy()\n",
    "clean_briefs.shape"
   ]
  },
  {
   "cell_type": "code",
   "execution_count": null,
   "metadata": {},
   "outputs": [],
   "source": [
    "clean_briefs[clean_briefs.projectRcn.duplicated(keep=False)]"
   ]
  },
  {
   "cell_type": "code",
   "execution_count": null,
   "metadata": {},
   "outputs": [],
   "source": [
    "clean_briefs = clean_briefs.sort_values('lastUpdateDate')\n",
    "clean_briefs = clean_briefs[~clean_briefs.projectRcn.duplicated(keep='last')]\n",
    "clean_briefs.shape"
   ]
  },
  {
   "cell_type": "code",
   "execution_count": null,
   "metadata": {},
   "outputs": [],
   "source": [
    "clean_briefs.drop([\n",
    "    'rcn', 'language', 'lastUpdateDate', 'country', 'projectAcronym',\n",
    "    'programme', 'topics', 'relatedReportRcn'\n",
    "], axis=1, inplace=True)\n",
    "clean_briefs.rename({\n",
    "    'projectRcn': 'rcn',\n",
    "    'title': 'briefTitle'\n",
    "}, axis=1, inplace=True)\n",
    "clean_briefs.head()"
   ]
  },
  {
   "cell_type": "code",
   "execution_count": null,
   "metadata": {},
   "outputs": [],
   "source": [
    "clean_projects_with_briefs = pd.merge(\n",
    "    clean_projects, clean_briefs, on='rcn', how='left', validate='1:1'\n",
    ")\n",
    "clean_projects_with_briefs.head()"
   ]
  },
  {
   "cell_type": "markdown",
   "metadata": {},
   "source": [
    "## Checks"
   ]
  },
  {
   "cell_type": "code",
   "execution_count": null,
   "metadata": {},
   "outputs": [],
   "source": [
    "clean_organizations[clean_organizations.projectRcn == 101244]"
   ]
  },
  {
   "cell_type": "code",
   "execution_count": null,
   "metadata": {},
   "outputs": [],
   "source": [
    "clean_projects_with_briefs[clean_projects_with_briefs.rcn == 101244]"
   ]
  },
  {
   "cell_type": "code",
   "execution_count": null,
   "metadata": {},
   "outputs": [],
   "source": [
    "clean_organizations[clean_organizations.projectRcn == 99464]"
   ]
  },
  {
   "cell_type": "code",
   "execution_count": null,
   "metadata": {},
   "outputs": [],
   "source": [
    "clean_projects_with_briefs[clean_projects_with_briefs.rcn == 99464]"
   ]
  },
  {
   "cell_type": "code",
   "execution_count": null,
   "metadata": {},
   "outputs": [],
   "source": [
    "project_organizations = pd.merge(\n",
    "    clean_projects_with_briefs, clean_organizations,\n",
    "    left_on='rcn', right_on='projectRcn', validate='1:m')\n",
    "project_organizations.drop(['projectRcn'], axis=1, inplace=True)\n",
    "project_organizations.shape"
   ]
  },
  {
   "cell_type": "code",
   "execution_count": null,
   "metadata": {},
   "outputs": [],
   "source": [
    "project_organizations.head()"
   ]
  },
  {
   "cell_type": "code",
   "execution_count": null,
   "metadata": {},
   "outputs": [],
   "source": [
    "uk_contributions = project_organizations.groupby('rcn').aggregate({'ecContribution': sum})\n",
    "uk_contributions.reset_index(inplace=True)\n",
    "uk_contributions.rename({'ecContribution': 'ecUKContribution'}, axis=1, inplace=True)\n",
    "uk_contributions.head()"
   ]
  },
  {
   "cell_type": "code",
   "execution_count": null,
   "metadata": {},
   "outputs": [],
   "source": [
    "project_uk_contributions = pd.merge(\n",
    "    clean_projects_with_briefs,\n",
    "    uk_contributions,\n",
    "    on='rcn', validate='1:1')\n",
    "project_uk_contributions.head()"
   ]
  },
  {
   "cell_type": "code",
   "execution_count": null,
   "metadata": {},
   "outputs": [],
   "source": [
    "project_uk_contributions[project_uk_contributions.ecUKContribution > project_uk_contributions.ecMaxContribution + 0.1].shape"
   ]
  },
  {
   "cell_type": "code",
   "execution_count": null,
   "metadata": {},
   "outputs": [],
   "source": [
    "project_organization_uk_contributions = pd.merge(\n",
    "    project_uk_contributions, clean_organizations,\n",
    "    left_on='rcn', right_on='projectRcn', validate='1:m'\n",
    ")\n",
    "project_organization_uk_contributions = pd.merge(\n",
    "    project_organization_uk_contributions, ukpostcodes, on='postcode', validate='m:1'\n",
    ")\n",
    "project_organization_uk_contributions.shape"
   ]
  },
  {
   "cell_type": "code",
   "execution_count": null,
   "metadata": {},
   "outputs": [],
   "source": [
    "project_organization_uk_contributions.head()"
   ]
  },
  {
   "cell_type": "markdown",
   "metadata": {},
   "source": [
    "## Save Data"
   ]
  },
  {
   "cell_type": "code",
   "execution_count": null,
   "metadata": {},
   "outputs": [],
   "source": [
    "clean_projects_with_briefs.to_pickle('output/fp7_projects.pkl.gz')"
   ]
  },
  {
   "cell_type": "code",
   "execution_count": null,
   "metadata": {},
   "outputs": [],
   "source": [
    "clean_organizations.to_pickle('output/fp7_organizations.pkl.gz')"
   ]
  },
  {
   "cell_type": "code",
   "execution_count": null,
   "metadata": {},
   "outputs": [],
   "source": [
    "def make_cordis_data_geo_json(data):\n",
    "    def make_feature(row):\n",
    "        properties = {\n",
    "            property: row[property]\n",
    "            for property in [\n",
    "                'acronym', 'title',\n",
    "                'totalCost', 'ecContribution', 'ecUKContribution', 'ecMaxContribution',\n",
    "                'name', 'organizationUrl', 'projectUrl', 'imageUri']\n",
    "            if str(row[property]) != 'nan'\n",
    "        }\n",
    "        return {\n",
    "            'type': 'Feature',\n",
    "            'geometry': {\n",
    "                \"type\": \"Point\",\n",
    "                \"coordinates\": [row['longitude'], row['latitude']]\n",
    "            },\n",
    "            'properties': properties\n",
    "        }\n",
    "    features = list(data.apply(make_feature, axis=1))\n",
    "    return { 'type': 'FeatureCollection', 'features': features }\n",
    "with open('output/cordis_data.geo.json', 'w') as file:\n",
    "    json.dump(\n",
    "        make_cordis_data_geo_json(project_organization_uk_contributions),\n",
    "        file, sort_keys=True)"
   ]
  }
 ],
 "metadata": {
  "kernelspec": {
   "display_name": "Python 3",
   "language": "python",
   "name": "python3"
  },
  "language_info": {
   "codemirror_mode": {
    "name": "ipython",
    "version": 3
   },
   "file_extension": ".py",
   "mimetype": "text/x-python",
   "name": "python",
   "nbconvert_exporter": "python",
   "pygments_lexer": "ipython3",
   "version": "3.6.5"
  }
 },
 "nbformat": 4,
 "nbformat_minor": 2
}
