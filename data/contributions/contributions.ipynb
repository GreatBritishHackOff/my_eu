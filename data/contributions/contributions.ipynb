{
 "cells": [
  {
   "cell_type": "code",
   "execution_count": null,
   "metadata": {},
   "outputs": [],
   "source": [
    "import pandas as pd\n",
    "import ezodf\n",
    "\n",
    "import numpy as np"
   ]
  },
  {
   "cell_type": "markdown",
   "metadata": {},
   "source": [
    "## Revenue from each region"
   ]
  },
  {
   "cell_type": "markdown",
   "metadata": {},
   "source": [
    "Let's look at revenue from each region. "
   ]
  },
  {
   "cell_type": "code",
   "execution_count": null,
   "metadata": {},
   "outputs": [],
   "source": [
    "contributions = pd.read_excel('input/b794db89.xls', skiprows=3)\n",
    "contributions.shape"
   ]
  },
  {
   "cell_type": "code",
   "execution_count": null,
   "metadata": {},
   "outputs": [],
   "source": [
    "contributions.head()"
   ]
  },
  {
   "cell_type": "code",
   "execution_count": null,
   "metadata": {},
   "outputs": [],
   "source": [
    "list(contributions)"
   ]
  },
  {
   "cell_type": "markdown",
   "metadata": {},
   "source": [
    "We're not interested in revenue per person per region, so we'll remove these figures"
   ]
  },
  {
   "cell_type": "code",
   "execution_count": null,
   "metadata": {},
   "outputs": [],
   "source": [
    "contributions = contributions.drop(['Unnamed: 4', '2014/15.1', '2015/16.1', ' 2016/17.1'], axis=1)\n",
    "contributions.head()"
   ]
  },
  {
   "cell_type": "code",
   "execution_count": null,
   "metadata": {},
   "outputs": [],
   "source": [
    "contributions"
   ]
  },
  {
   "cell_type": "markdown",
   "metadata": {},
   "source": [
    "We'll use the figures that divide noth sea oil by population rather than by geography, but it doesn't make much difference. "
   ]
  },
  {
   "cell_type": "code",
   "execution_count": null,
   "metadata": {},
   "outputs": [],
   "source": [
    "contributions = contributions[16:29].copy()\n",
    "contributions.head()"
   ]
  },
  {
   "cell_type": "markdown",
   "metadata": {},
   "source": [
    "The spend on the EU in the 2016/17 tax year was 13.8bn, not including the rebate, which we have ignored here as it is paid straight back. As a % of spending, this is 1.69%, but as a proportion of revenue, this is 1.90% (figures from https://www.ons.gov.uk/economy/governmentpublicsectorandtaxes/publicsectorfinance/articles/theukcontributiontotheeubudget/2017-10-31)"
   ]
  },
  {
   "cell_type": "code",
   "execution_count": null,
   "metadata": {},
   "outputs": [],
   "source": [
    "contributions['EU_funding_2016'] = contributions[' 2016/17']*0.019\n",
    "contributions.head(20)"
   ]
  },
  {
   "cell_type": "code",
   "execution_count": null,
   "metadata": {},
   "outputs": [],
   "source": []
  },
  {
   "cell_type": "markdown",
   "metadata": {},
   "source": [
    "## CAP data"
   ]
  },
  {
   "cell_type": "code",
   "execution_count": null,
   "metadata": {},
   "outputs": [],
   "source": [
    "raw_cap_by_area = pd.concat([\n",
    "    pd.read_pickle('../cap/output/cap_by_area_{}.pkl.gz'.format(year))\n",
    "    for year in range(2016, 2017)\n",
    "])\n",
    "raw_cap_by_area.head()"
   ]
  },
  {
   "cell_type": "code",
   "execution_count": null,
   "metadata": {},
   "outputs": [],
   "source": [
    "nuts = pd.read_csv('input/pc2018_uk_NUTS-2016_v1.0.zip', sep=';')\n",
    "nuts.head()"
   ]
  },
  {
   "cell_type": "code",
   "execution_count": null,
   "metadata": {},
   "outputs": [],
   "source": [
    "nuts = nuts.applymap(lambda x: x.replace(\"'\", ''))\n",
    "nuts.head()"
   ]
  },
  {
   "cell_type": "code",
   "execution_count": null,
   "metadata": {},
   "outputs": [],
   "source": [
    "nuts['postcode_area'] = \\\n",
    "   nuts['CODE'].str.replace(r'^([A-Z]{1,2}).+$', r'\\1')\n",
    "nuts.head()"
   ]
  },
  {
   "cell_type": "code",
   "execution_count": null,
   "metadata": {},
   "outputs": [],
   "source": [
    "nuts['nuts_1'] = \\\n",
    "   nuts['NUTS3'].str.replace(r'^([A-Z]{1,3}).+$', r'\\1')\n",
    "nuts.head()"
   ]
  },
  {
   "cell_type": "code",
   "execution_count": null,
   "metadata": {},
   "outputs": [],
   "source": [
    "\n",
    "group = nuts.groupby('nuts_1')['postcode_area'].unique()\n",
    "group.head()"
   ]
  },
  {
   "cell_type": "code",
   "execution_count": null,
   "metadata": {},
   "outputs": [],
   "source": [
    "group_df = pd.DataFrame.from_dict(group)\n",
    "group_df.head()"
   ]
  },
  {
   "cell_type": "code",
   "execution_count": null,
   "metadata": {},
   "outputs": [],
   "source": [
    "group_df.postcode_area['UKC']"
   ]
  },
  {
   "cell_type": "code",
   "execution_count": null,
   "metadata": {},
   "outputs": [],
   "source": [
    "group_df.postcode_area['UKC'][np.isin(group_df.postcode_area['UKC'], group_df.postcode_area['UKD'])]"
   ]
  },
  {
   "cell_type": "code",
   "execution_count": null,
   "metadata": {},
   "outputs": [],
   "source": [
    "group_df.postcode_area['UKC'][np.isin(group_df.postcode_area['UKC'], group_df.postcode_area['UKE'])]"
   ]
  },
  {
   "cell_type": "code",
   "execution_count": null,
   "metadata": {},
   "outputs": [],
   "source": [
    "group_df.postcode_area['UKD'][np.isin(group_df.postcode_area['UKD'], group_df.postcode_area['UKE'])]"
   ]
  },
  {
   "cell_type": "code",
   "execution_count": null,
   "metadata": {},
   "outputs": [],
   "source": [
    "group_df.postcode_area['UKD'][np.isin(group_df.postcode_area['UKD'], group_df.postcode_area['UKF'])]"
   ]
  },
  {
   "cell_type": "code",
   "execution_count": null,
   "metadata": {},
   "outputs": [],
   "source": [
    "group_df.postcode_area['UKD'][np.isin(group_df.postcode_area['UKD'], group_df.postcode_area['UKG'])]"
   ]
  },
  {
   "cell_type": "code",
   "execution_count": null,
   "metadata": {},
   "outputs": [],
   "source": [
    "group_df.postcode_area['UKE'][np.isin(group_df.postcode_area['UKE'], group_df.postcode_area['UKF'])]"
   ]
  },
  {
   "cell_type": "markdown",
   "metadata": {},
   "source": [
    "It turns out, even Scotland had crossovers!"
   ]
  },
  {
   "cell_type": "code",
   "execution_count": null,
   "metadata": {},
   "outputs": [],
   "source": [
    "group_df.postcode_area['UKM'][np.isin(group_df.postcode_area['UKM'], group_df.postcode_area['UKC'])]"
   ]
  },
  {
   "cell_type": "code",
   "execution_count": null,
   "metadata": {},
   "outputs": [],
   "source": [
    "group_df.postcode_area['UKM'][np.isin(group_df.postcode_area['UKM'], group_df.postcode_area['UKD'])]"
   ]
  },
  {
   "cell_type": "markdown",
   "metadata": {},
   "source": [
    "Tried this but it didn't work - saving in case I want to come back to it\n",
    "\n",
    "for nuts_1 in group_df:\n",
    "    print(group_df.iloc[nuts_1]['nuts_1'])\n",
    "    "
   ]
  },
  {
   "cell_type": "markdown",
   "metadata": {},
   "source": [
    "I'm pretty sure Northern Ireland just has one postocde, which should be unique, let's check there is a single postcode"
   ]
  },
  {
   "cell_type": "code",
   "execution_count": null,
   "metadata": {},
   "outputs": [],
   "source": [
    "group_df.postcode_area['UKN']"
   ]
  },
  {
   "cell_type": "code",
   "execution_count": null,
   "metadata": {},
   "outputs": [],
   "source": [
    "raw_cap_by_area[raw_cap_by_area['postcode_area'] == 'BT']"
   ]
  },
  {
   "cell_type": "markdown",
   "metadata": {},
   "source": [
    "So, in 2016, Northern Ireland gave £316,692,000  and received £283,568,147 in CAP - this means we need to look at other data to see if they are a net receiver or giver. Interestingly, if we use the 1.6% figure, then they are a net receiver already. "
   ]
  },
  {
   "cell_type": "code",
   "execution_count": null,
   "metadata": {},
   "outputs": [],
   "source": [
    "def add_postcode_area(df):\n",
    "    df['postcode_area'] = df['postcode'].str.replace(r'^([A-Z]{1,2}).+$', r'\\1')\n",
    "    return df"
   ]
  },
  {
   "cell_type": "code",
   "execution_count": null,
   "metadata": {},
   "outputs": [],
   "source": [
    "esif = pd.concat([\n",
    "    pd.read_pickle('../esif/output/esif_{}.pkl.gz'.format(dataset))\n",
    "    for dataset in ['ni_2014_2020']\n",
    "], sort=True)\n",
    "add_postcode_area(esif)\n",
    "esif.head()"
   ]
  },
  {
   "cell_type": "code",
   "execution_count": null,
   "metadata": {},
   "outputs": [],
   "source": [
    "def find_annual_sum(df, keys, column):\n",
    "    def reweight(row):\n",
    "        # create timeseries from start to end\n",
    "        days = pd.date_range(row.start_date, row.end_date, closed='left')\n",
    "        daily = pd.DataFrame({\n",
    "            'year_start': days,\n",
    "            column: row[column] / days.shape[0]\n",
    "        })\n",
    "        annual = daily.resample('AS', on='year_start').sum()\n",
    "        for key in keys:\n",
    "            annual[key] = row[key]\n",
    "        return annual\n",
    "    result = pd.concat(list(df.apply(reweight, axis=1)))\n",
    "    result.reset_index(inplace=True)\n",
    "    result['year'] = result.year_start.apply(lambda x: x.year)\n",
    "    result.drop('year_start', axis=1, inplace=True)\n",
    "    return result[['year'] + keys + [column]]"
   ]
  },
  {
   "cell_type": "code",
   "execution_count": null,
   "metadata": {},
   "outputs": [],
   "source": [
    "def find_fund_annual_totals(annual, column):\n",
    "    annual_total = annual.groupby(['funds', 'year'])[column].sum()\n",
    "    annual_total = annual_total.reset_index()\n",
    "    annual_total.rename(columns={column: 'total'}, inplace=True)\n",
    "    return annual_total"
   ]
  },
  {
   "cell_type": "code",
   "execution_count": null,
   "metadata": {},
   "outputs": [],
   "source": [
    "esif_annual = find_annual_sum(esif, ['funds', 'postcode_area', 'my_eu_id'], 'eu_investment')\n",
    "esif_annual_total = find_fund_annual_totals(esif_annual, 'eu_investment')\n",
    "esif_annual_total.head()"
   ]
  },
  {
   "cell_type": "code",
   "execution_count": null,
   "metadata": {},
   "outputs": [],
   "source": [
    "esif_annual_total[esif_annual['year'] == 2016]"
   ]
  },
  {
   "cell_type": "markdown",
   "metadata": {},
   "source": [
    "OK, so this is £21,215,000 - adding it to the £283,568,147 we already have, that's £304,783,147 - still not quite a net receiver"
   ]
  },
  {
   "cell_type": "markdown",
   "metadata": {},
   "source": [
    "#### Horizon 2020"
   ]
  },
  {
   "cell_type": "code",
   "execution_count": null,
   "metadata": {},
   "outputs": [],
   "source": [
    "h2020_organizations = pd.read_pickle('../cordis/output/h2020_organizations.pkl.gz')\n",
    "h2020_projects = pd.read_pickle('../cordis/output/h2020_projects.pkl.gz')\n",
    "h2020 = pd.merge(\n",
    "    h2020_projects, h2020_organizations,\n",
    "    left_on='rcn', right_on='project_rcn', validate='1:m'\n",
    ")\n",
    "add_postcode_area(h2020)\n",
    "h2020['my_eu_id'] = 'h2020_' + h2020.project_rcn.astype('str') + '_' + h2020.organization_id.astype('str')\n",
    "h2020['funds'] = 'H2020'\n",
    "h2020.head()"
   ]
  },
  {
   "cell_type": "code",
   "execution_count": null,
   "metadata": {},
   "outputs": [],
   "source": [
    "def estimate_missing_cordis_contributions():\n",
    "    c = h2020.contribution_eur.copy()\n",
    "    c[c.isna()] = h2020.max_contribution_eur[c.isna()] / h2020.num_organizations[c.isna()]\n",
    "    h2020['estimated_contribution_eur'] = c\n",
    "estimate_missing_cordis_contributions()\n",
    "h2020[h2020.contribution_eur.isna()].head()"
   ]
  },
  {
   "cell_type": "code",
   "execution_count": null,
   "metadata": {},
   "outputs": [],
   "source": [
    "h2020['contribution_gbp'] = h2020.contribution_eur * h2020.eur_gbp\n",
    "h2020['estimated_contribution_gbp'] = h2020.estimated_contribution_eur * h2020.eur_gbp"
   ]
  },
  {
   "cell_type": "code",
   "execution_count": null,
   "metadata": {},
   "outputs": [],
   "source": [
    "h2020_ni = h2020[h2020['postcode_area'] == 'BT'].copy()\n",
    "h2020_ni.head()"
   ]
  },
  {
   "cell_type": "code",
   "execution_count": null,
   "metadata": {},
   "outputs": [],
   "source": [
    "h2020_ni.columns"
   ]
  },
  {
   "cell_type": "code",
   "execution_count": null,
   "metadata": {},
   "outputs": [],
   "source": []
  },
  {
   "cell_type": "code",
   "execution_count": null,
   "metadata": {},
   "outputs": [],
   "source": [
    "h2020_ni_annual = find_annual_sum(h2020_ni, ['postcode_area', 'my_eu_id', 'funds'], 'estimated_contribution_gbp')\n"
   ]
  },
  {
   "cell_type": "code",
   "execution_count": null,
   "metadata": {},
   "outputs": [],
   "source": [
    " h2020_ni_annual.head()"
   ]
  },
  {
   "cell_type": "code",
   "execution_count": null,
   "metadata": {},
   "outputs": [],
   "source": [
    "def find_fund_annual_totals(annual, column):\n",
    "    annual_total = annual.groupby(['funds', 'year'])[column].sum()\n",
    "    annual_total = annual_total.reset_index()\n",
    "    annual_total.rename(columns={column: 'total'}, inplace=True)\n",
    "    return annual_total\n",
    "cordis_annual_total = find_fund_annual_totals(h2020_ni_annual, 'estimated_contribution_gbp')\n",
    "cordis_annual_total.head()"
   ]
  },
  {
   "cell_type": "markdown",
   "metadata": {},
   "source": [
    "That's £7,961,557, so now we're at £312,744,704 in total\n"
   ]
  },
  {
   "cell_type": "code",
   "execution_count": null,
   "metadata": {},
   "outputs": [],
   "source": []
  }
 ],
 "metadata": {
  "kernelspec": {
   "display_name": "Python 3",
   "language": "python",
   "name": "python3"
  },
  "language_info": {
   "codemirror_mode": {
    "name": "ipython",
    "version": 3
   },
   "file_extension": ".py",
   "mimetype": "text/x-python",
   "name": "python",
   "nbconvert_exporter": "python",
   "pygments_lexer": "ipython3",
   "version": "3.6.5"
  }
 },
 "nbformat": 4,
 "nbformat_minor": 2
}
