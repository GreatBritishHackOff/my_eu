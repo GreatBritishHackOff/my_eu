{
 "cells": [
  {
   "cell_type": "code",
   "execution_count": null,
   "metadata": {},
   "outputs": [],
   "source": [
    "import json\n",
    "import math\n",
    "import re\n",
    "\n",
    "import pandas as pd\n",
    "import numpy as np\n"
   ]
  },
  {
   "cell_type": "markdown",
   "metadata": {},
   "source": [
    "### Importing the data"
   ]
  },
  {
   "cell_type": "code",
   "execution_count": null,
   "metadata": {},
   "outputs": [],
   "source": [
    "creativeeurope = pd.read_excel('input/CreativeEurope_Projects_Overview_2018-08-01.xls')\n",
    "creativeeurope.head()"
   ]
  },
  {
   "cell_type": "code",
   "execution_count": null,
   "metadata": {},
   "outputs": [],
   "source": [
    "list(creativeeurope)"
   ]
  },
  {
   "cell_type": "code",
   "execution_count": null,
   "metadata": {},
   "outputs": [],
   "source": [
    "creativeeurope = creativeeurope.rename(columns={\n",
    "    'End date': 'end_date', \n",
    "    \"Coordinator's name\": 'beneficiary_1', \n",
    "    'Start date': 'start_date',\n",
    "    \"EU Grant award in euros (This amount represents the grant awarded after the selection stage and is indicative. Please note that any changes made during or after the project's lifetime will not be reflected here.)\": 'eu_investment',\n",
    "    \"Coordinator's country\": 'coord_country', \n",
    "    'Project Summary': 'summary', \n",
    "    'Sub-programme': 'category',\n",
    "    'Is Success Story': 'is_success', \n",
    "    'Results Platform Project Card': 'eu_url', \n",
    "    'Activity type': 'activity_type',\n",
    "    'Programme': 'funds', \n",
    "    \"Coordinator's address\": 'coord_address', \n",
    "    'Project Status': 'project_status',\n",
    "    'Project Website': 'project_url', \n",
    "    'Action': 'action', \n",
    "    'Call year': 'call_year', \n",
    "    'Project Title':'project',\n",
    "    \"Coordinator's website\": 'coord_website',\n",
    "    'Results Available': 'results_available', \n",
    "    \"Coordinator's region\": 'coord_region',\n",
    "    'Coordinator organisation type': 'coord_org_type'\n",
    "    }).copy()\n",
    "creativeeurope.head()"
   ]
  },
  {
   "cell_type": "markdown",
   "metadata": {},
   "source": [
    " ### Beneficiary"
   ]
  },
  {
   "cell_type": "code",
   "execution_count": null,
   "metadata": {},
   "outputs": [],
   "source": [
    "creativeeurope.beneficiary_1[creativeeurope.beneficiary_1.str.strip() != creativeeurope.beneficiary_1]# lots\n",
    "creativeeurope.beneficiary_1 = creativeeurope.beneficiary_1.str.strip()"
   ]
  },
  {
   "cell_type": "code",
   "execution_count": null,
   "metadata": {},
   "outputs": [],
   "source": []
  },
  {
   "cell_type": "markdown",
   "metadata": {},
   "source": [
    "### Summary"
   ]
  },
  {
   "cell_type": "code",
   "execution_count": null,
   "metadata": {},
   "outputs": [],
   "source": [
    "creativeeurope.summary.isna().sum()"
   ]
  },
  {
   "cell_type": "code",
   "execution_count": null,
   "metadata": {},
   "outputs": [],
   "source": [
    "creativeeurope.summary[creativeeurope.summary.str.strip() != creativeeurope.summary]# lots\n",
    "creativeeurope.summary = creativeeurope.summary.str.strip()"
   ]
  },
  {
   "cell_type": "markdown",
   "metadata": {},
   "source": [
    "### Funds"
   ]
  },
  {
   "cell_type": "code",
   "execution_count": null,
   "metadata": {},
   "outputs": [],
   "source": [
    "creativeeurope.funds.isna().sum()"
   ]
  },
  {
   "cell_type": "code",
   "execution_count": null,
   "metadata": {},
   "outputs": [],
   "source": [
    "creativeeurope.funds.unique()"
   ]
  },
  {
   "cell_type": "markdown",
   "metadata": {},
   "source": [
    "### EU Investment\n"
   ]
  },
  {
   "cell_type": "code",
   "execution_count": null,
   "metadata": {},
   "outputs": [],
   "source": [
    "creativeeurope.eu_investment.isna().sum()"
   ]
  },
  {
   "cell_type": "code",
   "execution_count": null,
   "metadata": {},
   "outputs": [],
   "source": [
    "creativeeurope.eu_investment  = creativeeurope.eu_investment.map(str).str.strip()\n",
    "eu_investment_bad = creativeeurope.eu_investment.str.match(re.compile(r'.*[^0-9.].*'))\n",
    "creativeeurope.eu_investment[eu_investment_bad]"
   ]
  },
  {
   "cell_type": "markdown",
   "metadata": {},
   "source": [
    "### Start and End Dates\n"
   ]
  },
  {
   "cell_type": "code",
   "execution_count": null,
   "metadata": {},
   "outputs": [],
   "source": [
    "[creativeeurope.start_date.isna().sum(), creativeeurope.start_date.dtype]"
   ]
  },
  {
   "cell_type": "code",
   "execution_count": null,
   "metadata": {},
   "outputs": [],
   "source": [
    "[creativeeurope.start_date.isna().sum(), creativeeurope.end_date.dtype]"
   ]
  },
  {
   "cell_type": "code",
   "execution_count": null,
   "metadata": {},
   "outputs": [],
   "source": [
    "creativeeurope[creativeeurope.start_date >= creativeeurope.end_date]"
   ]
  },
  {
   "cell_type": "code",
   "execution_count": null,
   "metadata": {},
   "outputs": [],
   "source": [
    "creativeeurope.start_date.describe()"
   ]
  },
  {
   "cell_type": "code",
   "execution_count": null,
   "metadata": {},
   "outputs": [],
   "source": [
    "creativeeurope.end_date.describe()"
   ]
  },
  {
   "cell_type": "markdown",
   "metadata": {},
   "source": [
    "### Category\n"
   ]
  },
  {
   "cell_type": "code",
   "execution_count": null,
   "metadata": {},
   "outputs": [],
   "source": [
    "creativeeurope.category.isna().sum()"
   ]
  },
  {
   "cell_type": "markdown",
   "metadata": {},
   "source": [
    "### Making each partner a different row"
   ]
  },
  {
   "cell_type": "code",
   "execution_count": null,
   "metadata": {},
   "outputs": [],
   "source": [
    "creativeeurope.columns = [\n",
    "    re.sub(r'^Partner (\\d+) (.+)$', r'Partner_\\2_\\1', column)\n",
    "    for column in creativeeurope.columns\n",
    "]\n",
    "creativeeurope.head()"
   ]
  },
  {
   "cell_type": "code",
   "execution_count": null,
   "metadata": {},
   "outputs": [],
   "source": [
    "[creativeeurope.shape, creativeeurope['Project Number'].nunique()]"
   ]
  },
  {
   "cell_type": "code",
   "execution_count": null,
   "metadata": {},
   "outputs": [],
   "source": [
    "creativeeurope_long = pd.wide_to_long(\n",
    "    creativeeurope,\n",
    "    ['Partner_name','Partner_organisation type', 'Partner_address', 'Partner_country', 'Partner_region', 'Partner_website'],\n",
    "    'Project Number', 'partner_number',\n",
    "    sep='_'\n",
    ")\n",
    "creativeeurope_long"
   ]
  },
  {
   "cell_type": "code",
   "execution_count": null,
   "metadata": {},
   "outputs": [],
   "source": [
    "creativeeurope_long.columns"
   ]
  },
  {
   "cell_type": "code",
   "execution_count": null,
   "metadata": {},
   "outputs": [],
   "source": [
    "creativeeurope_long = creativeeurope_long.rename(columns={\n",
    "    'Partner_name': 'partner_name',\n",
    "    'Partner_organisation type': 'partner_org_type', \n",
    "    'Partner_address': 'partner_address', \n",
    "    'Partner_country': 'partner_country',\n",
    "    'Partner_region': 'partner_region', \n",
    "    'Partner_website': 'partner_website'\n",
    "    }).copy()\n",
    "creativeeurope_long.head()"
   ]
  },
  {
   "cell_type": "markdown",
   "metadata": {},
   "source": [
    "### Separating out UK partners"
   ]
  },
  {
   "cell_type": "code",
   "execution_count": null,
   "metadata": {},
   "outputs": [],
   "source": [
    "\n",
    "creativeeurope_long_uk = creativeeurope_long[creativeeurope_long.partner_country == 'UK'].copy()\n",
    "creativeeurope_long_uk.shape"
   ]
  },
  {
   "cell_type": "code",
   "execution_count": null,
   "metadata": {},
   "outputs": [],
   "source": [
    "creativeeurope_long_uk.partner_name[creativeeurope_long_uk.partner_name.str.strip() != creativeeurope_long_uk.partner_name]# lots\n",
    "creativeeurope_long_uk.partner_name = creativeeurope_long_uk.partner_name.str.strip()"
   ]
  },
  {
   "cell_type": "code",
   "execution_count": null,
   "metadata": {},
   "outputs": [],
   "source": [
    "creativeeurope_long_uk['raw_postcode'] = creativeeurope_long_uk.partner_address.str.extract(r'.*\\b(\\w{1,4}\\s*\\d\\w\\w)\\b.*')[0].str.strip().str.replace(' ', '')\n",
    "\n",
    "creativeeurope_long_uk.head()"
   ]
  },
  {
   "cell_type": "code",
   "execution_count": null,
   "metadata": {},
   "outputs": [],
   "source": [
    "creativeeurope_long_uk.raw_postcode.isna().sum()"
   ]
  },
  {
   "cell_type": "code",
   "execution_count": null,
   "metadata": {},
   "outputs": [],
   "source": [
    "ukpostcodes = pd.read_csv('../postcodes/input/ukpostcodes.csv')\n",
    "ukpostcodes.shape"
   ]
  },
  {
   "cell_type": "code",
   "execution_count": null,
   "metadata": {},
   "outputs": [],
   "source": [
    "creativeeurope_long_uk.raw_postcode.isin(ukpostcodes.postcode).sum()"
   ]
  },
  {
   "cell_type": "code",
   "execution_count": null,
   "metadata": {},
   "outputs": [],
   "source": [
    "creativeeurope_long_uk['postcode'] = creativeeurope_long_uk.raw_postcode.\\\n",
    "    str.upper().\\\n",
    "    str.strip().\\\n",
    "    str.replace(r'[^A-Z0-9]', '').\\\n",
    "    str.replace(r'^(\\S+)([0-9][A-Z]{2})$', r'\\1 \\2')"
   ]
  },
  {
   "cell_type": "code",
   "execution_count": null,
   "metadata": {},
   "outputs": [],
   "source": [
    "creativeeurope_long_uk.postcode.isin(ukpostcodes.postcode).sum()"
   ]
  },
  {
   "cell_type": "code",
   "execution_count": null,
   "metadata": {},
   "outputs": [],
   "source": [
    "creativeeurope_long_uk.postcode[~creativeeurope_long_uk.postcode.isin(ukpostcodes.postcode)].unique()"
   ]
  },
  {
   "cell_type": "code",
   "execution_count": null,
   "metadata": {},
   "outputs": [],
   "source": [
    "creativeeurope_long_uk[~creativeeurope_long_uk.postcode.isin(ukpostcodes.postcode)]"
   ]
  },
  {
   "cell_type": "code",
   "execution_count": null,
   "metadata": {},
   "outputs": [],
   "source": [
    "creativeeurope_long_uk = creativeeurope_long_uk[creativeeurope_long_uk.postcode.isin(ukpostcodes.postcode)].copy()"
   ]
  },
  {
   "cell_type": "code",
   "execution_count": null,
   "metadata": {},
   "outputs": [],
   "source": [
    "list(creativeeurope_long_uk)"
   ]
  },
  {
   "cell_type": "markdown",
   "metadata": {},
   "source": [
    "### Coordinators"
   ]
  },
  {
   "cell_type": "code",
   "execution_count": null,
   "metadata": {},
   "outputs": [],
   "source": [
    "creativeeurope.shape"
   ]
  },
  {
   "cell_type": "code",
   "execution_count": null,
   "metadata": {},
   "outputs": [],
   "source": [
    "creativeeurope_ukcoords = creativeeurope[creativeeurope.coord_country == 'UK'].copy()\n",
    "\n",
    "\n",
    "creativeeurope_ukcoords.shape"
   ]
  },
  {
   "cell_type": "code",
   "execution_count": null,
   "metadata": {},
   "outputs": [],
   "source": [
    "creativeeurope_ukcoords['raw_postcode'] = creativeeurope_ukcoords.coord_address.str.extract(r'.*\\b(\\w{1,4}\\s*\\d\\w\\w)\\b.*')[0].str.strip().str.replace(' ', '')\n"
   ]
  },
  {
   "cell_type": "code",
   "execution_count": null,
   "metadata": {},
   "outputs": [],
   "source": [
    "creativeeurope_ukcoords.raw_postcode.isna().sum()"
   ]
  },
  {
   "cell_type": "code",
   "execution_count": null,
   "metadata": {},
   "outputs": [],
   "source": [
    "creativeeurope_ukcoords.raw_postcode.isin(ukpostcodes.postcode).sum()"
   ]
  },
  {
   "cell_type": "code",
   "execution_count": null,
   "metadata": {},
   "outputs": [],
   "source": [
    "creativeeurope_ukcoords['postcode'] = creativeeurope_ukcoords.raw_postcode.\\\n",
    "    str.upper().\\\n",
    "    str.strip().\\\n",
    "    str.replace(r'[^A-Z0-9]', '').\\\n",
    "    str.replace(r'^(\\S+)([0-9][A-Z]{2})$', r'\\1 \\2')"
   ]
  },
  {
   "cell_type": "code",
   "execution_count": null,
   "metadata": {},
   "outputs": [],
   "source": [
    "creativeeurope_ukcoords.postcode.isin(ukpostcodes.postcode).sum()"
   ]
  },
  {
   "cell_type": "code",
   "execution_count": null,
   "metadata": {},
   "outputs": [],
   "source": [
    "creativeeurope_ukcoords.postcode[~creativeeurope_ukcoords.postcode.isin(ukpostcodes.postcode)].unique()"
   ]
  },
  {
   "cell_type": "code",
   "execution_count": null,
   "metadata": {},
   "outputs": [],
   "source": [
    "creativeeurope_ukcoords[~creativeeurope_ukcoords.postcode.isin(ukpostcodes.postcode)]"
   ]
  },
  {
   "cell_type": "code",
   "execution_count": null,
   "metadata": {},
   "outputs": [],
   "source": [
    "creativeeurope_ukcoords.shape"
   ]
  },
  {
   "cell_type": "markdown",
   "metadata": {},
   "source": [
    "## Save Data"
   ]
  },
  {
   "cell_type": "markdown",
   "metadata": {},
   "source": [
    "### Coordinators"
   ]
  },
  {
   "cell_type": "code",
   "execution_count": null,
   "metadata": {},
   "outputs": [],
   "source": []
  },
  {
   "cell_type": "code",
   "execution_count": null,
   "metadata": {},
   "outputs": [],
   "source": [
    "coordinators = creativeeurope_ukcoords.drop([\n",
    "\n",
    "\n",
    "\n",
    " 'category',\n",
    " 'action',\n",
    " 'activity_type',\n",
    " 'call_year',\n",
    "\n",
    " 'Project Number',\n",
    "\n",
    " 'project_status',\n",
    "\n",
    " 'is_success',\n",
    "\n",
    " 'results_available',\n",
    "\n",
    " 'Participating countries',\n",
    "\n",
    " 'coord_org_type',\n",
    " 'coord_address',\n",
    " 'coord_region',\n",
    " 'coord_country',\n",
    " 'coord_website',\n",
    " 'Partner_name_1',\n",
    " 'Partner_organisation type_1',\n",
    " 'Partner_address_1',\n",
    " 'Partner_region_1',\n",
    " 'Partner_country_1',\n",
    " 'Partner_website_1',\n",
    " 'Partner_name_2',\n",
    " 'Partner_organisation type_2',\n",
    " 'Partner_address_2',\n",
    " 'Partner_region_2',\n",
    " 'Partner_country_2',\n",
    " 'Partner_website_2',\n",
    " 'Partner_name_3',\n",
    " 'Partner_organisation type_3',\n",
    " 'Partner_address_3',\n",
    " 'Partner_region_3',\n",
    " 'Partner_country_3',\n",
    " 'Partner_website_3',\n",
    " 'Partner_name_4',\n",
    " 'Partner_organisation type_4',\n",
    " 'Partner_address_4',\n",
    " 'Partner_region_4',\n",
    " 'Partner_country_4',\n",
    " 'Partner_website_4',\n",
    " 'Partner_name_5',\n",
    " 'Partner_organisation type_5',\n",
    " 'Partner_address_5',\n",
    " 'Partner_region_5',\n",
    " 'Partner_country_5',\n",
    " 'Partner_website_5',\n",
    " 'Partner_name_6',\n",
    " 'Partner_organisation type_6',\n",
    " 'Partner_address_6',\n",
    " 'Partner_region_6',\n",
    " 'Partner_country_6',\n",
    " 'Partner_website_6',\n",
    " 'Partner_name_7',\n",
    " 'Partner_organisation type_7',\n",
    " 'Partner_address_7',\n",
    " 'Partner_region_7',\n",
    " 'Partner_country_7',\n",
    " 'Partner_website_7',\n",
    " 'Partner_name_8',\n",
    " 'Partner_organisation type_8',\n",
    " 'Partner_address_8',\n",
    " 'Partner_region_8',\n",
    " 'Partner_country_8',\n",
    " 'Partner_website_8',\n",
    " 'Partner_name_9',\n",
    " 'Partner_organisation type_9',\n",
    " 'Partner_address_9',\n",
    " 'Partner_region_9',\n",
    " 'Partner_country_9',\n",
    " 'Partner_website_9',\n",
    " 'Partner_name_10',\n",
    " 'Partner_organisation type_10',\n",
    " 'Partner_address_10',\n",
    " 'Partner_region_10',\n",
    " 'Partner_country_10',\n",
    " 'Partner_website_10',\n",
    " 'Partner_name_11',\n",
    " 'Partner_organisation type_11',\n",
    " 'Partner_address_11',\n",
    " 'Partner_region_11',\n",
    " 'Partner_country_11',\n",
    " 'Partner_website_11',\n",
    " 'Partner_name_12',\n",
    " 'Partner_organisation type_12',\n",
    " 'Partner_address_12',\n",
    " 'Partner_region_12',\n",
    " 'Partner_country_12',\n",
    " 'Partner_website_12',\n",
    " 'Partner_name_13',\n",
    " 'Partner_organisation type_13',\n",
    " 'Partner_address_13',\n",
    " 'Partner_region_13',\n",
    " 'Partner_country_13',\n",
    " 'Partner_website_13',\n",
    " 'Partner_name_14',\n",
    " 'Partner_organisation type_14',\n",
    " 'Partner_address_14',\n",
    " 'Partner_region_14',\n",
    " 'Partner_country_14',\n",
    " 'Partner_website_14',\n",
    " 'Partner_name_15',\n",
    " 'Partner_organisation type_15',\n",
    " 'Partner_address_15',\n",
    " 'Partner_region_15',\n",
    " 'Partner_country_15',\n",
    " 'Partner_website_15',\n",
    " 'Partner_name_16',\n",
    " 'Partner_organisation type_16',\n",
    " 'Partner_address_16',\n",
    " 'Partner_region_16',\n",
    " 'Partner_country_16',\n",
    " 'Partner_website_16',\n",
    " 'Partner_name_17',\n",
    " 'Partner_organisation type_17',\n",
    " 'Partner_address_17',\n",
    " 'Partner_region_17',\n",
    " 'Partner_country_17',\n",
    " 'Partner_website_17',\n",
    " 'Partner_name_18',\n",
    " 'Partner_organisation type_18',\n",
    " 'Partner_address_18',\n",
    " 'Partner_region_18',\n",
    " 'Partner_country_18',\n",
    " 'Partner_website_18',\n",
    " 'Partner_name_19',\n",
    " 'Partner_organisation type_19',\n",
    " 'Partner_address_19',\n",
    " 'Partner_region_19',\n",
    " 'Partner_country_19',\n",
    " 'Partner_website_19',\n",
    " 'Partner_name_20',\n",
    " 'Partner_organisation type_20',\n",
    " 'Partner_address_20',\n",
    " 'Partner_region_20',\n",
    " 'Partner_country_20',\n",
    " 'Partner_website_20',\n",
    " 'Partner_name_21',\n",
    " 'Partner_organisation type_21',\n",
    " 'Partner_address_21',\n",
    " 'Partner_region_21',\n",
    " 'Partner_country_21',\n",
    " 'Partner_website_21',\n",
    " 'Partner_name_22',\n",
    " 'Partner_organisation type_22',\n",
    " 'Partner_address_22',\n",
    " 'Partner_region_22',\n",
    " 'Partner_country_22',\n",
    " 'Partner_website_22',\n",
    " 'Partner_name_23',\n",
    " 'Partner_organisation type_23',\n",
    " 'Partner_address_23',\n",
    " 'Partner_region_23',\n",
    " 'Partner_country_23',\n",
    " 'Partner_website_23',\n",
    " 'Partner_name_24',\n",
    " 'Partner_organisation type_24',\n",
    " 'Partner_address_24',\n",
    " 'Partner_region_24',\n",
    " 'Partner_country_24',\n",
    " 'Partner_website_24',\n",
    " 'Partner_name_25',\n",
    " 'Partner_organisation type_25',\n",
    " 'Partner_address_25',\n",
    " 'Partner_region_25',\n",
    " 'Partner_country_25',\n",
    " 'Partner_website_25',\n",
    " 'Partner_name_26',\n",
    " 'Partner_organisation type_26',\n",
    " 'Partner_address_26',\n",
    " 'Partner_region_26',\n",
    " 'Partner_country_26',\n",
    " 'Partner_website_26',\n",
    " 'Partner_name_27',\n",
    " 'Partner_organisation type_27',\n",
    " 'Partner_address_27',\n",
    " 'Partner_region_27',\n",
    " 'Partner_country_27',\n",
    " 'Partner_website_27',\n",
    " 'Partner_name_28',\n",
    " 'Partner_organisation type_28',\n",
    " 'Partner_address_28',\n",
    " 'Partner_region_28',\n",
    " 'Partner_country_28',\n",
    " 'Partner_website_28',\n",
    " 'Partner_name_29',\n",
    " 'Partner_organisation type_29',\n",
    " 'Partner_address_29',\n",
    " 'Partner_region_29',\n",
    " 'Partner_country_29',\n",
    " 'Partner_website_29',\n",
    " 'Partner_name_30',\n",
    " 'Partner_organisation type_30',\n",
    " 'Partner_address_30',\n",
    " 'Partner_region_30',\n",
    " 'Partner_country_30',\n",
    " 'Partner_website_30',\n",
    " 'Partner_name_31',\n",
    " 'Partner_organisation type_31',\n",
    " 'Partner_address_31',\n",
    " 'Partner_region_31',\n",
    " 'Partner_country_31',\n",
    " 'Partner_website_31',\n",
    " 'Partner_name_32',\n",
    " 'Partner_organisation type_32',\n",
    " 'Partner_address_32',\n",
    " 'Partner_region_32',\n",
    " 'Partner_country_32',\n",
    " 'Partner_website_32',\n",
    " 'Partner_name_33',\n",
    " 'Partner_organisation type_33',\n",
    " 'Partner_address_33',\n",
    " 'Partner_region_33',\n",
    " 'Partner_country_33',\n",
    " 'Partner_website_33',\n",
    " 'Partner_name_34',\n",
    " 'Partner_organisation type_34',\n",
    " 'Partner_address_34',\n",
    " 'Partner_region_34',\n",
    " 'Partner_country_34',\n",
    " 'Partner_website_34',\n",
    " 'Partner_name_35',\n",
    " 'Partner_organisation type_35',\n",
    " 'Partner_address_35',\n",
    " 'Partner_region_35',\n",
    " 'Partner_country_35',\n",
    " 'Partner_website_35',\n",
    " 'Partner_name_36',\n",
    " 'Partner_organisation type_36',\n",
    " 'Partner_address_36',\n",
    " 'Partner_region_36',\n",
    " 'Partner_country_36',\n",
    " 'Partner_website_36',\n",
    " 'Partner_name_37',\n",
    " 'Partner_organisation type_37',\n",
    " 'Partner_address_37',\n",
    " 'Partner_region_37',\n",
    " 'Partner_country_37',\n",
    " 'Partner_website_37',\n",
    " 'Partner_name_38',\n",
    " 'Partner_organisation type_38',\n",
    " 'Partner_address_38',\n",
    " 'Partner_region_38',\n",
    " 'Partner_country_38',\n",
    " 'Partner_website_38',\n",
    " 'Unnamed: 251',\n",
    " 'raw_postcode'\n",
    "], axis=1)\n",
    "coordinators.head()"
   ]
  },
  {
   "cell_type": "code",
   "execution_count": null,
   "metadata": {},
   "outputs": [],
   "source": [
    "coordinators = coordinators.rename(columns={'benificiary_1': 'benificiary'}).copy()"
   ]
  },
  {
   "cell_type": "code",
   "execution_count": null,
   "metadata": {},
   "outputs": [],
   "source": [
    " coordinators['my_eu_id'] = coordinators.funds.str.lower() + '_creative_coordinator_' + coordinators.index.map(str)\n",
    " coordinators.my_eu_id.head()"
   ]
  },
  {
   "cell_type": "code",
   "execution_count": null,
   "metadata": {},
   "outputs": [],
   "source": [
    " coordinators.to_pickle('output/creative_europe_coordinators.pkl.gz')"
   ]
  },
  {
   "cell_type": "markdown",
   "metadata": {},
   "source": [
    "### Projects"
   ]
  },
  {
   "cell_type": "code",
   "execution_count": null,
   "metadata": {},
   "outputs": [],
   "source": [
    "list(creativeeurope_long_uk)"
   ]
  },
  {
   "cell_type": "code",
   "execution_count": null,
   "metadata": {},
   "outputs": [],
   "source": [
    "partners = creativeeurope_long_uk.drop([\n",
    "'coord_address',\n",
    " 'category',\n",
    " 'coord_org_type',\n",
    " 'coord_region',\n",
    " 'results_available',\n",
    " 'activity_type',\n",
    " 'Participating countries',\n",
    " 'is_success',\n",
    " 'call_year',\n",
    " 'project_status',\n",
    " 'Unnamed: 251',\n",
    " 'project_url',\n",
    " 'coord_country',\n",
    " 'action',\n",
    " 'partner_org_type',\n",
    " 'partner_address',\n",
    " 'partner_country',\n",
    " 'partner_region',\n",
    " 'partner_website',\n",
    " 'raw_postcode'\n",
    "    ], axis=1).copy()"
   ]
  },
  {
   "cell_type": "code",
   "execution_count": null,
   "metadata": {},
   "outputs": [],
   "source": [
    "partners = partners.rename(columns={'benificiary_1': 'benificiary'}).copy()"
   ]
  },
  {
   "cell_type": "code",
   "execution_count": null,
   "metadata": {},
   "outputs": [],
   "source": [
    " partners['my_eu_id'] = partners.funds.str.lower() + '_creative_partner_'+ partners.partner_name.str.lower() + partners.index.map(str) \n",
    "    \n",
    " partners.my_eu_id.head()"
   ]
  },
  {
   "cell_type": "code",
   "execution_count": null,
   "metadata": {},
   "outputs": [],
   "source": [
    " partners.to_pickle('output/creative_europe_partners.pkl.gz')"
   ]
  },
  {
   "cell_type": "code",
   "execution_count": null,
   "metadata": {},
   "outputs": [],
   "source": []
  },
  {
   "cell_type": "code",
   "execution_count": null,
   "metadata": {},
   "outputs": [],
   "source": []
  }
 ],
 "metadata": {
  "kernelspec": {
   "display_name": "Python 3",
   "language": "python",
   "name": "python3"
  },
  "language_info": {
   "codemirror_mode": {
    "name": "ipython",
    "version": 3
   },
   "file_extension": ".py",
   "mimetype": "text/x-python",
   "name": "python",
   "nbconvert_exporter": "python",
   "pygments_lexer": "ipython3",
   "version": "3.6.5"
  }
 },
 "nbformat": 4,
 "nbformat_minor": 2
}
