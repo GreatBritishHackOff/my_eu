{
 "cells": [
  {
   "cell_type": "markdown",
   "metadata": {},
   "source": [
    "# NHS Staffing Data"
   ]
  },
  {
   "cell_type": "code",
   "execution_count": null,
   "metadata": {},
   "outputs": [],
   "source": [
    "import numpy as np\n",
    "import pandas as pd"
   ]
  },
  {
   "cell_type": "markdown",
   "metadata": {},
   "source": [
    "## Staffing Data\n",
    "### Load Spreadsheet"
   ]
  },
  {
   "cell_type": "code",
   "execution_count": null,
   "metadata": {},
   "outputs": [],
   "source": [
    "raw_staff = pd.read_excel(\n",
    "    'input/HCHS_staff_with_an_EU_or_UK_nationality__by_staff_group_and_organisation.xls',\n",
    "    skiprows=4, skipfooter=23)\n",
    "raw_staff.head()"
   ]
  },
  {
   "cell_type": "code",
   "execution_count": null,
   "metadata": {},
   "outputs": [],
   "source": [
    "raw_staff.tail()"
   ]
  },
  {
   "cell_type": "code",
   "execution_count": null,
   "metadata": {},
   "outputs": [],
   "source": [
    "raw_staff.columns = [\n",
    "    'region',\n",
    "    'region_name',\n",
    "    'organisation_name',\n",
    "    'organisation',\n",
    "    'all_staff_eu',\n",
    "    'hchs_doctors_eu',\n",
    "    'nurses_visitors_eu',\n",
    "    'other_eu',\n",
    "    'all_staff_uk',\n",
    "    'hchs_doctors_uk',\n",
    "    'nurses_visitors_uk',\n",
    "    'other_uk'\n",
    "]"
   ]
  },
  {
   "cell_type": "code",
   "execution_count": null,
   "metadata": {},
   "outputs": [],
   "source": [
    "raw_staff.head()"
   ]
  },
  {
   "cell_type": "code",
   "execution_count": null,
   "metadata": {},
   "outputs": [],
   "source": [
    "assert raw_staff.organisation_name[raw_staff.shape[0] - 1] == 'Yeovil District Hospital NHS Foundation Trust'"
   ]
  },
  {
   "cell_type": "code",
   "execution_count": null,
   "metadata": {},
   "outputs": [],
   "source": [
    "total_staff = raw_staff[raw_staff.region == 'England']\n",
    "raw_staff = raw_staff[3:]\n",
    "raw_staff.head()"
   ]
  },
  {
   "cell_type": "code",
   "execution_count": null,
   "metadata": {},
   "outputs": [],
   "source": [
    "row_is_region = ~raw_staff.region.isna()\n",
    "raw_staff.region[row_is_region]"
   ]
  },
  {
   "cell_type": "code",
   "execution_count": null,
   "metadata": {},
   "outputs": [],
   "source": [
    "(raw_staff.region[row_is_region].str.strip() != raw_staff.region[row_is_region]).sum()"
   ]
  },
  {
   "cell_type": "code",
   "execution_count": null,
   "metadata": {},
   "outputs": [],
   "source": [
    "(raw_staff.region_name[row_is_region].str.strip() != raw_staff.region_name[row_is_region]).sum()"
   ]
  },
  {
   "cell_type": "code",
   "execution_count": null,
   "metadata": {},
   "outputs": [],
   "source": [
    "row_is_region.sum()"
   ]
  },
  {
   "cell_type": "code",
   "execution_count": null,
   "metadata": {},
   "outputs": [],
   "source": [
    "region_staff = raw_staff[row_is_region].drop(columns=['organisation_name', 'organisation'])\n",
    "region_staff.head()"
   ]
  },
  {
   "cell_type": "code",
   "execution_count": null,
   "metadata": {},
   "outputs": [],
   "source": [
    "raw_staff.region = raw_staff.region.fillna(method='ffill')\n",
    "raw_staff.region_name = raw_staff.region_name.fillna(method='ffill')\n",
    "staff = raw_staff[~row_is_region]\n",
    "staff.head()"
   ]
  },
  {
   "cell_type": "code",
   "execution_count": null,
   "metadata": {},
   "outputs": [],
   "source": [
    "assert row_is_region.sum() == staff.organisation.isna().sum() + 1"
   ]
  },
  {
   "cell_type": "code",
   "execution_count": null,
   "metadata": {},
   "outputs": [],
   "source": [
    "staff = staff[~staff.organisation.isna()]"
   ]
  },
  {
   "cell_type": "markdown",
   "metadata": {},
   "source": [
    "### Check Staff Data  \n",
    "\n",
    "#### Organisation Code and Name"
   ]
  },
  {
   "cell_type": "code",
   "execution_count": null,
   "metadata": {},
   "outputs": [],
   "source": [
    "[\n",
    "    staff.shape[0],\n",
    "    staff.organisation.nunique(),\n",
    "    staff.organisation_name.nunique(),\n",
    "    staff.organisation.isna().sum(),\n",
    "    staff.organisation_name.isna().sum()\n",
    "]"
   ]
  },
  {
   "cell_type": "code",
   "execution_count": null,
   "metadata": {},
   "outputs": [],
   "source": [
    "[\n",
    "    (staff.organisation.str.strip() != staff.organisation).any(),\n",
    "    (staff.organisation_name.str.strip() != staff.organisation_name).any()\n",
    "]"
   ]
  },
  {
   "cell_type": "markdown",
   "metadata": {},
   "source": [
    "#### Totals\n",
    "\n",
    "The totals in the spreadsheet don't quite match the totals, even at region level, but they are pretty close. Maybe some rounding going on somehow? "
   ]
  },
  {
   "cell_type": "code",
   "execution_count": null,
   "metadata": {},
   "outputs": [],
   "source": [
    "staff.describe()"
   ]
  },
  {
   "cell_type": "code",
   "execution_count": null,
   "metadata": {},
   "outputs": [],
   "source": [
    "staff.sum()"
   ]
  },
  {
   "cell_type": "code",
   "execution_count": null,
   "metadata": {},
   "outputs": [],
   "source": [
    "total_staff"
   ]
  },
  {
   "cell_type": "code",
   "execution_count": null,
   "metadata": {},
   "outputs": [],
   "source": [
    "staff.groupby(['region', 'region_name']).sum()"
   ]
  },
  {
   "cell_type": "code",
   "execution_count": null,
   "metadata": {},
   "outputs": [],
   "source": [
    "region_staff"
   ]
  },
  {
   "cell_type": "markdown",
   "metadata": {},
   "source": [
    "### Trusts and CCGs\n",
    "\n",
    "Trusts have IDs that seem to start with R or T."
   ]
  },
  {
   "cell_type": "code",
   "execution_count": null,
   "metadata": {},
   "outputs": [],
   "source": [
    "[\n",
    "    staff.organisation.str.startswith('R').sum(),\n",
    "    staff.organisation.str.startswith('T').sum(),\n",
    "    staff.organisation_name.str.contains('Trust').sum()\n",
    "]"
   ]
  },
  {
   "cell_type": "code",
   "execution_count": null,
   "metadata": {},
   "outputs": [],
   "source": [
    "staff[staff.organisation_name.str.contains('Trust') & ~staff.organisation.str.startswith('R')]"
   ]
  },
  {
   "cell_type": "code",
   "execution_count": null,
   "metadata": {},
   "outputs": [],
   "source": [
    "[\n",
    "    staff.organisation.str.match(r'^[RT]').sum(),\n",
    "    (~staff.organisation.str.match(r'^[RT]')).sum(),\n",
    "    staff.organisation_name.str.contains('CCG').sum()\n",
    "]"
   ]
  },
  {
   "cell_type": "code",
   "execution_count": null,
   "metadata": {},
   "outputs": [],
   "source": [
    "staff[~staff.organisation.str.match('^[RT]')].head()"
   ]
  },
  {
   "cell_type": "markdown",
   "metadata": {},
   "source": [
    "## Postcodes"
   ]
  },
  {
   "cell_type": "code",
   "execution_count": null,
   "metadata": {},
   "outputs": [],
   "source": [
    "etrust_column_names = [\n",
    "    'organisation_code', 'name', 'national_grouping', 'high_level_health_geography',\n",
    "    'address_1', 'address_2', 'address_3', 'address_4', 'address_5', 'raw_postcode',\n",
    "    'open_date', 'close_date', 'null_13', 'null_14', 'null_15', 'null_16', 'null_17',\n",
    "    'contact_telephone_number', 'null_19', 'null_20', 'null_21',\n",
    "    'amended_record_indicator', 'null_23', 'gor_code', 'null_25', 'null_26', 'null_27'\n",
    "]\n",
    "etrust = pd.read_csv(\n",
    "    'input/etrust.csv.gz', names=etrust_column_names, low_memory=False,\n",
    "    dtype={'open_date': object, 'close_date': object})\n",
    "etrust.head()"
   ]
  },
  {
   "cell_type": "code",
   "execution_count": null,
   "metadata": {},
   "outputs": [],
   "source": [
    "etrust.shape"
   ]
  },
  {
   "cell_type": "code",
   "execution_count": null,
   "metadata": {},
   "outputs": [],
   "source": [
    "etrust_null_columns = [name for name in etrust_column_names if name.startswith('null_')]\n",
    "etrust_null_counts = [\n",
    "    etrust[column].isna().sum()\n",
    "    for column in etrust_null_columns\n",
    "]\n",
    "assert len(set(etrust_null_counts)) == 1\n",
    "assert etrust.shape[0] == etrust_null_counts[0]"
   ]
  },
  {
   "cell_type": "code",
   "execution_count": null,
   "metadata": {},
   "outputs": [],
   "source": [
    "etrust.drop(columns=etrust_null_columns, inplace=True)\n",
    "etrust.head()"
   ]
  },
  {
   "cell_type": "markdown",
   "metadata": {},
   "source": [
    "### Check Organisation Codes"
   ]
  },
  {
   "cell_type": "code",
   "execution_count": null,
   "metadata": {},
   "outputs": [],
   "source": [
    "[\n",
    "    etrust.organisation_code.isna().sum(),\n",
    "    (etrust.organisation_code.str.strip() != etrust.organisation_code).sum(),\n",
    "    (etrust.organisation_code.str.upper() != etrust.organisation_code).sum()\n",
    "]"
   ]
  },
  {
   "cell_type": "code",
   "execution_count": null,
   "metadata": {},
   "outputs": [],
   "source": [
    "etrust_organisation_codes = set(etrust.organisation_code)\n",
    "[\n",
    "    etrust.shape,\n",
    "    len(etrust_organisation_codes),\n",
    "    set([len(code) for code in etrust_organisation_codes]),\n",
    "    len([code for code in etrust_organisation_codes if code.startswith('R')])\n",
    "]"
   ]
  },
  {
   "cell_type": "code",
   "execution_count": null,
   "metadata": {},
   "outputs": [],
   "source": [
    "etrust_organisation_codes_3 = set([\n",
    "    code\n",
    "    for code in etrust_organisation_codes\n",
    "    if len(code) == 3\n",
    "])\n",
    "[len(etrust_organisation_codes_3), list(etrust_organisation_codes_3)[0:10]]"
   ]
  },
  {
   "cell_type": "code",
   "execution_count": null,
   "metadata": {},
   "outputs": [],
   "source": [
    "[\n",
    "    staff.organisation.isin(etrust_organisation_codes).sum(),\n",
    "    (staff.organisation.str.startswith('R') & ~staff.organisation.isin(etrust_organisation_codes)).sum()\n",
    "]"
   ]
  },
  {
   "cell_type": "markdown",
   "metadata": {},
   "source": [
    "The code prefixes should also match up. "
   ]
  },
  {
   "cell_type": "code",
   "execution_count": null,
   "metadata": {},
   "outputs": [],
   "source": [
    "etrust['organisation'] = etrust.organisation_code.str[0:3]\n",
    "etrust.organisation.head()"
   ]
  },
  {
   "cell_type": "code",
   "execution_count": null,
   "metadata": {},
   "outputs": [],
   "source": [
    "etrust_organisations = set(etrust.organisation)\n",
    "[len(etrust_organisation_codes_3), list(etrust_organisations)[0:10]]"
   ]
  },
  {
   "cell_type": "code",
   "execution_count": null,
   "metadata": {},
   "outputs": [],
   "source": [
    "[\n",
    "    etrust_organisations - etrust_organisation_codes_3,\n",
    "    etrust_organisation_codes_3 - etrust_organisations\n",
    "] "
   ]
  },
  {
   "cell_type": "code",
   "execution_count": null,
   "metadata": {},
   "outputs": [],
   "source": [
    "etrust[etrust.organisation == 'RER']"
   ]
  },
  {
   "cell_type": "markdown",
   "metadata": {},
   "source": [
    "### Check Postcodes"
   ]
  },
  {
   "cell_type": "code",
   "execution_count": null,
   "metadata": {},
   "outputs": [],
   "source": [
    "ukpostcodes = pd.read_csv('../postcodes/input/ukpostcodes.csv.gz')\n",
    "ukpostcodes.shape"
   ]
  },
  {
   "cell_type": "code",
   "execution_count": null,
   "metadata": {},
   "outputs": [],
   "source": [
    "etrust.raw_postcode.isin(ukpostcodes.postcode).sum()"
   ]
  },
  {
   "cell_type": "code",
   "execution_count": null,
   "metadata": {},
   "outputs": [],
   "source": [
    "etrust['postcode'] = etrust.raw_postcode.\\\n",
    "    str.upper().\\\n",
    "    str.strip().\\\n",
    "    str.replace(r'[^A-Z0-9]', '').\\\n",
    "    str.replace(r'^(\\S+)([0-9][A-Z]{2})$', r'\\1 \\2')"
   ]
  },
  {
   "cell_type": "code",
   "execution_count": null,
   "metadata": {},
   "outputs": [],
   "source": [
    "etrust.postcode.isin(ukpostcodes.postcode).sum()"
   ]
  },
  {
   "cell_type": "code",
   "execution_count": null,
   "metadata": {},
   "outputs": [],
   "source": [
    "etrust.raw_postcode[~etrust.postcode.isin(ukpostcodes.postcode)].unique()"
   ]
  },
  {
   "cell_type": "markdown",
   "metadata": {},
   "source": [
    "Spot checks: all the ones I checked were discontinued postcodes."
   ]
  },
  {
   "cell_type": "markdown",
   "metadata": {},
   "source": [
    "### Closed Facilities"
   ]
  },
  {
   "cell_type": "code",
   "execution_count": null,
   "metadata": {},
   "outputs": [],
   "source": [
    "[\n",
    "    etrust.shape,\n",
    "    etrust.close_date.isna().sum()\n",
    "]"
   ]
  },
  {
   "cell_type": "code",
   "execution_count": null,
   "metadata": {},
   "outputs": [],
   "source": [
    "clean_etrust = etrust[\n",
    "    etrust.close_date.isna() & ~etrust.postcode.isna() &\n",
    "    etrust.name.str.contains('HOSPITAL') &\n",
    "    (etrust.organisation_code != etrust.organisation)\n",
    "].drop(columns='raw_postcode')\n",
    "clean_etrust.shape"
   ]
  },
  {
   "cell_type": "markdown",
   "metadata": {},
   "source": [
    "## Merge Postcodes\n",
    "\n",
    "Take non-closed facilities with valid postcodes."
   ]
  },
  {
   "cell_type": "code",
   "execution_count": null,
   "metadata": {},
   "outputs": [],
   "source": [
    "hospital_postcodes = pd.merge(\n",
    "    staff[['organisation']],\n",
    "    clean_etrust[['organisation', 'postcode']],\n",
    "    validate='1:m'\n",
    ")\n",
    "hospital_postcodes.shape"
   ]
  },
  {
   "cell_type": "code",
   "execution_count": null,
   "metadata": {},
   "outputs": [],
   "source": [
    "hospital_postcodes.head()"
   ]
  },
  {
   "cell_type": "markdown",
   "metadata": {},
   "source": [
    "## Save Data"
   ]
  },
  {
   "cell_type": "code",
   "execution_count": null,
   "metadata": {},
   "outputs": [],
   "source": [
    "staff.to_pickle('output/staff.pkl.gz')"
   ]
  },
  {
   "cell_type": "code",
   "execution_count": null,
   "metadata": {},
   "outputs": [],
   "source": [
    "hospital_postcodes.to_pickle('output/hospital_postcodes.pkl.gz')"
   ]
  }
 ],
 "metadata": {
  "kernelspec": {
   "display_name": "Python 3",
   "language": "python",
   "name": "python3"
  },
  "language_info": {
   "codemirror_mode": {
    "name": "ipython",
    "version": 3
   },
   "file_extension": ".py",
   "mimetype": "text/x-python",
   "name": "python",
   "nbconvert_exporter": "python",
   "pygments_lexer": "ipython3",
   "version": "3.6.5"
  }
 },
 "nbformat": 4,
 "nbformat_minor": 2
}
