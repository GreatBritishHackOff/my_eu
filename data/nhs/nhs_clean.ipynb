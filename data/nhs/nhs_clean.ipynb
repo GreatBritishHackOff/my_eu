{
 "cells": [
  {
   "cell_type": "markdown",
   "metadata": {},
   "source": [
    "# NHS Staffing Data"
   ]
  },
  {
   "cell_type": "code",
   "execution_count": null,
   "metadata": {},
   "outputs": [],
   "source": [
    "import numpy as np\n",
    "import pandas as pd\n",
    "import matplotlib.pyplot as plt\n",
    "\n",
    "pd.set_option('display.max_columns', 50)"
   ]
  },
  {
   "cell_type": "markdown",
   "metadata": {},
   "source": [
    "## Staffing Data (April 2017)\n",
    "\n",
    "This gives us a breakdown between EU and UK; we would rather have EU and non-EU (including UK), but it's a good starting point.\n",
    "\n",
    "### Load Spreadsheet"
   ]
  },
  {
   "cell_type": "code",
   "execution_count": null,
   "metadata": {},
   "outputs": [],
   "source": [
    "raw_staff = pd.read_excel(\n",
    "    'input/HCHS_staff_with_an_EU_or_UK_nationality__by_staff_group_and_organisation.xls',\n",
    "    skiprows=4, skipfooter=23)\n",
    "raw_staff.head()"
   ]
  },
  {
   "cell_type": "code",
   "execution_count": null,
   "metadata": {},
   "outputs": [],
   "source": [
    "raw_staff.tail()"
   ]
  },
  {
   "cell_type": "code",
   "execution_count": null,
   "metadata": {},
   "outputs": [],
   "source": [
    "raw_staff.columns = [\n",
    "    'region',\n",
    "    'region_name',\n",
    "    'organisation_name',\n",
    "    'organisation',\n",
    "    'all_staff_eu',\n",
    "    'hchs_doctors_eu',\n",
    "    'nurses_visitors_eu',\n",
    "    'other_eu',\n",
    "    'all_staff_uk',\n",
    "    'hchs_doctors_uk',\n",
    "    'nurses_visitors_uk',\n",
    "    'other_uk'\n",
    "]"
   ]
  },
  {
   "cell_type": "code",
   "execution_count": null,
   "metadata": {},
   "outputs": [],
   "source": [
    "raw_staff.head()"
   ]
  },
  {
   "cell_type": "code",
   "execution_count": null,
   "metadata": {},
   "outputs": [],
   "source": [
    "assert raw_staff.organisation_name[raw_staff.shape[0] - 1] == 'Yeovil District Hospital NHS Foundation Trust'"
   ]
  },
  {
   "cell_type": "code",
   "execution_count": null,
   "metadata": {},
   "outputs": [],
   "source": [
    "total_staff = raw_staff[raw_staff.region == 'England']\n",
    "raw_staff = raw_staff[3:]\n",
    "raw_staff.head()"
   ]
  },
  {
   "cell_type": "code",
   "execution_count": null,
   "metadata": {},
   "outputs": [],
   "source": [
    "row_is_region = ~raw_staff.region.isna()\n",
    "raw_staff.region[row_is_region]"
   ]
  },
  {
   "cell_type": "code",
   "execution_count": null,
   "metadata": {},
   "outputs": [],
   "source": [
    "(raw_staff.region[row_is_region].str.strip() != raw_staff.region[row_is_region]).sum()"
   ]
  },
  {
   "cell_type": "code",
   "execution_count": null,
   "metadata": {},
   "outputs": [],
   "source": [
    "(raw_staff.region_name[row_is_region].str.strip() != raw_staff.region_name[row_is_region]).sum()"
   ]
  },
  {
   "cell_type": "code",
   "execution_count": null,
   "metadata": {},
   "outputs": [],
   "source": [
    "row_is_region.sum()"
   ]
  },
  {
   "cell_type": "code",
   "execution_count": null,
   "metadata": {},
   "outputs": [],
   "source": [
    "region_staff = raw_staff[row_is_region].drop(columns=['organisation_name', 'organisation'])\n",
    "region_staff.head()"
   ]
  },
  {
   "cell_type": "code",
   "execution_count": null,
   "metadata": {},
   "outputs": [],
   "source": [
    "raw_staff.region = raw_staff.region.fillna(method='ffill')\n",
    "raw_staff.region_name = raw_staff.region_name.fillna(method='ffill')\n",
    "staff = raw_staff[~row_is_region]\n",
    "staff.head()"
   ]
  },
  {
   "cell_type": "code",
   "execution_count": null,
   "metadata": {},
   "outputs": [],
   "source": [
    "assert row_is_region.sum() == staff.organisation.isna().sum() + 1"
   ]
  },
  {
   "cell_type": "code",
   "execution_count": null,
   "metadata": {},
   "outputs": [],
   "source": [
    "staff = staff[~staff.organisation.isna()]"
   ]
  },
  {
   "cell_type": "markdown",
   "metadata": {},
   "source": [
    "### Check Staff Data  \n",
    "\n",
    "#### Organisation Code and Name"
   ]
  },
  {
   "cell_type": "code",
   "execution_count": null,
   "metadata": {},
   "outputs": [],
   "source": [
    "[\n",
    "    staff.shape[0],\n",
    "    staff.organisation.nunique(),\n",
    "    staff.organisation_name.nunique(),\n",
    "    staff.organisation.isna().sum(),\n",
    "    staff.organisation_name.isna().sum()\n",
    "]"
   ]
  },
  {
   "cell_type": "code",
   "execution_count": null,
   "metadata": {},
   "outputs": [],
   "source": [
    "[\n",
    "    (staff.organisation.str.strip() != staff.organisation).any(),\n",
    "    (staff.organisation_name.str.strip() != staff.organisation_name).any()\n",
    "]"
   ]
  },
  {
   "cell_type": "markdown",
   "metadata": {},
   "source": [
    "#### Totals\n",
    "\n",
    "The totals in the spreadsheet don't quite match the totals, even at region level. The notes say \"Headcount totals are unlikely to equal the sum of components due to some staff working in more than one role.\""
   ]
  },
  {
   "cell_type": "code",
   "execution_count": null,
   "metadata": {},
   "outputs": [],
   "source": [
    "staff.describe()"
   ]
  },
  {
   "cell_type": "code",
   "execution_count": null,
   "metadata": {},
   "outputs": [],
   "source": [
    "staff.sum()"
   ]
  },
  {
   "cell_type": "code",
   "execution_count": null,
   "metadata": {},
   "outputs": [],
   "source": [
    "total_staff"
   ]
  },
  {
   "cell_type": "code",
   "execution_count": null,
   "metadata": {},
   "outputs": [],
   "source": [
    "staff.groupby(['region', 'region_name']).sum()"
   ]
  },
  {
   "cell_type": "code",
   "execution_count": null,
   "metadata": {},
   "outputs": [],
   "source": [
    "region_staff"
   ]
  },
  {
   "cell_type": "markdown",
   "metadata": {},
   "source": [
    "### Trusts and CCGs\n",
    "\n",
    "Trusts have IDs that seem to start with R or T."
   ]
  },
  {
   "cell_type": "code",
   "execution_count": null,
   "metadata": {},
   "outputs": [],
   "source": [
    "[\n",
    "    staff.organisation.str.startswith('R').sum(),\n",
    "    staff.organisation.str.startswith('T').sum(),\n",
    "    staff.organisation_name.str.contains('Trust').sum()\n",
    "]"
   ]
  },
  {
   "cell_type": "code",
   "execution_count": null,
   "metadata": {},
   "outputs": [],
   "source": [
    "staff[staff.organisation_name.str.contains('Trust') & ~staff.organisation.str.startswith('R')]"
   ]
  },
  {
   "cell_type": "code",
   "execution_count": null,
   "metadata": {},
   "outputs": [],
   "source": [
    "[\n",
    "    staff.organisation.str.match(r'^[RT]').sum(),\n",
    "    (~staff.organisation.str.match(r'^[RT]')).sum(),\n",
    "    staff.organisation_name.str.contains('CCG').sum()\n",
    "]"
   ]
  },
  {
   "cell_type": "code",
   "execution_count": null,
   "metadata": {},
   "outputs": [],
   "source": [
    "staff[~staff.organisation.str.match('^[RT]')].head()"
   ]
  },
  {
   "cell_type": "code",
   "execution_count": null,
   "metadata": {},
   "outputs": [],
   "source": [
    "staff_trusts = staff[staff.organisation.str.match(r'^[RT]')]\n",
    "staff_trusts.shape"
   ]
  },
  {
   "cell_type": "markdown",
   "metadata": {},
   "source": [
    "## Staffing Data Sep 2016\n",
    "\n",
    "The same data, but a bit earlier; used for comparison below."
   ]
  },
  {
   "cell_type": "code",
   "execution_count": null,
   "metadata": {},
   "outputs": [],
   "source": [
    "raw_staff_sep_2016 = pd.read_excel(\n",
    "    'input/EU_and_UK_nationals_by_staff_group_and_organisation__September_2016.xlsx',\n",
    "    skiprows=4, skipfooter=23)\n",
    "raw_staff_sep_2016.head()"
   ]
  },
  {
   "cell_type": "code",
   "execution_count": null,
   "metadata": {},
   "outputs": [],
   "source": [
    "raw_staff_sep_2016.tail()"
   ]
  },
  {
   "cell_type": "code",
   "execution_count": null,
   "metadata": {},
   "outputs": [],
   "source": [
    "raw_staff_sep_2016.columns = [\n",
    "    'region_name',\n",
    "    'organisation_name',\n",
    "    'organisation',\n",
    "    'all_staff_eu',\n",
    "    'hchs_doctors_eu',\n",
    "    'nurses_visitors_eu',\n",
    "    'other_eu',\n",
    "    'all_staff_uk',\n",
    "    'hchs_doctors_uk',\n",
    "    'nurses_visitors_uk',\n",
    "    'other_uk',\n",
    "    'blank_11',\n",
    "    'blank_12',\n",
    "]"
   ]
  },
  {
   "cell_type": "code",
   "execution_count": null,
   "metadata": {},
   "outputs": [],
   "source": [
    "raw_staff_sep_2016.head()"
   ]
  },
  {
   "cell_type": "code",
   "execution_count": null,
   "metadata": {},
   "outputs": [],
   "source": [
    "assert raw_staff_sep_2016.organisation_name[raw_staff_sep_2016.shape[0] - 1] == \\\n",
    "    'Yeovil District Hospital NHS Foundation Trust'"
   ]
  },
  {
   "cell_type": "code",
   "execution_count": null,
   "metadata": {},
   "outputs": [],
   "source": [
    "[\n",
    "    raw_staff_sep_2016.blank_11.unique(),\n",
    "    raw_staff_sep_2016.blank_12.unique()\n",
    "]"
   ]
  },
  {
   "cell_type": "code",
   "execution_count": null,
   "metadata": {},
   "outputs": [],
   "source": [
    "raw_staff_sep_2016.drop(columns=['blank_11', 'blank_12'], inplace=True)"
   ]
  },
  {
   "cell_type": "code",
   "execution_count": null,
   "metadata": {},
   "outputs": [],
   "source": [
    "total_staff_sep_2016 = raw_staff_sep_2016[raw_staff_sep_2016.region_name == 'England']\n",
    "raw_staff_sep_2016 = raw_staff_sep_2016[2:]\n",
    "raw_staff_sep_2016.head()"
   ]
  },
  {
   "cell_type": "code",
   "execution_count": null,
   "metadata": {},
   "outputs": [],
   "source": [
    "row_sep_2016_is_region = ~raw_staff_sep_2016.region_name.isna()\n",
    "raw_staff_sep_2016.region_name[row_sep_2016_is_region]"
   ]
  },
  {
   "cell_type": "code",
   "execution_count": null,
   "metadata": {},
   "outputs": [],
   "source": [
    "(raw_staff_sep_2016.region_name[row_sep_2016_is_region].str.strip() != \\\n",
    "     raw_staff_sep_2016.region_name[row_sep_2016_is_region]).sum()"
   ]
  },
  {
   "cell_type": "code",
   "execution_count": null,
   "metadata": {},
   "outputs": [],
   "source": [
    "row_sep_2016_is_region.sum()"
   ]
  },
  {
   "cell_type": "code",
   "execution_count": null,
   "metadata": {},
   "outputs": [],
   "source": [
    "region_staff_sep_2016 = raw_staff_sep_2016[row_sep_2016_is_region].drop(\n",
    "    columns=['organisation_name', 'organisation'])\n",
    "region_staff_sep_2016.head()"
   ]
  },
  {
   "cell_type": "code",
   "execution_count": null,
   "metadata": {},
   "outputs": [],
   "source": [
    "raw_staff_sep_2016.region_name = raw_staff_sep_2016.region_name.fillna(method='ffill')\n",
    "staff_sep_2016 = raw_staff_sep_2016[~row_sep_2016_is_region]\n",
    "staff_sep_2016.head()"
   ]
  },
  {
   "cell_type": "code",
   "execution_count": null,
   "metadata": {},
   "outputs": [],
   "source": [
    "assert row_sep_2016_is_region.sum() == staff_sep_2016.organisation.isna().sum() + 1"
   ]
  },
  {
   "cell_type": "code",
   "execution_count": null,
   "metadata": {},
   "outputs": [],
   "source": [
    "staff_sep_2016 = staff_sep_2016[~staff_sep_2016.organisation.isna()]"
   ]
  },
  {
   "cell_type": "markdown",
   "metadata": {},
   "source": [
    "### Check Staff Data  \n",
    "\n",
    "#### Organisation Code and Name"
   ]
  },
  {
   "cell_type": "code",
   "execution_count": null,
   "metadata": {},
   "outputs": [],
   "source": [
    "[\n",
    "    staff_sep_2016.shape[0],\n",
    "    staff_sep_2016.organisation.nunique(),\n",
    "    staff_sep_2016.organisation_name.nunique(),\n",
    "    staff_sep_2016.organisation.isna().sum(),\n",
    "    staff_sep_2016.organisation_name.isna().sum()\n",
    "]"
   ]
  },
  {
   "cell_type": "code",
   "execution_count": null,
   "metadata": {},
   "outputs": [],
   "source": [
    "[\n",
    "    (staff_sep_2016.organisation.str.strip() != staff_sep_2016.organisation).any(),\n",
    "    (staff_sep_2016.organisation_name.str.strip() != staff_sep_2016.organisation_name).any()\n",
    "]"
   ]
  },
  {
   "cell_type": "markdown",
   "metadata": {},
   "source": [
    "#### Totals\n",
    "\n",
    "The totals in the spreadsheet don't quite match the totals, even at region level. The notes say \"Headcount totals are unlikely to equal the sum of components due to some staff working in more than one role.\""
   ]
  },
  {
   "cell_type": "code",
   "execution_count": null,
   "metadata": {},
   "outputs": [],
   "source": [
    "staff_sep_2016.describe()"
   ]
  },
  {
   "cell_type": "code",
   "execution_count": null,
   "metadata": {},
   "outputs": [],
   "source": [
    "staff_sep_2016.sum()"
   ]
  },
  {
   "cell_type": "code",
   "execution_count": null,
   "metadata": {},
   "outputs": [],
   "source": [
    "total_staff_sep_2016"
   ]
  },
  {
   "cell_type": "code",
   "execution_count": null,
   "metadata": {},
   "outputs": [],
   "source": [
    "staff_sep_2016.groupby('region_name').sum()"
   ]
  },
  {
   "cell_type": "code",
   "execution_count": null,
   "metadata": {},
   "outputs": [],
   "source": [
    "region_staff_sep_2016.sort_values('region_name')"
   ]
  },
  {
   "cell_type": "markdown",
   "metadata": {},
   "source": [
    "### Trusts and CCGs\n",
    "\n",
    "Trusts have IDs that seem to start with R or T."
   ]
  },
  {
   "cell_type": "code",
   "execution_count": null,
   "metadata": {},
   "outputs": [],
   "source": [
    "[\n",
    "    staff_sep_2016.organisation.str.startswith('R').sum(),\n",
    "    staff_sep_2016.organisation.str.startswith('T').sum(),\n",
    "    staff_sep_2016.organisation_name.str.contains('Trust').sum()\n",
    "]"
   ]
  },
  {
   "cell_type": "code",
   "execution_count": null,
   "metadata": {},
   "outputs": [],
   "source": [
    "[\n",
    "    staff_sep_2016.organisation.str.match(r'^[RT]').sum(),\n",
    "    (~staff_sep_2016.organisation.str.match(r'^[RT]')).sum(),\n",
    "    staff_sep_2016.organisation_name.str.contains('CCG').sum()\n",
    "]"
   ]
  },
  {
   "cell_type": "code",
   "execution_count": null,
   "metadata": {},
   "outputs": [],
   "source": [
    "staff_sep_2016_trusts = staff_sep_2016[staff_sep_2016.organisation.str.match(r'^[RT]')]\n",
    "staff_sep_2016_trusts.shape"
   ]
  },
  {
   "cell_type": "markdown",
   "metadata": {},
   "source": [
    "## Staffing Data (September 2009-2016)\n",
    "\n",
    "This dataset should let us get total numbers of staff, but it's a bit older."
   ]
  },
  {
   "cell_type": "code",
   "execution_count": null,
   "metadata": {},
   "outputs": [],
   "source": [
    "staff_sep = pd.read_excel(\n",
    "    'input/Staff_by_staff_group__nationality_and_organisation__September_2009_to_2016.xlsx',\n",
    "    sheet_name='Data')\n",
    "staff_sep.shape"
   ]
  },
  {
   "cell_type": "code",
   "execution_count": null,
   "metadata": {},
   "outputs": [],
   "source": [
    "staff_sep = staff_sep.rename(columns={\n",
    "    'Month': 'month',\n",
    "    'Org code': 'organisation',\n",
    "    'Org name': 'organisation_name',\n",
    "    'Staff group': 'staff_group',\n",
    "    'Nationality': 'nationality',\n",
    "    'FTE': 'fte'\n",
    "})\n",
    "staff_sep.head()"
   ]
  },
  {
   "cell_type": "markdown",
   "metadata": {},
   "source": [
    "### Check Columns\n",
    "\n",
    "#### month"
   ]
  },
  {
   "cell_type": "code",
   "execution_count": null,
   "metadata": {},
   "outputs": [],
   "source": [
    "staff_sep.month.unique()"
   ]
  },
  {
   "cell_type": "code",
   "execution_count": null,
   "metadata": {},
   "outputs": [],
   "source": [
    "staff_sep['year'] = staff_sep.month.str.extract(r'^(\\d+)', expand=False).astype('int32')\n",
    "staff_sep.year.unique()"
   ]
  },
  {
   "cell_type": "markdown",
   "metadata": {},
   "source": [
    "#### organisation"
   ]
  },
  {
   "cell_type": "code",
   "execution_count": null,
   "metadata": {},
   "outputs": [],
   "source": [
    "[\n",
    "    staff_sep.organisation.isna().sum(),\n",
    "    (staff_sep.organisation != staff_sep.organisation.str.strip()).sum(),\n",
    "    (staff_sep.organisation != staff_sep.organisation.str.upper()).sum(),\n",
    "    staff_sep.organisation.unique().shape,\n",
    "    staff_sep.organisation[staff_sep.organisation.str.match(r'^[RT]')].unique().shape\n",
    "]"
   ]
  },
  {
   "cell_type": "code",
   "execution_count": null,
   "metadata": {},
   "outputs": [],
   "source": [
    "staff_sep_trusts = staff_sep.organisation[staff_sep.organisation.str.match(r'^[RT]')].unique()\n",
    "staff_sep_trusts"
   ]
  },
  {
   "cell_type": "code",
   "execution_count": null,
   "metadata": {},
   "outputs": [],
   "source": [
    "[\n",
    "    set(staff_trusts.organisation) - set(staff_sep_trusts),\n",
    "    set(staff_sep_trusts) - set(staff_trusts.organisation)\n",
    "]"
   ]
  },
  {
   "cell_type": "code",
   "execution_count": null,
   "metadata": {},
   "outputs": [],
   "source": [
    "staff[staff.organisation == 'R1L'].head()"
   ]
  },
  {
   "cell_type": "markdown",
   "metadata": {},
   "source": [
    "Apparently R1L was only formed in 2017."
   ]
  },
  {
   "cell_type": "code",
   "execution_count": null,
   "metadata": {},
   "outputs": [],
   "source": [
    "[\n",
    "    set(staff_sep_2016_trusts.organisation) - set(staff_sep_trusts),\n",
    "    set(staff_sep_trusts) - set(staff_sep_2016_trusts.organisation)\n",
    "]"
   ]
  },
  {
   "cell_type": "markdown",
   "metadata": {},
   "source": [
    "#### staff_group"
   ]
  },
  {
   "cell_type": "code",
   "execution_count": null,
   "metadata": {},
   "outputs": [],
   "source": [
    "staff_sep.staff_group.unique()"
   ]
  },
  {
   "cell_type": "markdown",
   "metadata": {},
   "source": [
    "#### nationality\n",
    "\n",
    "Lists of EU and UK nationalities are from `EU_and_UK_nationals_by_staff_group_and_organisation__September_2016`."
   ]
  },
  {
   "cell_type": "code",
   "execution_count": null,
   "metadata": {},
   "outputs": [],
   "source": [
    "staff_sep_nationality = set(staff_sep.nationality)\n",
    "staff_sep_nationality"
   ]
  },
  {
   "cell_type": "code",
   "execution_count": null,
   "metadata": {},
   "outputs": [],
   "source": [
    "EU_NATIONALITIES = [\n",
    "    x.strip()\n",
    "    for x in 'Austrian, Belgian, Bulgarian, Croatian, Cypriot, Czech, Danish, Dutch, Estonian,' \\\n",
    "    ' Finnish, French, German, Greek, Hungarian, Irish, Italian, Latvian, Lithuanian, Luxembourg,' \\\n",
    "    ' Maltese, Polish, Portuguese, Romanian, Slovak, Slovenian, Spanish, Swedish'.split(',')\n",
    "]\n",
    "EU_NATIONALITIES"
   ]
  },
  {
   "cell_type": "code",
   "execution_count": null,
   "metadata": {},
   "outputs": [],
   "source": [
    "UK_NATIONALITIES = [\n",
    "    x.strip()\n",
    "    for x in 'British, English, Northern Irish, Scottish, Welsh'.split(',')\n",
    "]\n",
    "UK_NATIONALITIES"
   ]
  },
  {
   "cell_type": "code",
   "execution_count": null,
   "metadata": {},
   "outputs": [],
   "source": [
    "[\n",
    "    set(EU_NATIONALITIES) - staff_sep_nationality,\n",
    "    set(UK_NATIONALITIES) - staff_sep_nationality\n",
    "]"
   ]
  },
  {
   "cell_type": "markdown",
   "metadata": {},
   "source": [
    "#### fte"
   ]
  },
  {
   "cell_type": "code",
   "execution_count": null,
   "metadata": {},
   "outputs": [],
   "source": [
    "staff_sep.fte.isna().sum()"
   ]
  },
  {
   "cell_type": "code",
   "execution_count": null,
   "metadata": {},
   "outputs": [],
   "source": [
    "staff_sep.fte.describe()"
   ]
  },
  {
   "cell_type": "markdown",
   "metadata": {},
   "source": [
    "### Aggregate"
   ]
  },
  {
   "cell_type": "code",
   "execution_count": null,
   "metadata": {},
   "outputs": [],
   "source": [
    "staff_sep_agg = staff_sep.copy()\n",
    "staff_sep_agg['nationality_group'] = 'other'\n",
    "staff_sep_agg.loc[staff_sep_agg.nationality.isin(EU_NATIONALITIES), 'nationality_group'] = 'eu'\n",
    "staff_sep_agg.loc[staff_sep_agg.nationality.isin(UK_NATIONALITIES), 'nationality_group'] = 'uk'\n",
    "staff_sep_agg.loc[staff_sep_agg.nationality == 'Unknown', 'nationality_group'] = 'unknown'\n",
    "staff_sep_agg.head()"
   ]
  },
  {
   "cell_type": "code",
   "execution_count": null,
   "metadata": {},
   "outputs": [],
   "source": [
    "staff_sep_agg['staff_kind'] = 'other'\n",
    "staff_sep_agg.loc[staff_sep_agg.staff_group == 'HCHS doctors', 'staff_kind'] = 'doctors'\n",
    "staff_sep_agg.loc[staff_sep_agg.staff_group == 'Nurses & health visitors', 'staff_kind'] = 'nurses'\n",
    "staff_sep_agg.head()"
   ]
  },
  {
   "cell_type": "code",
   "execution_count": null,
   "metadata": {},
   "outputs": [],
   "source": [
    "staff_sep_fte = staff_sep_agg.groupby(\n",
    "    ['year', 'organisation', 'organisation_name', 'nationality_group', 'staff_kind']\n",
    ").fte.sum().reset_index()\n",
    "staff_sep_fte.head()"
   ]
  },
  {
   "cell_type": "code",
   "execution_count": null,
   "metadata": {},
   "outputs": [],
   "source": [
    "staff_sep_fte_trusts = staff_sep_fte[staff_sep_fte.organisation.str.match(r'^[RT]')]\n",
    "staff_sep_fte_trusts.head()"
   ]
  },
  {
   "cell_type": "code",
   "execution_count": null,
   "metadata": {},
   "outputs": [],
   "source": [
    "staff_sep_2016_sub = staff_sep_fte_trusts[staff_sep_fte_trusts.year == 2016].drop('year', axis=1)\n",
    "\n",
    "staff_sep_2016_total = staff_sep_2016_sub.pivot_table(\n",
    "    values='fte',\n",
    "    index='nationality_group',\n",
    "    columns='staff_kind',\n",
    "    aggfunc=np.sum,\n",
    "    margins=True\n",
    ")\n",
    "staff_sep_2016_total"
   ]
  },
  {
   "cell_type": "code",
   "execution_count": null,
   "metadata": {},
   "outputs": [],
   "source": [
    "total_staff_sep_2016"
   ]
  },
  {
   "cell_type": "code",
   "execution_count": null,
   "metadata": {},
   "outputs": [],
   "source": [
    "staff_sep_2016_estimated = staff_sep_2016_sub.copy()\n",
    "staff_sep_2016_estimated['nationality_kind'] = 'non_eu'\n",
    "staff_sep_2016_estimated.loc[\n",
    "    staff_sep_2016_estimated.nationality_group == 'eu', 'nationality_kind'] = 'eu'\n",
    "staff_sep_2016_estimated.loc[\n",
    "    staff_sep_2016_estimated.nationality_group == 'unknown', 'nationality_kind'] = 'unknown'\n",
    "\n",
    "staff_sep_2016_estimated = staff_sep_2016_estimated.groupby([\n",
    "    'organisation', 'organisation_name', 'staff_kind', 'nationality_kind'\n",
    "]).fte.sum().reset_index()\n",
    "\n",
    "staff_sep_2016_estimated = staff_sep_2016_estimated.pivot_table(\n",
    "    values='fte',\n",
    "    index=['organisation', 'organisation_name', 'staff_kind'],\n",
    "    columns='nationality_kind',\n",
    "    aggfunc=np.sum,\n",
    "    fill_value=0.0\n",
    ")\n",
    "\n",
    "staff_sep_2016_estimated['known'] = \\\n",
    "    staff_sep_2016_estimated.eu + \\\n",
    "    staff_sep_2016_estimated.non_eu\n",
    "\n",
    "# Rescale to remove unknowns (assume missing at random).\n",
    "staff_sep_2016_estimated.eu += \\\n",
    "    staff_sep_2016_estimated.unknown * (staff_sep_2016_estimated.eu / staff_sep_2016_estimated.known)\n",
    "staff_sep_2016_estimated.non_eu += \\\n",
    "    staff_sep_2016_estimated.unknown * (staff_sep_2016_estimated.non_eu / staff_sep_2016_estimated.known)\n",
    "\n",
    "staff_sep_2016_estimated.drop('known', axis=1, inplace=True)\n",
    "staff_sep_2016_estimated.drop('unknown', axis=1, inplace=True)\n",
    "\n",
    "staff_sep_2016_estimated.eu = round(staff_sep_2016_estimated.eu)\n",
    "staff_sep_2016_estimated.non_eu = round(staff_sep_2016_estimated.non_eu)\n",
    "\n",
    "staff_sep_2016_estimated = staff_sep_2016_estimated.unstack()\n",
    "staff_sep_2016_estimated.columns = ['_'.join(col).strip() for col in staff_sep_2016_estimated.columns.values]\n",
    "staff_sep_2016_estimated.reset_index(inplace=True)\n",
    "staff_sep_2016_estimated.head()"
   ]
  },
  {
   "cell_type": "code",
   "execution_count": null,
   "metadata": {},
   "outputs": [],
   "source": [
    "staff_sep_2016_trusts.sort_values('organisation')[[\n",
    "    'organisation', 'hchs_doctors_eu', 'nurses_visitors_eu', 'other_eu',\n",
    "    'hchs_doctors_uk', 'nurses_visitors_uk', 'other_uk'\n",
    "]].head()"
   ]
  },
  {
   "cell_type": "markdown",
   "metadata": {},
   "source": [
    "The 'other' counts seem to be consistently lower. I wonder whether that's because of headcount in `staff_sep_2016` vs FTEs in `staff_sep`?"
   ]
  },
  {
   "cell_type": "markdown",
   "metadata": {},
   "source": [
    "### Staff Levels Over Time"
   ]
  },
  {
   "cell_type": "code",
   "execution_count": null,
   "metadata": {},
   "outputs": [],
   "source": [
    "staff_sep_agg.groupby(['year', 'nationality_group']).aggregate({'fte': sum}).unstack().plot()"
   ]
  },
  {
   "cell_type": "markdown",
   "metadata": {},
   "source": [
    "## Postcodes (nhs.uk data)\n",
    "\n",
    "https://www.nhs.uk/about-us/nhs-website-datasets/\n",
    "\n",
    "In particular:\n",
    "\n",
    "http://media.nhschoices.nhs.uk/data/foi/Hospital.csv"
   ]
  },
  {
   "cell_type": "code",
   "execution_count": null,
   "metadata": {},
   "outputs": [],
   "source": [
    "hospitals = pd.read_csv('input/Hospital.csv', encoding='ISO-8859-1', sep='\\xAC', engine='python')\n",
    "hospitals.head()"
   ]
  },
  {
   "cell_type": "markdown",
   "metadata": {},
   "source": [
    "### Check Columns\n",
    "#### OrganisationCode"
   ]
  },
  {
   "cell_type": "code",
   "execution_count": null,
   "metadata": {},
   "outputs": [],
   "source": [
    "[\n",
    "    hospitals.shape,\n",
    "    hospitals.OrganisationCode.isna().sum(),\n",
    "    hospitals.OrganisationCode.str.len().unique()\n",
    "]"
   ]
  },
  {
   "cell_type": "markdown",
   "metadata": {},
   "source": [
    "#### OrganisationType and SubType"
   ]
  },
  {
   "cell_type": "code",
   "execution_count": null,
   "metadata": {},
   "outputs": [],
   "source": [
    "[\n",
    "    hospitals.OrganisationType.isna().sum(),\n",
    "    hospitals.OrganisationType.unique(),\n",
    "    hospitals.SubType.isna().sum(),\n",
    "    hospitals.SubType.unique()\n",
    "]"
   ]
  },
  {
   "cell_type": "code",
   "execution_count": null,
   "metadata": {},
   "outputs": [],
   "source": [
    "hospitals.SubType.value_counts()"
   ]
  },
  {
   "cell_type": "markdown",
   "metadata": {},
   "source": [
    "#### Sector"
   ]
  },
  {
   "cell_type": "code",
   "execution_count": null,
   "metadata": {},
   "outputs": [],
   "source": [
    "[\n",
    "    hospitals.Sector.isna().sum(),\n",
    "    hospitals.Sector.unique()\n",
    "]"
   ]
  },
  {
   "cell_type": "code",
   "execution_count": null,
   "metadata": {},
   "outputs": [],
   "source": [
    "hospitals.Sector.value_counts()"
   ]
  },
  {
   "cell_type": "markdown",
   "metadata": {},
   "source": [
    "#### OrganisationStatus"
   ]
  },
  {
   "cell_type": "code",
   "execution_count": null,
   "metadata": {},
   "outputs": [],
   "source": [
    "[\n",
    "    hospitals.OrganisationStatus.isna().sum(),\n",
    "    hospitals.OrganisationStatus.unique()\n",
    "]"
   ]
  },
  {
   "cell_type": "markdown",
   "metadata": {},
   "source": [
    "#### IsPimsManaged"
   ]
  },
  {
   "cell_type": "code",
   "execution_count": null,
   "metadata": {},
   "outputs": [],
   "source": [
    "[\n",
    "    hospitals.IsPimsManaged.isna().sum(),\n",
    "    hospitals.IsPimsManaged.unique(),\n",
    "    hospitals.IsPimsManaged.value_counts()\n",
    "]"
   ]
  },
  {
   "cell_type": "markdown",
   "metadata": {},
   "source": [
    "#### OrganisationName"
   ]
  },
  {
   "cell_type": "code",
   "execution_count": null,
   "metadata": {},
   "outputs": [],
   "source": [
    "[\n",
    "    hospitals.OrganisationName.isna().sum(),\n",
    "    (hospitals.OrganisationName != hospitals.OrganisationName.str.strip()).sum()\n",
    "]"
   ]
  },
  {
   "cell_type": "code",
   "execution_count": null,
   "metadata": {},
   "outputs": [],
   "source": [
    "hospitals.OrganisationName = hospitals.OrganisationName.str.strip()"
   ]
  },
  {
   "cell_type": "markdown",
   "metadata": {},
   "source": [
    "#### Postcode\n",
    "\n",
    "Fairly clean. We do have latitude and longitude for the missing ones, but for now let's leave them out."
   ]
  },
  {
   "cell_type": "code",
   "execution_count": null,
   "metadata": {},
   "outputs": [],
   "source": [
    "ukpostcodes = pd.read_csv('../postcodes/input/ukpostcodes.csv.gz')\n",
    "ukpostcodes.shape"
   ]
  },
  {
   "cell_type": "code",
   "execution_count": null,
   "metadata": {},
   "outputs": [],
   "source": [
    "hospitals.Postcode.isin(ukpostcodes.postcode).sum()"
   ]
  },
  {
   "cell_type": "code",
   "execution_count": null,
   "metadata": {},
   "outputs": [],
   "source": [
    "hospitals['postcode'] = hospitals.Postcode.\\\n",
    "    str.upper().\\\n",
    "    str.strip().\\\n",
    "    str.replace(r'[^A-Z0-9]', '').\\\n",
    "    str.replace(r'^(\\S+)([0-9][A-Z]{2})$', r'\\1 \\2')"
   ]
  },
  {
   "cell_type": "code",
   "execution_count": null,
   "metadata": {},
   "outputs": [],
   "source": [
    "hospitals.postcode.isin(ukpostcodes.postcode).sum()"
   ]
  },
  {
   "cell_type": "code",
   "execution_count": null,
   "metadata": {},
   "outputs": [],
   "source": [
    "hospitals.postcode[~hospitals.postcode.isin(ukpostcodes.postcode)].unique()"
   ]
  },
  {
   "cell_type": "markdown",
   "metadata": {},
   "source": [
    "#### ParentODSCode\n",
    "\n",
    "Many of the missing are private. We also seem to be missing Manchester (R0A)."
   ]
  },
  {
   "cell_type": "code",
   "execution_count": null,
   "metadata": {},
   "outputs": [],
   "source": [
    "[\n",
    "    hospitals.ParentODSCode.isna().sum(),\n",
    "    (hospitals.ParentODSCode != hospitals.ParentODSCode.str.upper()).sum(),\n",
    "    (hospitals.ParentODSCode != hospitals.ParentODSCode.str.strip()).sum()\n",
    "]"
   ]
  },
  {
   "cell_type": "code",
   "execution_count": null,
   "metadata": {},
   "outputs": [],
   "source": [
    "hospitals.ParentODSCode.isin(staff.organisation).sum()"
   ]
  },
  {
   "cell_type": "code",
   "execution_count": null,
   "metadata": {},
   "outputs": [],
   "source": [
    "tmp = hospitals[~hospitals.ParentODSCode.isin(staff.organisation)]\n",
    "tmp[~tmp.ParentODSCode.duplicated()]"
   ]
  },
  {
   "cell_type": "markdown",
   "metadata": {},
   "source": [
    "#### Website\n",
    "\n",
    "Probably not that helpful, but see what we have."
   ]
  },
  {
   "cell_type": "code",
   "execution_count": null,
   "metadata": {},
   "outputs": [],
   "source": [
    "[\n",
    "    hospitals.Website.isna().sum()\n",
    "]"
   ]
  },
  {
   "cell_type": "markdown",
   "metadata": {},
   "source": [
    "#### Tidy Up Columns"
   ]
  },
  {
   "cell_type": "code",
   "execution_count": null,
   "metadata": {},
   "outputs": [],
   "source": [
    "clean_hospitals = hospitals[[\n",
    "    'OrganisationCode',\n",
    "    'ParentODSCode',\n",
    "    'OrganisationName',\n",
    "    'postcode',\n",
    "    'SubType',\n",
    "    'Sector',\n",
    "    'IsPimsManaged',\n",
    "]].rename(columns={\n",
    "    'OrganisationCode': 'hospital_organisation',\n",
    "    'ParentODSCode': 'organisation',\n",
    "    'OrganisationName': 'hospital_name',\n",
    "    'SubType': 'sub_type',\n",
    "    'Sector': 'sector',\n",
    "    'IsPimsManaged': 'is_pims_managed',\n",
    "})\n",
    "clean_hospitals = clean_hospitals[clean_hospitals.postcode.isin(ukpostcodes.postcode)].copy()\n",
    "clean_hospitals.head()"
   ]
  },
  {
   "cell_type": "markdown",
   "metadata": {},
   "source": [
    "## Postcodes (etrust)"
   ]
  },
  {
   "cell_type": "code",
   "execution_count": null,
   "metadata": {},
   "outputs": [],
   "source": [
    "etrust_column_names = [\n",
    "    'organisation_code', 'name', 'national_grouping', 'high_level_health_geography',\n",
    "    'address_1', 'address_2', 'address_3', 'address_4', 'address_5', 'raw_postcode',\n",
    "    'open_date', 'close_date', 'null_13', 'null_14', 'null_15', 'null_16', 'null_17',\n",
    "    'contact_telephone_number', 'null_19', 'null_20', 'null_21',\n",
    "    'amended_record_indicator', 'null_23', 'gor_code', 'null_25', 'null_26', 'null_27'\n",
    "]\n",
    "etrust = pd.read_csv(\n",
    "    'input/etrust.csv.gz', names=etrust_column_names, low_memory=False,\n",
    "    dtype={'open_date': object, 'close_date': object})\n",
    "etrust.head()"
   ]
  },
  {
   "cell_type": "code",
   "execution_count": null,
   "metadata": {},
   "outputs": [],
   "source": [
    "etrust.shape"
   ]
  },
  {
   "cell_type": "code",
   "execution_count": null,
   "metadata": {},
   "outputs": [],
   "source": [
    "etrust_null_columns = [name for name in etrust_column_names if name.startswith('null_')]\n",
    "etrust_null_counts = [\n",
    "    etrust[column].isna().sum()\n",
    "    for column in etrust_null_columns\n",
    "]\n",
    "assert len(set(etrust_null_counts)) == 1\n",
    "assert etrust.shape[0] == etrust_null_counts[0]"
   ]
  },
  {
   "cell_type": "code",
   "execution_count": null,
   "metadata": {},
   "outputs": [],
   "source": [
    "etrust.drop(columns=etrust_null_columns, inplace=True)\n",
    "etrust.head()"
   ]
  },
  {
   "cell_type": "markdown",
   "metadata": {},
   "source": [
    "### Check Organisation Codes"
   ]
  },
  {
   "cell_type": "code",
   "execution_count": null,
   "metadata": {},
   "outputs": [],
   "source": [
    "[\n",
    "    etrust.organisation_code.isna().sum(),\n",
    "    (etrust.organisation_code.str.strip() != etrust.organisation_code).sum(),\n",
    "    (etrust.organisation_code.str.upper() != etrust.organisation_code).sum()\n",
    "]"
   ]
  },
  {
   "cell_type": "code",
   "execution_count": null,
   "metadata": {},
   "outputs": [],
   "source": [
    "etrust_organisation_codes = set(etrust.organisation_code)\n",
    "[\n",
    "    etrust.shape,\n",
    "    len(etrust_organisation_codes),\n",
    "    set([len(code) for code in etrust_organisation_codes]),\n",
    "    len([code for code in etrust_organisation_codes if code.startswith('R')])\n",
    "]"
   ]
  },
  {
   "cell_type": "code",
   "execution_count": null,
   "metadata": {},
   "outputs": [],
   "source": [
    "etrust_organisation_codes_3 = set([\n",
    "    code\n",
    "    for code in etrust_organisation_codes\n",
    "    if len(code) == 3\n",
    "])\n",
    "[len(etrust_organisation_codes_3), list(etrust_organisation_codes_3)[0:10]]"
   ]
  },
  {
   "cell_type": "code",
   "execution_count": null,
   "metadata": {},
   "outputs": [],
   "source": [
    "[\n",
    "    staff.organisation.isin(etrust_organisation_codes).sum(),\n",
    "    (staff.organisation.str.startswith('R') & ~staff.organisation.isin(etrust_organisation_codes)).sum()\n",
    "]"
   ]
  },
  {
   "cell_type": "markdown",
   "metadata": {},
   "source": [
    "The code prefixes should also match up. "
   ]
  },
  {
   "cell_type": "code",
   "execution_count": null,
   "metadata": {},
   "outputs": [],
   "source": [
    "etrust['organisation'] = etrust.organisation_code.str[0:3]\n",
    "etrust.organisation.head()"
   ]
  },
  {
   "cell_type": "code",
   "execution_count": null,
   "metadata": {},
   "outputs": [],
   "source": [
    "etrust_organisations = set(etrust.organisation)\n",
    "[len(etrust_organisation_codes_3), list(etrust_organisations)[0:10]]"
   ]
  },
  {
   "cell_type": "code",
   "execution_count": null,
   "metadata": {},
   "outputs": [],
   "source": [
    "[\n",
    "    etrust_organisations - etrust_organisation_codes_3,\n",
    "    etrust_organisation_codes_3 - etrust_organisations\n",
    "] "
   ]
  },
  {
   "cell_type": "code",
   "execution_count": null,
   "metadata": {},
   "outputs": [],
   "source": [
    "etrust[etrust.organisation == 'RER']"
   ]
  },
  {
   "cell_type": "markdown",
   "metadata": {},
   "source": [
    "### Check Postcodes"
   ]
  },
  {
   "cell_type": "code",
   "execution_count": null,
   "metadata": {},
   "outputs": [],
   "source": [
    "etrust.raw_postcode.isin(ukpostcodes.postcode).sum()"
   ]
  },
  {
   "cell_type": "code",
   "execution_count": null,
   "metadata": {},
   "outputs": [],
   "source": [
    "etrust['postcode'] = etrust.raw_postcode.\\\n",
    "    str.upper().\\\n",
    "    str.strip().\\\n",
    "    str.replace(r'[^A-Z0-9]', '').\\\n",
    "    str.replace(r'^(\\S+)([0-9][A-Z]{2})$', r'\\1 \\2')"
   ]
  },
  {
   "cell_type": "code",
   "execution_count": null,
   "metadata": {},
   "outputs": [],
   "source": [
    "etrust.postcode.isin(ukpostcodes.postcode).sum()"
   ]
  },
  {
   "cell_type": "code",
   "execution_count": null,
   "metadata": {},
   "outputs": [],
   "source": [
    "etrust.raw_postcode[~etrust.postcode.isin(ukpostcodes.postcode)].unique()"
   ]
  },
  {
   "cell_type": "markdown",
   "metadata": {},
   "source": [
    "Spot checks: all the ones I checked were discontinued postcodes."
   ]
  },
  {
   "cell_type": "markdown",
   "metadata": {},
   "source": [
    "### Closed Facilities"
   ]
  },
  {
   "cell_type": "code",
   "execution_count": null,
   "metadata": {},
   "outputs": [],
   "source": [
    "[\n",
    "    etrust.shape,\n",
    "    etrust.close_date.isna().sum()\n",
    "]"
   ]
  },
  {
   "cell_type": "code",
   "execution_count": null,
   "metadata": {},
   "outputs": [],
   "source": [
    "clean_etrust = etrust[\n",
    "    etrust.close_date.isna() & ~etrust.postcode.isna() &\n",
    "    etrust.name.str.contains('HOSPITAL') &\n",
    "    (etrust.organisation_code != etrust.organisation) &\n",
    "    etrust.postcode.isin(ukpostcodes.postcode)\n",
    "].drop(columns='raw_postcode')\n",
    "clean_etrust.shape"
   ]
  },
  {
   "cell_type": "code",
   "execution_count": null,
   "metadata": {},
   "outputs": [],
   "source": [
    "clean_etrust[clean_etrust.postcode == 'SE5 9RS']"
   ]
  },
  {
   "cell_type": "markdown",
   "metadata": {},
   "source": [
    "## Merge `etrust` Postcodes\n",
    "\n",
    "Take non-closed facilities with valid postcodes.\n",
    "\n",
    "There are a lot of duplicates, e.g. `SE5 9RS` belongs to `RJZ` and `RJ7`, and at trust scale the postcodes also repeat. For the prototype, ignore them."
   ]
  },
  {
   "cell_type": "code",
   "execution_count": null,
   "metadata": {},
   "outputs": [],
   "source": [
    "etrust_hospital_postcodes = pd.merge(\n",
    "    staff[['organisation']],\n",
    "    clean_etrust[['organisation', 'postcode', 'name']],\n",
    "    validate='1:m'\n",
    ").sort_values(['organisation', 'postcode', 'name']).drop_duplicates()\n",
    "etrust_hospital_postcodes.shape"
   ]
  },
  {
   "cell_type": "code",
   "execution_count": null,
   "metadata": {},
   "outputs": [],
   "source": [
    "etrust_hospital_postcodes.head()"
   ]
  },
  {
   "cell_type": "markdown",
   "metadata": {},
   "source": [
    "## Merge `nhs.uk` Postcodes"
   ]
  },
  {
   "cell_type": "code",
   "execution_count": null,
   "metadata": {},
   "outputs": [],
   "source": [
    "hospital_postcodes = pd.merge(\n",
    "    staff_sep_2016_estimated[['organisation']],\n",
    "    clean_hospitals[['organisation', 'postcode', 'hospital_organisation', 'hospital_name']],\n",
    "    validate='1:m'\n",
    ").sort_values(['organisation', 'postcode', 'hospital_organisation', 'hospital_name'])\n",
    "hospital_postcodes.shape"
   ]
  },
  {
   "cell_type": "code",
   "execution_count": null,
   "metadata": {},
   "outputs": [],
   "source": [
    "hospital_postcodes.head()"
   ]
  },
  {
   "cell_type": "code",
   "execution_count": null,
   "metadata": {},
   "outputs": [],
   "source": [
    "(~hospital_postcodes.organisation.str.match(r'^[RT]')).sum()"
   ]
  },
  {
   "cell_type": "markdown",
   "metadata": {},
   "source": [
    "## Save Data"
   ]
  },
  {
   "cell_type": "code",
   "execution_count": null,
   "metadata": {},
   "outputs": [],
   "source": [
    "staff_sep_2016_estimated.to_pickle('output/staff.pkl.gz')"
   ]
  },
  {
   "cell_type": "code",
   "execution_count": null,
   "metadata": {},
   "outputs": [],
   "source": [
    "hospital_postcodes.to_pickle('output/hospital_postcodes.pkl.gz')"
   ]
  }
 ],
 "metadata": {
  "kernelspec": {
   "display_name": "Python 3",
   "language": "python",
   "name": "python3"
  },
  "language_info": {
   "codemirror_mode": {
    "name": "ipython",
    "version": 3
   },
   "file_extension": ".py",
   "mimetype": "text/x-python",
   "name": "python",
   "nbconvert_exporter": "python",
   "pygments_lexer": "ipython3",
   "version": "3.6.5"
  }
 },
 "nbformat": 4,
 "nbformat_minor": 2
}
