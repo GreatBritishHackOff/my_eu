{
 "cells": [
  {
   "cell_type": "code",
   "execution_count": null,
   "metadata": {},
   "outputs": [],
   "source": [
    "import numpy as np\n",
    "import pandas as pd\n",
    "\n",
    "pd.set_option('display.max_columns', 50)"
   ]
  },
  {
   "cell_type": "code",
   "execution_count": null,
   "metadata": {},
   "outputs": [],
   "source": [
    "postcodes = pd.read_csv('../postcodes/input/National_Statistics_Postcode_Lookup_UK.csv.gz')\n",
    "postcodes.head()"
   ]
  },
  {
   "cell_type": "markdown",
   "metadata": {},
   "source": [
    "### Pick One Postcode\n",
    "\n",
    "The three postcode fields differ in their spacing. It looks like `Postcode 3` matches the My EU definition of a 'clean' postcode."
   ]
  },
  {
   "cell_type": "code",
   "execution_count": null,
   "metadata": {},
   "outputs": [],
   "source": [
    "postcodes['postcode'] = postcodes['Postcode 1'].\\\n",
    "    str.upper().\\\n",
    "    str.strip().\\\n",
    "    str.replace(r'[^A-Z0-9]', '').\\\n",
    "    str.replace(r'^(\\S+)([0-9][A-Z]{2})$', r'\\1 \\2')\n",
    "assert not np.any(postcodes['postcode'] != postcodes['Postcode 3'])"
   ]
  },
  {
   "cell_type": "markdown",
   "metadata": {},
   "source": [
    "### Save Useful Fields"
   ]
  },
  {
   "cell_type": "code",
   "execution_count": null,
   "metadata": {},
   "outputs": [],
   "source": [
    "output_postcodes = postcodes[[\n",
    "    'Postcode 3',\n",
    "    'Parliamentary Constituency Code',\n",
    "    'Parliamentary Constituency Name',\n",
    "    'Latitude',\n",
    "    'Longitude'\n",
    "]].rename(columns={\n",
    "    'Postcode 3': 'postcode',\n",
    "    'Parliamentary Constituency Code': 'parliamentary_constituency_code',\n",
    "    'Parliamentary Constituency Name': 'parliamentary_constituency_name',\n",
    "    'Latitude': 'latitude',\n",
    "    'Longitude': 'longitude'\n",
    "})\n",
    "output_postcodes.head()"
   ]
  },
  {
   "cell_type": "code",
   "execution_count": null,
   "metadata": {},
   "outputs": [],
   "source": [
    "output_postcodes.sort_values('postcode', inplace=True)\n",
    "assert output_postcodes.shape[0] == output_postcodes.postcode.unique().shape[0]"
   ]
  },
  {
   "cell_type": "code",
   "execution_count": null,
   "metadata": {},
   "outputs": [],
   "source": [
    "output_postcodes.count()"
   ]
  },
  {
   "cell_type": "code",
   "execution_count": null,
   "metadata": {},
   "outputs": [],
   "source": [
    "output_postcodes.to_pickle('output/postcode_lookup.pkl.gz')"
   ]
  },
  {
   "cell_type": "code",
   "execution_count": null,
   "metadata": {},
   "outputs": [],
   "source": []
  }
 ],
 "metadata": {
  "kernelspec": {
   "display_name": "Python 3",
   "language": "python",
   "name": "python3"
  },
  "language_info": {
   "codemirror_mode": {
    "name": "ipython",
    "version": 3
   },
   "file_extension": ".py",
   "mimetype": "text/x-python",
   "name": "python",
   "nbconvert_exporter": "python",
   "pygments_lexer": "ipython3",
   "version": "3.6.5"
  }
 },
 "nbformat": 4,
 "nbformat_minor": 2
}
