{
 "cells": [
  {
   "cell_type": "code",
   "execution_count": null,
   "metadata": {},
   "outputs": [],
   "source": [
    "import json\n",
    "import math\n",
    "\n",
    "import pandas as pd\n",
    "import numpy as np\n",
    "import folium"
   ]
  },
  {
   "cell_type": "code",
   "execution_count": null,
   "metadata": {},
   "outputs": [],
   "source": [
    "funding = pd.read_excel('data/ESF and ERDF operations funding - approved to May 2018.xlsx', skiprows=7, )"
   ]
  },
  {
   "cell_type": "code",
   "execution_count": null,
   "metadata": {},
   "outputs": [],
   "source": [
    "#Drop extra columns, and space between rows\n",
    "funding = funding[~funding['Programme '].isnull()]\n",
    "funding = funding[funding['Operation Name'] !='Operation Name']\n"
   ]
  },
  {
   "cell_type": "code",
   "execution_count": null,
   "metadata": {},
   "outputs": [],
   "source": [
    "#Add missing column names\n",
    "funding = funding.rename(index=str, columns={\"Categories of Intervention\": \"NUTS Area (Operation Only)\", \"Unnamed: 11\": \"Intervention Field 1 (ERDF & ESF)\", \"Unnamed: 12\": \"Intervention Field 2 (ERDF Only)\", \"Unnamed: 13\": \"Intervention Field 3 (ERDF Only)\", \"Unnamed: 14\": \"Form of Finance\", \"Unnamed: 15\": \"Territory Type\", \"Unnamed: 16\": \"Economic Activity\"})\n",
    "funding.head()"
   ]
  },
  {
   "cell_type": "code",
   "execution_count": null,
   "metadata": {},
   "outputs": [],
   "source": [
    "funding.columns"
   ]
  },
  {
   "cell_type": "code",
   "execution_count": null,
   "metadata": {},
   "outputs": [],
   "source": [
    "funding['postcode'] = funding['Postcode '].str.strip().str.replace(' ', '').str.replace('.', '').str.upper()"
   ]
  },
  {
   "cell_type": "code",
   "execution_count": null,
   "metadata": {},
   "outputs": [],
   "source": [
    "postcodes = pd.read_csv('data/ukpostcodes.csv')"
   ]
  },
  {
   "cell_type": "code",
   "execution_count": null,
   "metadata": {},
   "outputs": [],
   "source": [
    "postcodes['postcode'] = postcodes.postcode.str.strip().str.replace(' ', '')"
   ]
  },
  {
   "cell_type": "code",
   "execution_count": null,
   "metadata": {},
   "outputs": [],
   "source": [
    "funding.merge(postcodes, left_on=['postcode'], right_on='postcode').shape"
   ]
  },
  {
   "cell_type": "code",
   "execution_count": null,
   "metadata": {},
   "outputs": [],
   "source": [
    "funding[~funding.postcode.isin(postcodes.postcode)].shape"
   ]
  },
  {
   "cell_type": "code",
   "execution_count": null,
   "metadata": {},
   "outputs": [],
   "source": [
    "funding[~funding.postcode.isin(postcodes.postcode)]"
   ]
  },
  {
   "cell_type": "code",
   "execution_count": null,
   "metadata": {},
   "outputs": [],
   "source": []
  },
  {
   "cell_type": "code",
   "execution_count": null,
   "metadata": {},
   "outputs": [],
   "source": [
    "funding = funding.merge(postcodes)\n",
    "funding.head()"
   ]
  },
  {
   "cell_type": "code",
   "execution_count": null,
   "metadata": {},
   "outputs": [],
   "source": [
    "funding['postcode'].unique().shape"
   ]
  },
  {
   "cell_type": "code",
   "execution_count": null,
   "metadata": {},
   "outputs": [],
   "source": [
    "def make_scotland_data_geo_json(coordis_data):\n",
    "    def make_feature(row):\n",
    "        properties = {\n",
    "            property: row[property]\n",
    "            for property in ['Operation Name', 'Description', 'ESF/ ERDF Grant requested', 'Total eligible expenditure',  'Start and end dates',\n",
    "                             'Investment Priority']\n",
    "            if str(row[property]) != 'nan'\n",
    "        }\n",
    "        return {\n",
    "            'type': 'Feature',\n",
    "            'geometry': {\n",
    "                \"type\": \"Point\",\n",
    "                \"coordinates\": [row['latitude'], row['longitude']]\n",
    "            },\n",
    "            'properties': properties\n",
    "        }\n",
    "    features = list(coordis_data.apply(make_feature, axis=1))\n",
    "    return { 'type': 'FeatureCollection', 'features': features }\n",
    "with open('data/scotland_data.geo.json', 'w') as file:\n",
    "    json.dump(make_scotland_data_geo_json(\n",
    "        funding[~pd.isnull(funding['latitude'])]\n",
    "    ), file, sort_keys=True)"
   ]
  },
  {
   "cell_type": "markdown",
   "metadata": {},
   "source": [
    "mapit = folium.Map(location=[51.50810, -0.14077], zoom_start=8 )\n",
    "for institute in funding.itertuples():\n",
    "    if not pd.isnull(institute[20]):\n",
    "        folium.Marker(location=[ institute[20], institute[21] ]).add_to(mapit)\n",
    "mapit"
   ]
  },
  {
   "cell_type": "code",
   "execution_count": null,
   "metadata": {},
   "outputs": [],
   "source": []
  }
 ],
 "metadata": {
  "kernelspec": {
   "display_name": "Python 3",
   "language": "python",
   "name": "python3"
  },
  "language_info": {
   "codemirror_mode": {
    "name": "ipython",
    "version": 3
   },
   "file_extension": ".py",
   "mimetype": "text/x-python",
   "name": "python",
   "nbconvert_exporter": "python",
   "pygments_lexer": "ipython3",
   "version": "3.6.5"
  }
 },
 "nbformat": 4,
 "nbformat_minor": 2
}
